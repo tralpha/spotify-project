{
 "cells": [
  {
   "cell_type": "code",
   "execution_count": 69,
   "metadata": {},
   "outputs": [],
   "source": [
    "import os\n",
    "import json\n",
    "import pandas as pd\n",
    "import numpy as np\n",
    "import scipy as sp\n",
    "from tqdm import tqdm_notebook as tqdm\n",
    "from sklearn.model_selection import train_test_split\n",
    "from sklearn.linear_model import LogisticRegression\n",
    "\n",
    "# Metrics obtained from an organizer of the Challenge\n",
    "# https://github.com/plamere/RecsysChallengeTools/blob/master/metrics.py\n",
    "from metrics import r_precision\n",
    "import matplotlib\n",
    "import matplotlib.pyplot as plt\n",
    "%matplotlib inline"
   ]
  },
  {
   "cell_type": "code",
   "execution_count": 2,
   "metadata": {},
   "outputs": [
    {
     "name": "stdout",
     "output_type": "stream",
     "text": [
      "mpd.slice.0-999.json\n",
      "mpd.slice.1000-1999.json\n"
     ]
    }
   ],
   "source": [
    "playlists = list()\n",
    "tracks = dict()\n",
    "map_pl = list()\n",
    "\n",
    "max_files_for_quick_processing = 1\n",
    "\n",
    "\n",
    "def process_track(track):\n",
    "    key = track['track_uri']\n",
    "    if not key in tracks:\n",
    "        tk = dict()\n",
    "        tk['track_artist_name'] = track['artist_name']\n",
    "        tk['track_artist_uri'] = track['artist_uri']\n",
    "        tk['track_name'] = track['track_name']\n",
    "        tk['track_album_uri'] = track['album_uri']\n",
    "        tk['track_duration_ms'] = track['duration_ms']\n",
    "        tk['track_album_name'] = track['album_name']\n",
    "        tracks[track['track_uri']] = tk\n",
    "    return key\n",
    "\n",
    "\n",
    "def process_playlist(playlist):\n",
    "    pl = dict()\n",
    "    pl['playlist_name'] = playlist['name']\n",
    "    pl['playlist_collaborative'] = playlist['collaborative']\n",
    "    pl['playlist_pid'] = playlist['pid']\n",
    "    pl['playlist_modified_at'] = playlist['modified_at']\n",
    "    pl['playlist_num_albums'] = playlist['num_albums']\n",
    "    pl['playlist_num_tracks'] = playlist['num_tracks']\n",
    "    pl['playlist_num_followers'] = playlist['num_followers']\n",
    "    pl['playlist_num_edits'] = playlist['num_edits']\n",
    "    pl['playlist_duration_ms'] = playlist['duration_ms']\n",
    "    pl['playlist_num_artists'] = playlist['num_artists']\n",
    "    if 'description' in playlist:\n",
    "        pl['playlist_description'] = playlist['description']\n",
    "    else:\n",
    "        pl['playlist_description'] = None\n",
    "    trks = list()\n",
    "    for track in playlist['tracks']:\n",
    "        map_pl.append([playlist['pid'], track['track_uri']])\n",
    "        trks.append(track['track_uri'])\n",
    "        process_track(track)\n",
    "    return pl\n",
    "\n",
    "def process_mpd(path):\n",
    "    count = 0\n",
    "    filenames = os.listdir(path)\n",
    "    for filename in sorted(filenames):\n",
    "        print(filename)\n",
    "        if filename.startswith(\"mpd.slice.\") and filename.endswith(\".json\"):\n",
    "            fullpath = os.sep.join((path, filename))\n",
    "            f = open(fullpath)\n",
    "            js = f.read()\n",
    "            f.close()\n",
    "            slice = json.loads(js)\n",
    "            for playlist in slice['playlists']:\n",
    "                playlists.append(process_playlist(playlist))\n",
    "            count += 1\n",
    "            if quick and count > max_files_for_quick_processing:\n",
    "                break\n",
    "\n",
    "quick = True\n",
    "process_mpd('mpd.v1/data')"
   ]
  },
  {
   "cell_type": "code",
   "execution_count": 3,
   "metadata": {},
   "outputs": [
    {
     "name": "stdout",
     "output_type": "stream",
     "text": [
      "2000\n",
      "57884\n",
      "134125\n"
     ]
    }
   ],
   "source": [
    "print(len(playlists))\n",
    "print(len(tracks))\n",
    "print(len(map_pl))"
   ]
  },
  {
   "cell_type": "code",
   "execution_count": 4,
   "metadata": {},
   "outputs": [
    {
     "data": {
      "text/html": [
       "<div>\n",
       "<style scoped>\n",
       "    .dataframe tbody tr th:only-of-type {\n",
       "        vertical-align: middle;\n",
       "    }\n",
       "\n",
       "    .dataframe tbody tr th {\n",
       "        vertical-align: top;\n",
       "    }\n",
       "\n",
       "    .dataframe thead th {\n",
       "        text-align: right;\n",
       "    }\n",
       "</style>\n",
       "<table border=\"1\" class=\"dataframe\">\n",
       "  <thead>\n",
       "    <tr style=\"text-align: right;\">\n",
       "      <th></th>\n",
       "      <th>playlist_collaborative</th>\n",
       "      <th>playlist_description</th>\n",
       "      <th>playlist_duration_ms</th>\n",
       "      <th>playlist_modified_at</th>\n",
       "      <th>playlist_name</th>\n",
       "      <th>playlist_num_albums</th>\n",
       "      <th>playlist_num_artists</th>\n",
       "      <th>playlist_num_edits</th>\n",
       "      <th>playlist_num_followers</th>\n",
       "      <th>playlist_num_tracks</th>\n",
       "      <th>playlist_pid</th>\n",
       "    </tr>\n",
       "  </thead>\n",
       "  <tbody>\n",
       "    <tr>\n",
       "      <th>0</th>\n",
       "      <td>false</td>\n",
       "      <td>None</td>\n",
       "      <td>11532414</td>\n",
       "      <td>1493424000</td>\n",
       "      <td>Throwbacks</td>\n",
       "      <td>47</td>\n",
       "      <td>37</td>\n",
       "      <td>6</td>\n",
       "      <td>1</td>\n",
       "      <td>52</td>\n",
       "      <td>0</td>\n",
       "    </tr>\n",
       "    <tr>\n",
       "      <th>1</th>\n",
       "      <td>false</td>\n",
       "      <td>None</td>\n",
       "      <td>11656470</td>\n",
       "      <td>1506556800</td>\n",
       "      <td>Awesome Playlist</td>\n",
       "      <td>23</td>\n",
       "      <td>21</td>\n",
       "      <td>5</td>\n",
       "      <td>1</td>\n",
       "      <td>39</td>\n",
       "      <td>1</td>\n",
       "    </tr>\n",
       "    <tr>\n",
       "      <th>2</th>\n",
       "      <td>false</td>\n",
       "      <td>None</td>\n",
       "      <td>14039958</td>\n",
       "      <td>1505692800</td>\n",
       "      <td>korean</td>\n",
       "      <td>51</td>\n",
       "      <td>31</td>\n",
       "      <td>18</td>\n",
       "      <td>1</td>\n",
       "      <td>64</td>\n",
       "      <td>2</td>\n",
       "    </tr>\n",
       "    <tr>\n",
       "      <th>3</th>\n",
       "      <td>false</td>\n",
       "      <td>None</td>\n",
       "      <td>28926058</td>\n",
       "      <td>1501027200</td>\n",
       "      <td>mat</td>\n",
       "      <td>107</td>\n",
       "      <td>86</td>\n",
       "      <td>4</td>\n",
       "      <td>1</td>\n",
       "      <td>126</td>\n",
       "      <td>3</td>\n",
       "    </tr>\n",
       "    <tr>\n",
       "      <th>4</th>\n",
       "      <td>false</td>\n",
       "      <td>None</td>\n",
       "      <td>4335282</td>\n",
       "      <td>1401667200</td>\n",
       "      <td>90s</td>\n",
       "      <td>16</td>\n",
       "      <td>16</td>\n",
       "      <td>7</td>\n",
       "      <td>2</td>\n",
       "      <td>17</td>\n",
       "      <td>4</td>\n",
       "    </tr>\n",
       "  </tbody>\n",
       "</table>\n",
       "</div>"
      ],
      "text/plain": [
       "  playlist_collaborative playlist_description  playlist_duration_ms  \\\n",
       "0                  false                 None              11532414   \n",
       "1                  false                 None              11656470   \n",
       "2                  false                 None              14039958   \n",
       "3                  false                 None              28926058   \n",
       "4                  false                 None               4335282   \n",
       "\n",
       "   playlist_modified_at     playlist_name  playlist_num_albums  \\\n",
       "0            1493424000        Throwbacks                   47   \n",
       "1            1506556800  Awesome Playlist                   23   \n",
       "2            1505692800           korean                    51   \n",
       "3            1501027200               mat                  107   \n",
       "4            1401667200               90s                   16   \n",
       "\n",
       "   playlist_num_artists  playlist_num_edits  playlist_num_followers  \\\n",
       "0                    37                   6                       1   \n",
       "1                    21                   5                       1   \n",
       "2                    31                  18                       1   \n",
       "3                    86                   4                       1   \n",
       "4                    16                   7                       2   \n",
       "\n",
       "   playlist_num_tracks  playlist_pid  \n",
       "0                   52             0  \n",
       "1                   39             1  \n",
       "2                   64             2  \n",
       "3                  126             3  \n",
       "4                   17             4  "
      ]
     },
     "execution_count": 4,
     "metadata": {},
     "output_type": "execute_result"
    }
   ],
   "source": [
    "playlist_df = pd.DataFrame(playlists)\n",
    "playlist_df.head()\n",
    "# print(playlist_df.describe())"
   ]
  },
  {
   "cell_type": "code",
   "execution_count": 5,
   "metadata": {},
   "outputs": [
    {
     "data": {
      "text/html": [
       "<div>\n",
       "<style scoped>\n",
       "    .dataframe tbody tr th:only-of-type {\n",
       "        vertical-align: middle;\n",
       "    }\n",
       "\n",
       "    .dataframe tbody tr th {\n",
       "        vertical-align: top;\n",
       "    }\n",
       "\n",
       "    .dataframe thead th {\n",
       "        text-align: right;\n",
       "    }\n",
       "</style>\n",
       "<table border=\"1\" class=\"dataframe\">\n",
       "  <thead>\n",
       "    <tr style=\"text-align: right;\">\n",
       "      <th></th>\n",
       "      <th>track_artist_name</th>\n",
       "      <th>track_artist_uri</th>\n",
       "      <th>track_name</th>\n",
       "      <th>track_album_uri</th>\n",
       "      <th>track_duration_ms</th>\n",
       "      <th>track_album_name</th>\n",
       "    </tr>\n",
       "  </thead>\n",
       "  <tbody>\n",
       "    <tr>\n",
       "      <th>spotify:track:000mA0etY38nKdvf1N04af</th>\n",
       "      <td>The Coronas</td>\n",
       "      <td>spotify:artist:2tppd6KkhK4ULAd217Ecq1</td>\n",
       "      <td>If I Gave Myself To Someone Else</td>\n",
       "      <td>spotify:album:662PiU3dRsilN0Gp87IiSF</td>\n",
       "      <td>214506</td>\n",
       "      <td>The Long Way</td>\n",
       "    </tr>\n",
       "    <tr>\n",
       "      <th>spotify:track:000xQL6tZNLJzIrtIgxqSl</th>\n",
       "      <td>ZAYN</td>\n",
       "      <td>spotify:artist:5ZsFI1h6hIdQRw2ti0hz81</td>\n",
       "      <td>Still Got Time</td>\n",
       "      <td>spotify:album:2kGUeTGnkLOYlinKRJe47G</td>\n",
       "      <td>188490</td>\n",
       "      <td>Still Got Time</td>\n",
       "    </tr>\n",
       "    <tr>\n",
       "      <th>spotify:track:002PgfoyfrOGiKch4EW8Wm</th>\n",
       "      <td>Alan Menken</td>\n",
       "      <td>spotify:artist:5sy77gt4bfsLcSQ8GIe4ZZ</td>\n",
       "      <td>Jasmine Runs Away</td>\n",
       "      <td>spotify:album:29EiOQJnxWlX5nVOWQpu3u</td>\n",
       "      <td>46866</td>\n",
       "      <td>Aladdin</td>\n",
       "    </tr>\n",
       "    <tr>\n",
       "      <th>spotify:track:004skCQeDn1iLntSom0rRr</th>\n",
       "      <td>Kevin Jonas</td>\n",
       "      <td>spotify:artist:11bdWrCwHE2gCdVARdASuu</td>\n",
       "      <td>Heart and Soul</td>\n",
       "      <td>spotify:album:5iK842b9xnZblgZkRxWCFe</td>\n",
       "      <td>177773</td>\n",
       "      <td>Camp Rock 2: The Final Jam</td>\n",
       "    </tr>\n",
       "    <tr>\n",
       "      <th>spotify:track:005CGalYNgMNZcvWMIFeK8</th>\n",
       "      <td>Nelson Y Sus Estrellas</td>\n",
       "      <td>spotify:artist:5SRwYMyavJCNT2AdVMpPgi</td>\n",
       "      <td>LLorándote</td>\n",
       "      <td>spotify:album:2TfoLoZHhsL0oAYBxDi4t2</td>\n",
       "      <td>321480</td>\n",
       "      <td>Orquídea de Plata</td>\n",
       "    </tr>\n",
       "  </tbody>\n",
       "</table>\n",
       "</div>"
      ],
      "text/plain": [
       "                                           track_artist_name  \\\n",
       "spotify:track:000mA0etY38nKdvf1N04af             The Coronas   \n",
       "spotify:track:000xQL6tZNLJzIrtIgxqSl                    ZAYN   \n",
       "spotify:track:002PgfoyfrOGiKch4EW8Wm             Alan Menken   \n",
       "spotify:track:004skCQeDn1iLntSom0rRr             Kevin Jonas   \n",
       "spotify:track:005CGalYNgMNZcvWMIFeK8  Nelson Y Sus Estrellas   \n",
       "\n",
       "                                                           track_artist_uri  \\\n",
       "spotify:track:000mA0etY38nKdvf1N04af  spotify:artist:2tppd6KkhK4ULAd217Ecq1   \n",
       "spotify:track:000xQL6tZNLJzIrtIgxqSl  spotify:artist:5ZsFI1h6hIdQRw2ti0hz81   \n",
       "spotify:track:002PgfoyfrOGiKch4EW8Wm  spotify:artist:5sy77gt4bfsLcSQ8GIe4ZZ   \n",
       "spotify:track:004skCQeDn1iLntSom0rRr  spotify:artist:11bdWrCwHE2gCdVARdASuu   \n",
       "spotify:track:005CGalYNgMNZcvWMIFeK8  spotify:artist:5SRwYMyavJCNT2AdVMpPgi   \n",
       "\n",
       "                                                            track_name  \\\n",
       "spotify:track:000mA0etY38nKdvf1N04af  If I Gave Myself To Someone Else   \n",
       "spotify:track:000xQL6tZNLJzIrtIgxqSl                    Still Got Time   \n",
       "spotify:track:002PgfoyfrOGiKch4EW8Wm                 Jasmine Runs Away   \n",
       "spotify:track:004skCQeDn1iLntSom0rRr                    Heart and Soul   \n",
       "spotify:track:005CGalYNgMNZcvWMIFeK8                        LLorándote   \n",
       "\n",
       "                                                           track_album_uri  \\\n",
       "spotify:track:000mA0etY38nKdvf1N04af  spotify:album:662PiU3dRsilN0Gp87IiSF   \n",
       "spotify:track:000xQL6tZNLJzIrtIgxqSl  spotify:album:2kGUeTGnkLOYlinKRJe47G   \n",
       "spotify:track:002PgfoyfrOGiKch4EW8Wm  spotify:album:29EiOQJnxWlX5nVOWQpu3u   \n",
       "spotify:track:004skCQeDn1iLntSom0rRr  spotify:album:5iK842b9xnZblgZkRxWCFe   \n",
       "spotify:track:005CGalYNgMNZcvWMIFeK8  spotify:album:2TfoLoZHhsL0oAYBxDi4t2   \n",
       "\n",
       "                                      track_duration_ms  \\\n",
       "spotify:track:000mA0etY38nKdvf1N04af             214506   \n",
       "spotify:track:000xQL6tZNLJzIrtIgxqSl             188490   \n",
       "spotify:track:002PgfoyfrOGiKch4EW8Wm              46866   \n",
       "spotify:track:004skCQeDn1iLntSom0rRr             177773   \n",
       "spotify:track:005CGalYNgMNZcvWMIFeK8             321480   \n",
       "\n",
       "                                                track_album_name  \n",
       "spotify:track:000mA0etY38nKdvf1N04af                The Long Way  \n",
       "spotify:track:000xQL6tZNLJzIrtIgxqSl              Still Got Time  \n",
       "spotify:track:002PgfoyfrOGiKch4EW8Wm                     Aladdin  \n",
       "spotify:track:004skCQeDn1iLntSom0rRr  Camp Rock 2: The Final Jam  \n",
       "spotify:track:005CGalYNgMNZcvWMIFeK8           Orquídea de Plata  "
      ]
     },
     "execution_count": 5,
     "metadata": {},
     "output_type": "execute_result"
    }
   ],
   "source": [
    "tracks_df = pd.DataFrame.from_dict(tracks, orient='index')\n",
    "tracks_df.head()\n",
    "# print(tracks_df.describe())"
   ]
  },
  {
   "cell_type": "code",
   "execution_count": 6,
   "metadata": {},
   "outputs": [
    {
     "data": {
      "text/html": [
       "<div>\n",
       "<style scoped>\n",
       "    .dataframe tbody tr th:only-of-type {\n",
       "        vertical-align: middle;\n",
       "    }\n",
       "\n",
       "    .dataframe tbody tr th {\n",
       "        vertical-align: top;\n",
       "    }\n",
       "\n",
       "    .dataframe thead th {\n",
       "        text-align: right;\n",
       "    }\n",
       "</style>\n",
       "<table border=\"1\" class=\"dataframe\">\n",
       "  <thead>\n",
       "    <tr style=\"text-align: right;\">\n",
       "      <th></th>\n",
       "      <th>playlist_pid</th>\n",
       "      <th>track_uri</th>\n",
       "    </tr>\n",
       "  </thead>\n",
       "  <tbody>\n",
       "    <tr>\n",
       "      <th>0</th>\n",
       "      <td>0</td>\n",
       "      <td>spotify:track:0UaMYEvWZi0ZqiDOoHU3YI</td>\n",
       "    </tr>\n",
       "    <tr>\n",
       "      <th>1</th>\n",
       "      <td>0</td>\n",
       "      <td>spotify:track:6I9VzXrHxO9rA9A5euc8Ak</td>\n",
       "    </tr>\n",
       "    <tr>\n",
       "      <th>2</th>\n",
       "      <td>0</td>\n",
       "      <td>spotify:track:0WqIKmW4BTrj3eJFmnCKMv</td>\n",
       "    </tr>\n",
       "    <tr>\n",
       "      <th>3</th>\n",
       "      <td>0</td>\n",
       "      <td>spotify:track:1AWQoqb9bSvzTjaLralEkT</td>\n",
       "    </tr>\n",
       "    <tr>\n",
       "      <th>4</th>\n",
       "      <td>0</td>\n",
       "      <td>spotify:track:1lzr43nnXAijIGYnCT8M8H</td>\n",
       "    </tr>\n",
       "  </tbody>\n",
       "</table>\n",
       "</div>"
      ],
      "text/plain": [
       "   playlist_pid                             track_uri\n",
       "0             0  spotify:track:0UaMYEvWZi0ZqiDOoHU3YI\n",
       "1             0  spotify:track:6I9VzXrHxO9rA9A5euc8Ak\n",
       "2             0  spotify:track:0WqIKmW4BTrj3eJFmnCKMv\n",
       "3             0  spotify:track:1AWQoqb9bSvzTjaLralEkT\n",
       "4             0  spotify:track:1lzr43nnXAijIGYnCT8M8H"
      ]
     },
     "execution_count": 6,
     "metadata": {},
     "output_type": "execute_result"
    }
   ],
   "source": [
    "playlist_map_df = pd.DataFrame(map_pl, columns=['playlist_pid', 'track_uri'])\n",
    "playlist_map_df.head()\n",
    "#print(playlist_map_df.describe())"
   ]
  },
  {
   "cell_type": "code",
   "execution_count": 7,
   "metadata": {},
   "outputs": [],
   "source": [
    "merged = pd.merge(\n",
    "    pd.merge(\n",
    "        tracks_df, playlist_map_df, left_index=True, right_on='track_uri'),\n",
    "    playlist_df,\n",
    "    on='playlist_pid')"
   ]
  },
  {
   "cell_type": "code",
   "execution_count": 8,
   "metadata": {},
   "outputs": [
    {
     "data": {
      "text/html": [
       "<div>\n",
       "<style scoped>\n",
       "    .dataframe tbody tr th:only-of-type {\n",
       "        vertical-align: middle;\n",
       "    }\n",
       "\n",
       "    .dataframe tbody tr th {\n",
       "        vertical-align: top;\n",
       "    }\n",
       "\n",
       "    .dataframe thead th {\n",
       "        text-align: right;\n",
       "    }\n",
       "</style>\n",
       "<table border=\"1\" class=\"dataframe\">\n",
       "  <thead>\n",
       "    <tr style=\"text-align: right;\">\n",
       "      <th></th>\n",
       "      <th>track_artist_name</th>\n",
       "      <th>track_artist_uri</th>\n",
       "      <th>track_name</th>\n",
       "      <th>track_album_uri</th>\n",
       "      <th>track_duration_ms</th>\n",
       "      <th>track_album_name</th>\n",
       "      <th>playlist_pid</th>\n",
       "      <th>track_uri</th>\n",
       "      <th>playlist_collaborative</th>\n",
       "      <th>playlist_description</th>\n",
       "      <th>playlist_duration_ms</th>\n",
       "      <th>playlist_modified_at</th>\n",
       "      <th>playlist_name</th>\n",
       "      <th>playlist_num_albums</th>\n",
       "      <th>playlist_num_artists</th>\n",
       "      <th>playlist_num_edits</th>\n",
       "      <th>playlist_num_followers</th>\n",
       "      <th>playlist_num_tracks</th>\n",
       "    </tr>\n",
       "  </thead>\n",
       "  <tbody>\n",
       "    <tr>\n",
       "      <th>0</th>\n",
       "      <td>The Coronas</td>\n",
       "      <td>spotify:artist:2tppd6KkhK4ULAd217Ecq1</td>\n",
       "      <td>If I Gave Myself To Someone Else</td>\n",
       "      <td>spotify:album:662PiU3dRsilN0Gp87IiSF</td>\n",
       "      <td>214506</td>\n",
       "      <td>The Long Way</td>\n",
       "      <td>371</td>\n",
       "      <td>spotify:track:000mA0etY38nKdvf1N04af</td>\n",
       "      <td>false</td>\n",
       "      <td>None</td>\n",
       "      <td>3675883</td>\n",
       "      <td>1496793600</td>\n",
       "      <td>quiet</td>\n",
       "      <td>15</td>\n",
       "      <td>14</td>\n",
       "      <td>4</td>\n",
       "      <td>1</td>\n",
       "      <td>15</td>\n",
       "    </tr>\n",
       "    <tr>\n",
       "      <th>1</th>\n",
       "      <td>Lewis Watson</td>\n",
       "      <td>spotify:artist:40ELTAg7Kg6vbWnlyx2n9R</td>\n",
       "      <td>stones around the sun</td>\n",
       "      <td>spotify:album:4cKBAg2zgjrVF2XefrW4WC</td>\n",
       "      <td>224440</td>\n",
       "      <td>the morning</td>\n",
       "      <td>371</td>\n",
       "      <td>spotify:track:0JGbwcwPV0VfuR4zDcZ9ce</td>\n",
       "      <td>false</td>\n",
       "      <td>None</td>\n",
       "      <td>3675883</td>\n",
       "      <td>1496793600</td>\n",
       "      <td>quiet</td>\n",
       "      <td>15</td>\n",
       "      <td>14</td>\n",
       "      <td>4</td>\n",
       "      <td>1</td>\n",
       "      <td>15</td>\n",
       "    </tr>\n",
       "    <tr>\n",
       "      <th>2</th>\n",
       "      <td>Jaymes Young</td>\n",
       "      <td>spotify:artist:6QrQ7OrISRYIfS5mtacaw2</td>\n",
       "      <td>We Won't</td>\n",
       "      <td>spotify:album:6MuWCR3WPjwyKhqsTKLZ3z</td>\n",
       "      <td>240586</td>\n",
       "      <td>Feel Something</td>\n",
       "      <td>371</td>\n",
       "      <td>spotify:track:0Zge2Kfo3Yd9JOGnAmVPbb</td>\n",
       "      <td>false</td>\n",
       "      <td>None</td>\n",
       "      <td>3675883</td>\n",
       "      <td>1496793600</td>\n",
       "      <td>quiet</td>\n",
       "      <td>15</td>\n",
       "      <td>14</td>\n",
       "      <td>4</td>\n",
       "      <td>1</td>\n",
       "      <td>15</td>\n",
       "    </tr>\n",
       "    <tr>\n",
       "      <th>3</th>\n",
       "      <td>John Lucas</td>\n",
       "      <td>spotify:artist:7iEy8zKFtlYIINaxxLIyBk</td>\n",
       "      <td>This Will Be Our Home</td>\n",
       "      <td>spotify:album:2N7sEVVS3jKMJJuJi4v0UF</td>\n",
       "      <td>277160</td>\n",
       "      <td>Promised Land</td>\n",
       "      <td>371</td>\n",
       "      <td>spotify:track:1Sw7fhf7YJCD6GcWW0wETD</td>\n",
       "      <td>false</td>\n",
       "      <td>None</td>\n",
       "      <td>3675883</td>\n",
       "      <td>1496793600</td>\n",
       "      <td>quiet</td>\n",
       "      <td>15</td>\n",
       "      <td>14</td>\n",
       "      <td>4</td>\n",
       "      <td>1</td>\n",
       "      <td>15</td>\n",
       "    </tr>\n",
       "    <tr>\n",
       "      <th>4</th>\n",
       "      <td>Hozier</td>\n",
       "      <td>spotify:artist:2FXC3k01G6Gw61bmprjgqS</td>\n",
       "      <td>Cherry Wine - Live</td>\n",
       "      <td>spotify:album:36k5aXpxffjVGcNce12GLZ</td>\n",
       "      <td>240147</td>\n",
       "      <td>Hozier</td>\n",
       "      <td>371</td>\n",
       "      <td>spotify:track:1ivHxaGL5ld9VS1zsYc4YN</td>\n",
       "      <td>false</td>\n",
       "      <td>None</td>\n",
       "      <td>3675883</td>\n",
       "      <td>1496793600</td>\n",
       "      <td>quiet</td>\n",
       "      <td>15</td>\n",
       "      <td>14</td>\n",
       "      <td>4</td>\n",
       "      <td>1</td>\n",
       "      <td>15</td>\n",
       "    </tr>\n",
       "  </tbody>\n",
       "</table>\n",
       "</div>"
      ],
      "text/plain": [
       "  track_artist_name                       track_artist_uri  \\\n",
       "0       The Coronas  spotify:artist:2tppd6KkhK4ULAd217Ecq1   \n",
       "1      Lewis Watson  spotify:artist:40ELTAg7Kg6vbWnlyx2n9R   \n",
       "2      Jaymes Young  spotify:artist:6QrQ7OrISRYIfS5mtacaw2   \n",
       "3        John Lucas  spotify:artist:7iEy8zKFtlYIINaxxLIyBk   \n",
       "4            Hozier  spotify:artist:2FXC3k01G6Gw61bmprjgqS   \n",
       "\n",
       "                         track_name                       track_album_uri  \\\n",
       "0  If I Gave Myself To Someone Else  spotify:album:662PiU3dRsilN0Gp87IiSF   \n",
       "1             stones around the sun  spotify:album:4cKBAg2zgjrVF2XefrW4WC   \n",
       "2                          We Won't  spotify:album:6MuWCR3WPjwyKhqsTKLZ3z   \n",
       "3             This Will Be Our Home  spotify:album:2N7sEVVS3jKMJJuJi4v0UF   \n",
       "4                Cherry Wine - Live  spotify:album:36k5aXpxffjVGcNce12GLZ   \n",
       "\n",
       "   track_duration_ms track_album_name  playlist_pid  \\\n",
       "0             214506     The Long Way           371   \n",
       "1             224440      the morning           371   \n",
       "2             240586   Feel Something           371   \n",
       "3             277160    Promised Land           371   \n",
       "4             240147           Hozier           371   \n",
       "\n",
       "                              track_uri playlist_collaborative  \\\n",
       "0  spotify:track:000mA0etY38nKdvf1N04af                  false   \n",
       "1  spotify:track:0JGbwcwPV0VfuR4zDcZ9ce                  false   \n",
       "2  spotify:track:0Zge2Kfo3Yd9JOGnAmVPbb                  false   \n",
       "3  spotify:track:1Sw7fhf7YJCD6GcWW0wETD                  false   \n",
       "4  spotify:track:1ivHxaGL5ld9VS1zsYc4YN                  false   \n",
       "\n",
       "  playlist_description  playlist_duration_ms  playlist_modified_at  \\\n",
       "0                 None               3675883            1496793600   \n",
       "1                 None               3675883            1496793600   \n",
       "2                 None               3675883            1496793600   \n",
       "3                 None               3675883            1496793600   \n",
       "4                 None               3675883            1496793600   \n",
       "\n",
       "  playlist_name  playlist_num_albums  playlist_num_artists  \\\n",
       "0         quiet                   15                    14   \n",
       "1         quiet                   15                    14   \n",
       "2         quiet                   15                    14   \n",
       "3         quiet                   15                    14   \n",
       "4         quiet                   15                    14   \n",
       "\n",
       "   playlist_num_edits  playlist_num_followers  playlist_num_tracks  \n",
       "0                   4                       1                   15  \n",
       "1                   4                       1                   15  \n",
       "2                   4                       1                   15  \n",
       "3                   4                       1                   15  \n",
       "4                   4                       1                   15  "
      ]
     },
     "execution_count": 8,
     "metadata": {},
     "output_type": "execute_result"
    }
   ],
   "source": [
    "merged.head()"
   ]
  },
  {
   "cell_type": "code",
   "execution_count": 9,
   "metadata": {},
   "outputs": [
    {
     "name": "stderr",
     "output_type": "stream",
     "text": [
      "100%|██████████| 2000/2000 [03:14<00:00, 10.29it/s]\n"
     ]
    }
   ],
   "source": [
    "# Create Negative Samples\n",
    "negative_samples = pd.DataFrame([])\n",
    "for pid, df in tqdm(merged.groupby([\"playlist_pid\"])):\n",
    "    negative_tracks = tracks_df.drop(df.track_uri).sample(df.shape[0])\n",
    "    negative_playlist_tracks = pd.concat(\n",
    "        [\n",
    "            df.drop(list(tracks_df.columns) + ['track_uri'], axis=1).reset_index(\n",
    "                drop=True), negative_tracks.reset_index()\n",
    "        ],\n",
    "        axis=1)\n",
    "    negative_playlist_tracks.rename(columns={'index': 'track_uri'}, inplace=True)\n",
    "    negative_samples = negative_samples.append(negative_playlist_tracks)\n"
   ]
  },
  {
   "cell_type": "code",
   "execution_count": 10,
   "metadata": {},
   "outputs": [],
   "source": [
    "# Provide labels\n",
    "negative_samples['match'] = 0\n",
    "merged['match'] = 1"
   ]
  },
  {
   "cell_type": "code",
   "execution_count": null,
   "metadata": {},
   "outputs": [],
   "source": [
    "negative_samples.head()"
   ]
  },
  {
   "cell_type": "code",
   "execution_count": null,
   "metadata": {},
   "outputs": [],
   "source": [
    "merged.head()"
   ]
  },
  {
   "cell_type": "code",
   "execution_count": null,
   "metadata": {},
   "outputs": [],
   "source": [
    "negative_samples.head()"
   ]
  },
  {
   "cell_type": "code",
   "execution_count": 14,
   "metadata": {},
   "outputs": [
    {
     "data": {
      "text/plain": [
       "Index(['track_artist_name', 'track_artist_uri', 'track_name',\n",
       "       'track_album_uri', 'track_duration_ms', 'track_album_name',\n",
       "       'playlist_pid', 'track_uri', 'playlist_collaborative',\n",
       "       'playlist_description', 'playlist_duration_ms', 'playlist_modified_at',\n",
       "       'playlist_name', 'playlist_num_albums', 'playlist_num_artists',\n",
       "       'playlist_num_edits', 'playlist_num_followers', 'playlist_num_tracks',\n",
       "       'match'],\n",
       "      dtype='object')"
      ]
     },
     "execution_count": 14,
     "metadata": {},
     "output_type": "execute_result"
    }
   ],
   "source": [
    "merged.columns"
   ]
  },
  {
   "cell_type": "code",
   "execution_count": 15,
   "metadata": {},
   "outputs": [
    {
     "data": {
      "text/plain": [
       "Index(['playlist_pid', 'playlist_collaborative', 'playlist_description',\n",
       "       'playlist_duration_ms', 'playlist_modified_at', 'playlist_name',\n",
       "       'playlist_num_albums', 'playlist_num_artists', 'playlist_num_edits',\n",
       "       'playlist_num_followers', 'playlist_num_tracks', 'track_uri',\n",
       "       'track_artist_name', 'track_artist_uri', 'track_name',\n",
       "       'track_album_uri', 'track_duration_ms', 'track_album_name', 'match'],\n",
       "      dtype='object')"
      ]
     },
     "execution_count": 15,
     "metadata": {},
     "output_type": "execute_result"
    }
   ],
   "source": [
    "negative_samples.columns"
   ]
  },
  {
   "cell_type": "code",
   "execution_count": 16,
   "metadata": {},
   "outputs": [],
   "source": [
    "dataset = merged.append(negative_samples[merged.columns]).sort_values(by=['playlist_pid']).reset_index(drop=True)"
   ]
  },
  {
   "cell_type": "code",
   "execution_count": null,
   "metadata": {},
   "outputs": [],
   "source": [
    "dataset.tail(32)"
   ]
  },
  {
   "cell_type": "code",
   "execution_count": 18,
   "metadata": {},
   "outputs": [],
   "source": [
    "# Include the features in the list below\n",
    "features = [\n",
    "    'playlist_duration_ms', 'playlist_num_albums', 'playlist_num_artists',\n",
    "    'playlist_num_edits', 'playlist_num_followers', 'playlist_num_tracks',\n",
    "    'playlist_pid', 'track_duration_ms'\n",
    "]\n",
    "data_x = dataset[features]\n",
    "data_y = dataset.match\n",
    "X_train, X_test, y_train, y_test = train_test_split(\n",
    "    data_x, data_y, test_size=0.1, random_state=42, shuffle=True)"
   ]
  },
  {
   "cell_type": "code",
   "execution_count": null,
   "metadata": {},
   "outputs": [],
   "source": [
    "X_test.head()"
   ]
  },
  {
   "cell_type": "code",
   "execution_count": null,
   "metadata": {},
   "outputs": [],
   "source": [
    "y_test.head()\n",
    "# y_test[y_test == 1].head()"
   ]
  },
  {
   "cell_type": "code",
   "execution_count": null,
   "metadata": {},
   "outputs": [],
   "source": [
    "dataset.loc[X_test.head().index]"
   ]
  },
  {
   "cell_type": "code",
   "execution_count": null,
   "metadata": {},
   "outputs": [],
   "source": [
    "y_test[y_test == 1].head()"
   ]
  },
  {
   "cell_type": "code",
   "execution_count": 65,
   "metadata": {},
   "outputs": [],
   "source": [
    "# 1. Calculate metric only on test set using the positive samples\n",
    "#     a. Obtain unique playlists in the test set\n",
    "#     b. For each playlist, obtain the positve songs.\n",
    "#     c. Set both `target` and `prediction` as lists of the positive songs\n",
    "#     d. For each playlist, calculate the r_precision. r_precision comes from the metrics.py file in the repo.\n",
    "\n",
    "# 2. Train the X_train on the classifier. Obtain predictions for X_test\n",
    "\n",
    "# 3. Repeat 1 above, now setting `predictions` as the list of songs \"ranked by probability\".\n",
    "\n",
    "# 4. Calculate the r_precision metric based on your predicitons!"
   ]
  },
  {
   "cell_type": "code",
   "execution_count": null,
   "metadata": {},
   "outputs": [],
   "source": [
    "# Create Negative Samples\n",
    "negative_samples = pd.DataFrame([])\n",
    "for pid, df in tqdm(merged.groupby([\"playlist_pid\"])):\n",
    "    negative_tracks = tracks_df.drop(df.track_uri).sample(df.shape[0])\n",
    "    negative_playlist_tracks = pd.concat(\n",
    "        [\n",
    "            df.drop(list(tracks_df.columns) + ['track_uri'], axis=1).reset_index(\n",
    "                drop=True), negative_tracks.reset_index()\n",
    "        ],\n",
    "        axis=1)\n",
    "    negative_playlist_tracks.rename(columns={'index': 'track_uri'}, inplace=True)\n",
    "    negative_samples = negative_samples.append(negative_playlist_tracks)\n"
   ]
  },
  {
   "cell_type": "code",
   "execution_count": 47,
   "metadata": {},
   "outputs": [
    {
     "data": {
      "application/vnd.jupyter.widget-view+json": {
       "model_id": "eebd4193e56b44cdadce5a972e7c8423",
       "version_major": 2,
       "version_minor": 0
      },
      "text/html": [
       "<p>Failed to display Jupyter Widget of type <code>HBox</code>.</p>\n",
       "<p>\n",
       "  If you're reading this message in the Jupyter Notebook or JupyterLab Notebook, it may mean\n",
       "  that the widgets JavaScript is still loading. If this message persists, it\n",
       "  likely means that the widgets JavaScript library is either not installed or\n",
       "  not enabled. See the <a href=\"https://ipywidgets.readthedocs.io/en/stable/user_install.html\">Jupyter\n",
       "  Widgets Documentation</a> for setup instructions.\n",
       "</p>\n",
       "<p>\n",
       "  If you're reading this message in another frontend (for example, a static\n",
       "  rendering on GitHub or <a href=\"https://nbviewer.jupyter.org/\">NBViewer</a>),\n",
       "  it may mean that your frontend doesn't currently support widgets.\n",
       "</p>\n"
      ],
      "text/plain": [
       "HBox(children=(IntProgress(value=0, max=1968), HTML(value='')))"
      ]
     },
     "metadata": {},
     "output_type": "display_data"
    },
    {
     "data": {
      "text/plain": [
       "1.0"
      ]
     },
     "execution_count": 47,
     "metadata": {},
     "output_type": "execute_result"
    }
   ],
   "source": [
    "r_precisions = []\n",
    "for pid, df in tqdm(X_test.groupby([\"playlist_pid\"])):\n",
    "    probs = y_test.loc[df.index]  # change y_test to the output probs from clf\n",
    "    targets = dataset.loc[probs[probs == 1].index].track_uri\n",
    "    predictions = dataset.loc[probs[probs > 0.5].index].track_uri.unique()\n",
    "    if len(targets) > 0:\n",
    "        r_precisions.append(r_precision(targets, predictions))\n",
    "np.mean(r_precisions)    "
   ]
  },
  {
   "cell_type": "code",
   "execution_count": 51,
   "metadata": {},
   "outputs": [],
   "source": [
    "lr_clf = LogisticRegression()\n",
    "lr_clf = lr_clf.fit(X_train, y_train)"
   ]
  },
  {
   "cell_type": "code",
   "execution_count": 56,
   "metadata": {},
   "outputs": [],
   "source": [
    "# y_prob = lr_clf.predict_proba(X_test)\n",
    "y_prob = pd.DataFrame(lr_clf.predict_proba(X_test), index=y_test.index)"
   ]
  },
  {
   "cell_type": "code",
   "execution_count": 60,
   "metadata": {},
   "outputs": [
    {
     "data": {
      "text/html": [
       "<div>\n",
       "<style scoped>\n",
       "    .dataframe tbody tr th:only-of-type {\n",
       "        vertical-align: middle;\n",
       "    }\n",
       "\n",
       "    .dataframe tbody tr th {\n",
       "        vertical-align: top;\n",
       "    }\n",
       "\n",
       "    .dataframe thead th {\n",
       "        text-align: right;\n",
       "    }\n",
       "</style>\n",
       "<table border=\"1\" class=\"dataframe\">\n",
       "  <thead>\n",
       "    <tr style=\"text-align: right;\">\n",
       "      <th></th>\n",
       "      <th>0</th>\n",
       "      <th>1</th>\n",
       "    </tr>\n",
       "  </thead>\n",
       "  <tbody>\n",
       "    <tr>\n",
       "      <th>20901</th>\n",
       "      <td>0.499997</td>\n",
       "      <td>0.500003</td>\n",
       "    </tr>\n",
       "    <tr>\n",
       "      <th>219809</th>\n",
       "      <td>0.500036</td>\n",
       "      <td>0.499964</td>\n",
       "    </tr>\n",
       "    <tr>\n",
       "      <th>119281</th>\n",
       "      <td>0.502606</td>\n",
       "      <td>0.497394</td>\n",
       "    </tr>\n",
       "    <tr>\n",
       "      <th>10627</th>\n",
       "      <td>0.504185</td>\n",
       "      <td>0.495815</td>\n",
       "    </tr>\n",
       "    <tr>\n",
       "      <th>118291</th>\n",
       "      <td>0.499877</td>\n",
       "      <td>0.500123</td>\n",
       "    </tr>\n",
       "    <tr>\n",
       "      <th>159640</th>\n",
       "      <td>0.500663</td>\n",
       "      <td>0.499337</td>\n",
       "    </tr>\n",
       "    <tr>\n",
       "      <th>245782</th>\n",
       "      <td>0.495238</td>\n",
       "      <td>0.504762</td>\n",
       "    </tr>\n",
       "    <tr>\n",
       "      <th>228828</th>\n",
       "      <td>0.500392</td>\n",
       "      <td>0.499608</td>\n",
       "    </tr>\n",
       "    <tr>\n",
       "      <th>139527</th>\n",
       "      <td>0.501873</td>\n",
       "      <td>0.498127</td>\n",
       "    </tr>\n",
       "    <tr>\n",
       "      <th>58654</th>\n",
       "      <td>0.503458</td>\n",
       "      <td>0.496542</td>\n",
       "    </tr>\n",
       "  </tbody>\n",
       "</table>\n",
       "</div>"
      ],
      "text/plain": [
       "               0         1\n",
       "20901   0.499997  0.500003\n",
       "219809  0.500036  0.499964\n",
       "119281  0.502606  0.497394\n",
       "10627   0.504185  0.495815\n",
       "118291  0.499877  0.500123\n",
       "159640  0.500663  0.499337\n",
       "245782  0.495238  0.504762\n",
       "228828  0.500392  0.499608\n",
       "139527  0.501873  0.498127\n",
       "58654   0.503458  0.496542"
      ]
     },
     "execution_count": 60,
     "metadata": {},
     "output_type": "execute_result"
    }
   ],
   "source": [
    "y_prob.head(10)"
   ]
  },
  {
   "cell_type": "code",
   "execution_count": 65,
   "metadata": {},
   "outputs": [
    {
     "data": {
      "text/plain": [
       "20901     0\n",
       "219809    1\n",
       "119281    0\n",
       "10627     1\n",
       "118291    1\n",
       "Name: match, dtype: int64"
      ]
     },
     "execution_count": 65,
     "metadata": {},
     "output_type": "execute_result"
    }
   ],
   "source": [
    "y_test.head()"
   ]
  },
  {
   "cell_type": "code",
   "execution_count": 61,
   "metadata": {},
   "outputs": [],
   "source": [
    "y_pred = y_prob.idxmax(axis=1)"
   ]
  },
  {
   "cell_type": "code",
   "execution_count": 68,
   "metadata": {},
   "outputs": [
    {
     "data": {
      "application/vnd.jupyter.widget-view+json": {
       "model_id": "7bc44b7ac2b84610a90d8daa8bae9099",
       "version_major": 2,
       "version_minor": 0
      },
      "text/html": [
       "<p>Failed to display Jupyter Widget of type <code>HBox</code>.</p>\n",
       "<p>\n",
       "  If you're reading this message in the Jupyter Notebook or JupyterLab Notebook, it may mean\n",
       "  that the widgets JavaScript is still loading. If this message persists, it\n",
       "  likely means that the widgets JavaScript library is either not installed or\n",
       "  not enabled. See the <a href=\"https://ipywidgets.readthedocs.io/en/stable/user_install.html\">Jupyter\n",
       "  Widgets Documentation</a> for setup instructions.\n",
       "</p>\n",
       "<p>\n",
       "  If you're reading this message in another frontend (for example, a static\n",
       "  rendering on GitHub or <a href=\"https://nbviewer.jupyter.org/\">NBViewer</a>),\n",
       "  it may mean that your frontend doesn't currently support widgets.\n",
       "</p>\n"
      ],
      "text/plain": [
       "HBox(children=(IntProgress(value=0, max=1968), HTML(value='')))"
      ]
     },
     "metadata": {},
     "output_type": "display_data"
    },
    {
     "data": {
      "text/plain": [
       "0.16769489199912715"
      ]
     },
     "execution_count": 68,
     "metadata": {},
     "output_type": "execute_result"
    }
   ],
   "source": [
    "r_precisions = []\n",
    "for pid, df in tqdm(X_test.groupby([\"playlist_pid\"])):\n",
    "    labels = y_test.loc[df.index]  # change y_test to the output probs from clf\n",
    "    preds = y_pred.loc[df.index]\n",
    "    targets = dataset.loc[labels[labels == 1].index].track_uri\n",
    "    predictions = dataset.loc[preds[preds == 1].index].track_uri.unique()\n",
    "    if len(targets) > 0:\n",
    "        r_precisions.append(r_precision(targets, predictions))\n",
    "np.mean(r_precisions)    "
   ]
  },
  {
   "cell_type": "markdown",
   "metadata": {},
   "source": [
    "Question: Do playlist and track duration interact to influence whether a song should belong to a playlist `(match=1)` or whether a song should not belong to a playlist `(match=0)`?"
   ]
  },
  {
   "cell_type": "code",
   "execution_count": null,
   "metadata": {},
   "outputs": [],
   "source": [
    "(dataset[dataset.match==1].playlist_duration_ms/dataset[dataset.match==1].playlist_num_tracks)"
   ]
  },
  {
   "cell_type": "code",
   "execution_count": 85,
   "metadata": {},
   "outputs": [
    {
     "data": {
      "text/plain": [
       "Text(0,0.5,'Track Duration')"
      ]
     },
     "execution_count": 85,
     "metadata": {},
     "output_type": "execute_result"
    },
    {
     "data": {
      "image/png": "[encoded data removed]",
      "text/plain": [
       "<matplotlib.figure.Figure at 0x115a2c2b0>"
      ]
     },
     "metadata": {},
     "output_type": "display_data"
    }
   ],
   "source": [
    "plt.scatter(dataset[dataset.match == 1].playlist_duration_ms /\n",
    "            dataset[dataset.match == 1].playlist_num_tracks,\n",
    "            dataset[dataset.match == 1].track_duration_ms)\n",
    "plt.scatter(dataset[dataset.match == 0].playlist_duration_ms /\n",
    "            dataset[dataset.match == 0].playlist_num_tracks,\n",
    "            dataset[dataset.match == 0].track_duration_ms)\n",
    "plt.xlabel('Average Track Duration')\n",
    "plt.ylabel('Track Duration')\n"
   ]
  },
  {
   "cell_type": "markdown",
   "metadata": {},
   "source": [
    "A trend which might not be that strong to notice is that as the average track duration increases for a playlist, the propensity to see a track of long duration increases. However, this isn't the case with negative sample playlists, where in playlist of short length very long tracks can still be detected."
   ]
  },
  {
   "cell_type": "code",
   "execution_count": 78,
   "metadata": {},
   "outputs": [
    {
     "data": {
      "text/plain": [
       "(array([14159., 24584., 21380., 18858., 17101., 12908., 11923.,  9961.,\n",
       "         2828.,   423.]),\n",
       " array([ 1002971. ,  7822697.7, 14642424.4, 21462151.1, 28281877.8,\n",
       "        35101604.5, 41921331.2, 48741057.9, 55560784.6, 62380511.3,\n",
       "        69200238. ]),\n",
       " <a list of 10 Patch objects>)"
      ]
     },
     "execution_count": 78,
     "metadata": {},
     "output_type": "execute_result"
    },
    {
     "data": {
      "image/png": "[encoded data removed]",
      "text/plain": [
       "<matplotlib.figure.Figure at 0x11525b160>"
      ]
     },
     "metadata": {},
     "output_type": "display_data"
    }
   ],
   "source": [
    "plt.hist(dataset[dataset.match==1].playlist_duration_ms)\n",
    "plt.hist(dataset[dataset.match==0].playlist_duration_ms)"
   ]
  },
  {
   "cell_type": "code",
   "execution_count": null,
   "metadata": {},
   "outputs": [],
   "source": []
  }
 ],
 "metadata": {
  "kernelspec": {
   "display_name": "Python 3",
   "language": "python",
   "name": "python3"
  },
  "language_info": {
   "codemirror_mode": {
    "name": "ipython",
    "version": 3
   },
   "file_extension": ".py",
   "mimetype": "text/x-python",
   "name": "python",
   "nbconvert_exporter": "python",
   "pygments_lexer": "ipython3",
   "version": "3.6.4"
  }
 },
 "nbformat": 4,
 "nbformat_minor": 2
}
