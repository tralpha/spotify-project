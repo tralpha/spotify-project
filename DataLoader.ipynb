{
 "cells": [
  {
   "cell_type": "code",
   "execution_count": 22,
   "metadata": {},
   "outputs": [
    {
     "name": "stdout",
     "output_type": "stream",
     "text": [
      "mpd.slice.0-999.json\n",
      "mpd.slice.1000-1999.json\n",
      "mpd.slice.10000-10999.json\n",
      "mpd.slice.100000-100999.json\n",
      "mpd.slice.101000-101999.json\n",
      "mpd.slice.102000-102999.json\n",
      "6000\n",
      "121855\n"
     ]
    }
   ],
   "source": [
    "import os\n",
    "import json\n",
    "\n",
    "playlists = list()\n",
    "max_files_for_quick_processing = 5\n",
    "\n",
    "tracks = dict()\n",
    "def process_track(track):\n",
    "    key = track['track_uri']\n",
    "    if not key in tracks:\n",
    "        tk = dict()\n",
    "        tk['artist_name'] = track['artist_name']\n",
    "        tk['artist_uri'] = track['artist_uri']\n",
    "        tk['track_name'] = track['track_name']\n",
    "        tk['album_uri'] = track['album_uri']\n",
    "        tk['duration_ms'] = track['duration_ms']\n",
    "        tk['album_name'] = track['album_name']\n",
    "        tracks[track['track_uri']] = tk\n",
    "    return key\n",
    "\n",
    "def process_playlist(playlist):\n",
    "    pl = dict()\n",
    "    pl['name'] = playlist['name']\n",
    "    pl['collaborative'] = playlist['collaborative']\n",
    "    pl['pid'] = playlist['pid']\n",
    "    pl['modified_at'] = playlist['modified_at']\n",
    "    pl['num_albums'] = playlist['num_albums']\n",
    "    pl['num_tracks'] = playlist['num_tracks']\n",
    "    pl['num_followers'] = playlist['num_followers']\n",
    "    pl['num_edits'] = playlist['num_edits']\n",
    "    pl['duration_ms'] = playlist['duration_ms']\n",
    "    pl['num_artists'] = playlist['num_artists']\n",
    "    tracks = {}\n",
    "    for track in playlist['tracks']:\n",
    "        process_track(track)\n",
    "        #tracks.append(process_track(track))\n",
    "    pl['tracks'] = tracks\n",
    "    return pl\n",
    "\n",
    "def process_mpd(path):\n",
    "    count = 0\n",
    "    filenames = os.listdir(path)\n",
    "    for filename in sorted(filenames):\n",
    "        print(filename)\n",
    "        if filename.startswith(\"mpd.slice.\") and filename.endswith(\".json\"):\n",
    "            fullpath = os.sep.join((path, filename))\n",
    "            f = open(fullpath)\n",
    "            js = f.read()\n",
    "            f.close()\n",
    "            slice = json.loads(js)\n",
    "            for playlist in slice['playlists']:\n",
    "                playlists.append(process_playlist(playlist))\n",
    "            count += 1\n",
    "            if quick and count > max_files_for_quick_processing:\n",
    "                break\n",
    "\n",
    "quick = True\n",
    "process_mpd('mpd.v1/data')\n",
    "print(len(playlists))\n",
    "print(len(tracks))"
   ]
  },
  {
   "cell_type": "code",
   "execution_count": null,
   "metadata": {},
   "outputs": [],
   "source": []
  }
 ],
 "metadata": {
  "kernelspec": {
   "display_name": "Python 3",
   "language": "python",
   "name": "python3"
  },
  "language_info": {
   "codemirror_mode": {
    "name": "ipython",
    "version": 3
   },
   "file_extension": ".py",
   "mimetype": "text/x-python",
   "name": "python",
   "nbconvert_exporter": "python",
   "pygments_lexer": "ipython3",
   "version": "3.6.5"
  }
 },
 "nbformat": 4,
 "nbformat_minor": 2
}
