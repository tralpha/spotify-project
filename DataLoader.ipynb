{
 "cells": [
  {
   "cell_type": "code",
   "execution_count": 1,
   "metadata": {},
   "outputs": [],
   "source": [
    "import os\n",
    "import json\n",
    "import pandas as pd\n",
    "import numpy as np\n",
    "import scipy as sp\n",
    "from tqdm import tqdm_notebook as tqdm\n",
    "from sklearn.model_selection import train_test_split\n",
    "from sklearn.linear_model import LogisticRegression\n",
    "from sklearn.pipeline import FeatureUnion\n",
    "from sklearn.feature_extraction.text import CountVectorizer, TfidfTransformer\n",
    "from sklearn.preprocessing import OneHotEncoder\n",
    "from sklearn.base import BaseEstimator, TransformerMixin\n",
    "from sklearn.ensemble import AdaBoostClassifier\n",
    "from sklearn.tree import DecisionTreeClassifier\n",
    "from sklearn.metrics import accuracy_score\n",
    "from sklearn.metrics import make_scorer\n",
    "from scipy.sparse import coo_matrix, vstack\n",
    "\n",
    "# Metrics obtained from an organizer of the Challenge\n",
    "# https://github.com/plamere/RecsysChallengeTools/blob/master/metrics.py\n",
    "from metrics import r_precision\n",
    "import matplotlib\n",
    "import matplotlib.pyplot as plt\n",
    "%matplotlib inline"
   ]
  },
  {
   "cell_type": "code",
   "execution_count": 4,
   "metadata": {},
   "outputs": [
    {
     "name": "stdout",
     "output_type": "stream",
     "text": [
      "mpd.slice.0-999.json\n",
      "mpd.slice.1000-1999.json\n"
     ]
    }
   ],
   "source": [
    "playlists = list()\n",
    "tracks = dict()\n",
    "map_pl = list()\n",
    "\n",
    "max_files_for_quick_processing = 1\n",
    "\n",
    "\n",
    "def process_track(track):\n",
    "    key = track['track_uri']\n",
    "    if not key in tracks:\n",
    "        tk = dict()\n",
    "        tk['track_artist_name'] = track['artist_name']\n",
    "        tk['track_artist_uri'] = track['artist_uri']\n",
    "        tk['track_name'] = track['track_name']\n",
    "        tk['track_album_uri'] = track['album_uri']\n",
    "        tk['track_duration_ms'] = track['duration_ms']\n",
    "        tk['track_album_name'] = track['album_name']\n",
    "        tk['track_pos'] = track['pos']\n",
    "        tracks[track['track_uri']] = tk\n",
    "    return key\n",
    "\n",
    "\n",
    "def process_playlist(playlist):\n",
    "    pl = dict()\n",
    "    pl['playlist_name'] = playlist['name']\n",
    "    pl['playlist_collaborative'] = playlist['collaborative']\n",
    "    pl['playlist_pid'] = playlist['pid']\n",
    "    pl['playlist_modified_at'] = playlist['modified_at']\n",
    "    pl['playlist_num_albums'] = playlist['num_albums']\n",
    "    pl['playlist_num_tracks'] = playlist['num_tracks']\n",
    "    pl['playlist_num_followers'] = playlist['num_followers']\n",
    "    pl['playlist_num_edits'] = playlist['num_edits']\n",
    "    pl['playlist_duration_ms'] = playlist['duration_ms']\n",
    "    pl['playlist_num_artists'] = playlist['num_artists']\n",
    "    if 'description' in playlist:\n",
    "        pl['playlist_description'] = playlist['description']\n",
    "    else:\n",
    "        pl['playlist_description'] = ''\n",
    "    trks = list()\n",
    "    for track in playlist['tracks']:\n",
    "        map_pl.append([playlist['pid'], track['track_uri']])\n",
    "        trks.append(track['track_uri'])\n",
    "        process_track(track)\n",
    "    return pl\n",
    "\n",
    "def process_mpd(path):\n",
    "    count = 0\n",
    "    filenames = os.listdir(path)\n",
    "    for filename in sorted(filenames):\n",
    "        print(filename)\n",
    "        if filename.startswith(\"mpd.slice.\") and filename.endswith(\".json\"):\n",
    "            fullpath = os.sep.join((path, filename))\n",
    "            f = open(fullpath)\n",
    "            js = f.read()\n",
    "            f.close()\n",
    "            slice = json.loads(js)\n",
    "            for playlist in slice['playlists']:\n",
    "                playlists.append(process_playlist(playlist))\n",
    "            count += 1\n",
    "            if quick and count > max_files_for_quick_processing:\n",
    "                break\n",
    "\n",
    "quick = True\n",
    "process_mpd('mpd.v1/data')"
   ]
  },
  {
   "cell_type": "code",
   "execution_count": 5,
   "metadata": {},
   "outputs": [
    {
     "name": "stdout",
     "output_type": "stream",
     "text": [
      "2000\n",
      "57884\n",
      "134125\n"
     ]
    }
   ],
   "source": [
    "print(len(playlists))\n",
    "print(len(tracks))\n",
    "print(len(map_pl))"
   ]
  },
  {
   "cell_type": "code",
   "execution_count": 6,
   "metadata": {},
   "outputs": [
    {
     "data": {
      "text/html": [
       "<div>\n",
       "<style scoped>\n",
       "    .dataframe tbody tr th:only-of-type {\n",
       "        vertical-align: middle;\n",
       "    }\n",
       "\n",
       "    .dataframe tbody tr th {\n",
       "        vertical-align: top;\n",
       "    }\n",
       "\n",
       "    .dataframe thead th {\n",
       "        text-align: right;\n",
       "    }\n",
       "</style>\n",
       "<table border=\"1\" class=\"dataframe\">\n",
       "  <thead>\n",
       "    <tr style=\"text-align: right;\">\n",
       "      <th></th>\n",
       "      <th>playlist_collaborative</th>\n",
       "      <th>playlist_description</th>\n",
       "      <th>playlist_duration_ms</th>\n",
       "      <th>playlist_modified_at</th>\n",
       "      <th>playlist_name</th>\n",
       "      <th>playlist_num_albums</th>\n",
       "      <th>playlist_num_artists</th>\n",
       "      <th>playlist_num_edits</th>\n",
       "      <th>playlist_num_followers</th>\n",
       "      <th>playlist_num_tracks</th>\n",
       "      <th>playlist_pid</th>\n",
       "    </tr>\n",
       "  </thead>\n",
       "  <tbody>\n",
       "    <tr>\n",
       "      <th>0</th>\n",
       "      <td>false</td>\n",
       "      <td></td>\n",
       "      <td>11532414</td>\n",
       "      <td>1493424000</td>\n",
       "      <td>Throwbacks</td>\n",
       "      <td>47</td>\n",
       "      <td>37</td>\n",
       "      <td>6</td>\n",
       "      <td>1</td>\n",
       "      <td>52</td>\n",
       "      <td>0</td>\n",
       "    </tr>\n",
       "    <tr>\n",
       "      <th>1</th>\n",
       "      <td>false</td>\n",
       "      <td></td>\n",
       "      <td>11656470</td>\n",
       "      <td>1506556800</td>\n",
       "      <td>Awesome Playlist</td>\n",
       "      <td>23</td>\n",
       "      <td>21</td>\n",
       "      <td>5</td>\n",
       "      <td>1</td>\n",
       "      <td>39</td>\n",
       "      <td>1</td>\n",
       "    </tr>\n",
       "    <tr>\n",
       "      <th>2</th>\n",
       "      <td>false</td>\n",
       "      <td></td>\n",
       "      <td>14039958</td>\n",
       "      <td>1505692800</td>\n",
       "      <td>korean</td>\n",
       "      <td>51</td>\n",
       "      <td>31</td>\n",
       "      <td>18</td>\n",
       "      <td>1</td>\n",
       "      <td>64</td>\n",
       "      <td>2</td>\n",
       "    </tr>\n",
       "    <tr>\n",
       "      <th>3</th>\n",
       "      <td>false</td>\n",
       "      <td></td>\n",
       "      <td>28926058</td>\n",
       "      <td>1501027200</td>\n",
       "      <td>mat</td>\n",
       "      <td>107</td>\n",
       "      <td>86</td>\n",
       "      <td>4</td>\n",
       "      <td>1</td>\n",
       "      <td>126</td>\n",
       "      <td>3</td>\n",
       "    </tr>\n",
       "    <tr>\n",
       "      <th>4</th>\n",
       "      <td>false</td>\n",
       "      <td></td>\n",
       "      <td>4335282</td>\n",
       "      <td>1401667200</td>\n",
       "      <td>90s</td>\n",
       "      <td>16</td>\n",
       "      <td>16</td>\n",
       "      <td>7</td>\n",
       "      <td>2</td>\n",
       "      <td>17</td>\n",
       "      <td>4</td>\n",
       "    </tr>\n",
       "  </tbody>\n",
       "</table>\n",
       "</div>"
      ],
      "text/plain": [
       "  playlist_collaborative playlist_description  playlist_duration_ms  \\\n",
       "0                  false                                   11532414   \n",
       "1                  false                                   11656470   \n",
       "2                  false                                   14039958   \n",
       "3                  false                                   28926058   \n",
       "4                  false                                    4335282   \n",
       "\n",
       "   playlist_modified_at     playlist_name  playlist_num_albums  \\\n",
       "0            1493424000        Throwbacks                   47   \n",
       "1            1506556800  Awesome Playlist                   23   \n",
       "2            1505692800           korean                    51   \n",
       "3            1501027200               mat                  107   \n",
       "4            1401667200               90s                   16   \n",
       "\n",
       "   playlist_num_artists  playlist_num_edits  playlist_num_followers  \\\n",
       "0                    37                   6                       1   \n",
       "1                    21                   5                       1   \n",
       "2                    31                  18                       1   \n",
       "3                    86                   4                       1   \n",
       "4                    16                   7                       2   \n",
       "\n",
       "   playlist_num_tracks  playlist_pid  \n",
       "0                   52             0  \n",
       "1                   39             1  \n",
       "2                   64             2  \n",
       "3                  126             3  \n",
       "4                   17             4  "
      ]
     },
     "execution_count": 6,
     "metadata": {},
     "output_type": "execute_result"
    }
   ],
   "source": [
    "playlist_df = pd.DataFrame(playlists)\n",
    "playlist_df.head()\n",
    "# print(playlist_df.describe())"
   ]
  },
  {
   "cell_type": "code",
   "execution_count": 7,
   "metadata": {},
   "outputs": [
    {
     "data": {
      "text/html": [
       "<div>\n",
       "<style scoped>\n",
       "    .dataframe tbody tr th:only-of-type {\n",
       "        vertical-align: middle;\n",
       "    }\n",
       "\n",
       "    .dataframe tbody tr th {\n",
       "        vertical-align: top;\n",
       "    }\n",
       "\n",
       "    .dataframe thead th {\n",
       "        text-align: right;\n",
       "    }\n",
       "</style>\n",
       "<table border=\"1\" class=\"dataframe\">\n",
       "  <thead>\n",
       "    <tr style=\"text-align: right;\">\n",
       "      <th></th>\n",
       "      <th>track_artist_name</th>\n",
       "      <th>track_artist_uri</th>\n",
       "      <th>track_name</th>\n",
       "      <th>track_album_uri</th>\n",
       "      <th>track_duration_ms</th>\n",
       "      <th>track_album_name</th>\n",
       "      <th>track_pos</th>\n",
       "    </tr>\n",
       "  </thead>\n",
       "  <tbody>\n",
       "    <tr>\n",
       "      <th>spotify:track:000mA0etY38nKdvf1N04af</th>\n",
       "      <td>The Coronas</td>\n",
       "      <td>spotify:artist:2tppd6KkhK4ULAd217Ecq1</td>\n",
       "      <td>If I Gave Myself To Someone Else</td>\n",
       "      <td>spotify:album:662PiU3dRsilN0Gp87IiSF</td>\n",
       "      <td>214506</td>\n",
       "      <td>The Long Way</td>\n",
       "      <td>12</td>\n",
       "    </tr>\n",
       "    <tr>\n",
       "      <th>spotify:track:000xQL6tZNLJzIrtIgxqSl</th>\n",
       "      <td>ZAYN</td>\n",
       "      <td>spotify:artist:5ZsFI1h6hIdQRw2ti0hz81</td>\n",
       "      <td>Still Got Time</td>\n",
       "      <td>spotify:album:2kGUeTGnkLOYlinKRJe47G</td>\n",
       "      <td>188490</td>\n",
       "      <td>Still Got Time</td>\n",
       "      <td>85</td>\n",
       "    </tr>\n",
       "    <tr>\n",
       "      <th>spotify:track:002PgfoyfrOGiKch4EW8Wm</th>\n",
       "      <td>Alan Menken</td>\n",
       "      <td>spotify:artist:5sy77gt4bfsLcSQ8GIe4ZZ</td>\n",
       "      <td>Jasmine Runs Away</td>\n",
       "      <td>spotify:album:29EiOQJnxWlX5nVOWQpu3u</td>\n",
       "      <td>46866</td>\n",
       "      <td>Aladdin</td>\n",
       "      <td>157</td>\n",
       "    </tr>\n",
       "    <tr>\n",
       "      <th>spotify:track:004skCQeDn1iLntSom0rRr</th>\n",
       "      <td>Kevin Jonas</td>\n",
       "      <td>spotify:artist:11bdWrCwHE2gCdVARdASuu</td>\n",
       "      <td>Heart and Soul</td>\n",
       "      <td>spotify:album:5iK842b9xnZblgZkRxWCFe</td>\n",
       "      <td>177773</td>\n",
       "      <td>Camp Rock 2: The Final Jam</td>\n",
       "      <td>62</td>\n",
       "    </tr>\n",
       "    <tr>\n",
       "      <th>spotify:track:005CGalYNgMNZcvWMIFeK8</th>\n",
       "      <td>Nelson Y Sus Estrellas</td>\n",
       "      <td>spotify:artist:5SRwYMyavJCNT2AdVMpPgi</td>\n",
       "      <td>LLorándote</td>\n",
       "      <td>spotify:album:2TfoLoZHhsL0oAYBxDi4t2</td>\n",
       "      <td>321480</td>\n",
       "      <td>Orquídea de Plata</td>\n",
       "      <td>110</td>\n",
       "    </tr>\n",
       "  </tbody>\n",
       "</table>\n",
       "</div>"
      ],
      "text/plain": [
       "                                           track_artist_name  \\\n",
       "spotify:track:000mA0etY38nKdvf1N04af             The Coronas   \n",
       "spotify:track:000xQL6tZNLJzIrtIgxqSl                    ZAYN   \n",
       "spotify:track:002PgfoyfrOGiKch4EW8Wm             Alan Menken   \n",
       "spotify:track:004skCQeDn1iLntSom0rRr             Kevin Jonas   \n",
       "spotify:track:005CGalYNgMNZcvWMIFeK8  Nelson Y Sus Estrellas   \n",
       "\n",
       "                                                           track_artist_uri  \\\n",
       "spotify:track:000mA0etY38nKdvf1N04af  spotify:artist:2tppd6KkhK4ULAd217Ecq1   \n",
       "spotify:track:000xQL6tZNLJzIrtIgxqSl  spotify:artist:5ZsFI1h6hIdQRw2ti0hz81   \n",
       "spotify:track:002PgfoyfrOGiKch4EW8Wm  spotify:artist:5sy77gt4bfsLcSQ8GIe4ZZ   \n",
       "spotify:track:004skCQeDn1iLntSom0rRr  spotify:artist:11bdWrCwHE2gCdVARdASuu   \n",
       "spotify:track:005CGalYNgMNZcvWMIFeK8  spotify:artist:5SRwYMyavJCNT2AdVMpPgi   \n",
       "\n",
       "                                                            track_name  \\\n",
       "spotify:track:000mA0etY38nKdvf1N04af  If I Gave Myself To Someone Else   \n",
       "spotify:track:000xQL6tZNLJzIrtIgxqSl                    Still Got Time   \n",
       "spotify:track:002PgfoyfrOGiKch4EW8Wm                 Jasmine Runs Away   \n",
       "spotify:track:004skCQeDn1iLntSom0rRr                    Heart and Soul   \n",
       "spotify:track:005CGalYNgMNZcvWMIFeK8                        LLorándote   \n",
       "\n",
       "                                                           track_album_uri  \\\n",
       "spotify:track:000mA0etY38nKdvf1N04af  spotify:album:662PiU3dRsilN0Gp87IiSF   \n",
       "spotify:track:000xQL6tZNLJzIrtIgxqSl  spotify:album:2kGUeTGnkLOYlinKRJe47G   \n",
       "spotify:track:002PgfoyfrOGiKch4EW8Wm  spotify:album:29EiOQJnxWlX5nVOWQpu3u   \n",
       "spotify:track:004skCQeDn1iLntSom0rRr  spotify:album:5iK842b9xnZblgZkRxWCFe   \n",
       "spotify:track:005CGalYNgMNZcvWMIFeK8  spotify:album:2TfoLoZHhsL0oAYBxDi4t2   \n",
       "\n",
       "                                      track_duration_ms  \\\n",
       "spotify:track:000mA0etY38nKdvf1N04af             214506   \n",
       "spotify:track:000xQL6tZNLJzIrtIgxqSl             188490   \n",
       "spotify:track:002PgfoyfrOGiKch4EW8Wm              46866   \n",
       "spotify:track:004skCQeDn1iLntSom0rRr             177773   \n",
       "spotify:track:005CGalYNgMNZcvWMIFeK8             321480   \n",
       "\n",
       "                                                track_album_name  track_pos  \n",
       "spotify:track:000mA0etY38nKdvf1N04af                The Long Way         12  \n",
       "spotify:track:000xQL6tZNLJzIrtIgxqSl              Still Got Time         85  \n",
       "spotify:track:002PgfoyfrOGiKch4EW8Wm                     Aladdin        157  \n",
       "spotify:track:004skCQeDn1iLntSom0rRr  Camp Rock 2: The Final Jam         62  \n",
       "spotify:track:005CGalYNgMNZcvWMIFeK8           Orquídea de Plata        110  "
      ]
     },
     "execution_count": 7,
     "metadata": {},
     "output_type": "execute_result"
    }
   ],
   "source": [
    "tracks_df = pd.DataFrame.from_dict(tracks, orient='index')\n",
    "tracks_df.head()\n",
    "# print(tracks_df.describe())"
   ]
  },
  {
   "cell_type": "code",
   "execution_count": 8,
   "metadata": {},
   "outputs": [
    {
     "data": {
      "text/html": [
       "<div>\n",
       "<style scoped>\n",
       "    .dataframe tbody tr th:only-of-type {\n",
       "        vertical-align: middle;\n",
       "    }\n",
       "\n",
       "    .dataframe tbody tr th {\n",
       "        vertical-align: top;\n",
       "    }\n",
       "\n",
       "    .dataframe thead th {\n",
       "        text-align: right;\n",
       "    }\n",
       "</style>\n",
       "<table border=\"1\" class=\"dataframe\">\n",
       "  <thead>\n",
       "    <tr style=\"text-align: right;\">\n",
       "      <th></th>\n",
       "      <th>playlist_pid</th>\n",
       "      <th>track_uri</th>\n",
       "    </tr>\n",
       "  </thead>\n",
       "  <tbody>\n",
       "    <tr>\n",
       "      <th>0</th>\n",
       "      <td>0</td>\n",
       "      <td>spotify:track:0UaMYEvWZi0ZqiDOoHU3YI</td>\n",
       "    </tr>\n",
       "    <tr>\n",
       "      <th>1</th>\n",
       "      <td>0</td>\n",
       "      <td>spotify:track:6I9VzXrHxO9rA9A5euc8Ak</td>\n",
       "    </tr>\n",
       "    <tr>\n",
       "      <th>2</th>\n",
       "      <td>0</td>\n",
       "      <td>spotify:track:0WqIKmW4BTrj3eJFmnCKMv</td>\n",
       "    </tr>\n",
       "    <tr>\n",
       "      <th>3</th>\n",
       "      <td>0</td>\n",
       "      <td>spotify:track:1AWQoqb9bSvzTjaLralEkT</td>\n",
       "    </tr>\n",
       "    <tr>\n",
       "      <th>4</th>\n",
       "      <td>0</td>\n",
       "      <td>spotify:track:1lzr43nnXAijIGYnCT8M8H</td>\n",
       "    </tr>\n",
       "  </tbody>\n",
       "</table>\n",
       "</div>"
      ],
      "text/plain": [
       "   playlist_pid                             track_uri\n",
       "0             0  spotify:track:0UaMYEvWZi0ZqiDOoHU3YI\n",
       "1             0  spotify:track:6I9VzXrHxO9rA9A5euc8Ak\n",
       "2             0  spotify:track:0WqIKmW4BTrj3eJFmnCKMv\n",
       "3             0  spotify:track:1AWQoqb9bSvzTjaLralEkT\n",
       "4             0  spotify:track:1lzr43nnXAijIGYnCT8M8H"
      ]
     },
     "execution_count": 8,
     "metadata": {},
     "output_type": "execute_result"
    }
   ],
   "source": [
    "playlist_map_df = pd.DataFrame(map_pl, columns=['playlist_pid', 'track_uri'])\n",
    "playlist_map_df.head()\n",
    "#print(playlist_map_df.describe())"
   ]
  },
  {
   "cell_type": "markdown",
   "metadata": {},
   "source": [
    "We set strings to lower case remove all non alphabetic characters and stop-words"
   ]
  },
  {
   "cell_type": "code",
   "execution_count": 158,
   "metadata": {},
   "outputs": [],
   "source": [
    "import nltk\n",
    "import string\n",
    "#nltk.download('stopwords')\n",
    "from nltk.corpus import stopwords\n",
    "stop = stopwords.words('english')\n",
    "ignored_words = [\n",
    "    'music', 'songs', 'playlist', 'good', 'jams', 'mix', 'lit', 'best',\n",
    "    'stuff', 'quot', 'like', 'one', 'amp', 'get', 'make', 'new', 'know',\n",
    "    'really', 'back', 'day', 'days', 'little', 'things', 'great', 'everything',\n",
    "    'jamz', 'tunes', 'artist', 'song', 'top', 'listen', 'favorite', 'bops',\n",
    "    'description', 'top', 'ever', 'mostly', 'enjoy', 'bunch', 'track',\n",
    "    'tracks', 'collection', 'need', 'every', 'favorites', 'may', 'got',\n",
    "    'right', 'let', 'better', 'made'\n",
    "]\n",
    "\n",
    "\n",
    "def word_cleanup(df_col):\n",
    "    df_col = df_col.apply(lambda x: x.lower())\n",
    "    df_col = df_col.str.replace('[^a-z]+', ' ')\n",
    "    df_col = df_col.apply(\n",
    "        lambda x: ' '.join([word for word in x.split() if word not in (stop)]))\n",
    "    df_col = df_col.apply(lambda x: ' '.join([word for word in x.split() if word not in (ignored_words)]))\n",
    "    df_col = df_col.str.replace(r'\\b\\w{1,2}\\b', '').str.replace(r'\\s+', ' ')\n",
    "    return df_col\n",
    "\n",
    "\n",
    "playlist_df.playlist_description = word_cleanup(\n",
    "    playlist_df.playlist_description)\n",
    "playlist_df.playlist_name = word_cleanup(playlist_df.playlist_name)\n",
    "\n",
    "#playlist_df.playlist_name = playlist_df.playlist_name.apply(lambda x: x.lower())\n",
    "#playlist_df.playlist_name = playlist_df.playlist_name.str.replace('[^a-z]+', ' ')\n",
    "#playlist_df.playlist_name = playlist_df.playlist_name.apply(lambda x: ' '.join([word for word in x.split() if word not in (stop)]))"
   ]
  },
  {
   "cell_type": "code",
   "execution_count": null,
   "metadata": {},
   "outputs": [],
   "source": [
    "#pip install wordcloud\n",
    "from wordcloud import WordCloud\n",
    "\n",
    "def generate_wordcloud(text): # optionally add: stopwords=STOPWORDS and change the arg below\n",
    "    wordcloud = WordCloud(font_path='/Library/Fonts/Verdana.ttf',\n",
    "                          relative_scaling = 0.1,\n",
    "                          ).generate(text)\n",
    "    plt.figure(figsize=(15,10))\n",
    "    plt.imshow(wordcloud)\n",
    "    plt.axis(\"off\")\n",
    "    plt.show()\n",
    "\n",
    "generate_wordcloud(' '.join(playlist_df.playlist_name))\n",
    "\n",
    "generate_wordcloud(' '.join(playlist_df.playlist_description))"
   ]
  },
  {
   "cell_type": "code",
   "execution_count": 10,
   "metadata": {},
   "outputs": [],
   "source": [
    "from sklearn.feature_extraction.text import CountVectorizer, TfidfTransformer\n",
    "\n",
    "cv_description = CountVectorizer(token_pattern=r\"(?u)\\b\\w+\\b\", stop_words=None, ngram_range=(1,1), analyzer='word')\n",
    "dt_mat_description = cv_description.fit_transform(playlist_df.playlist_description)\n",
    "playlist_df['playlist_description_frequency'] = list(dt_mat_description.toarray())\n",
    "\n",
    "cv_name = CountVectorizer(token_pattern=r\"(?u)\\b\\w+\\b\", stop_words=None, ngram_range=(1,1), analyzer='word')\n",
    "dt_mat_name = cv_name.fit_transform(playlist_df.playlist_name)\n",
    "playlist_df['playlist_name_frequency'] = list(dt_mat_name.toarray())"
   ]
  },
  {
   "cell_type": "code",
   "execution_count": null,
   "metadata": {},
   "outputs": [],
   "source": [
    "#pip install yellowbrick\n",
    "from yellowbrick.text import FreqDistVisualizer\n",
    "\n",
    "plt.figure(figsize=(15,20))\n",
    "visualizer = FreqDistVisualizer(n=100, features = cv_name.get_feature_names())\n",
    "visualizer.fit(dt_mat_name)\n",
    "visualizer.poof()"
   ]
  },
  {
   "cell_type": "code",
   "execution_count": null,
   "metadata": {},
   "outputs": [],
   "source": [
    "from yellowbrick.text import FreqDistVisualizer\n",
    "\n",
    "plt.figure(figsize=(15,20))\n",
    "visualizer = FreqDistVisualizer(n=100, features = cv_description.get_feature_names())\n",
    "visualizer.fit(dt_mat_description)\n",
    "visualizer.poof()"
   ]
  },
  {
   "cell_type": "code",
   "execution_count": null,
   "metadata": {},
   "outputs": [],
   "source": [
    "tfidf_transformer = TfidfTransformer()\n",
    "\n",
    "tfidf_mat_description = tfidf_transformer.fit_transform(dt_mat_description)\n",
    "playlist_df['playlist_description_tfidf_score']=list(tfidf_mat_description.toarray())\n",
    "\n",
    "tfidf_mat_name = tfidf_transformer.fit_transform(dt_mat_name)\n",
    "playlist_df['playlist_name_tfidf_score']=list(tfidf_mat_name.toarray())\n",
    "playlist_df"
   ]
  },
  {
   "cell_type": "code",
   "execution_count": null,
   "metadata": {},
   "outputs": [],
   "source": [
    "bigrams_name_frequency = pd.DataFrame(dt_mat_name.todense(), index=playlist_df.index, columns=cv_name.get_feature_names())\n",
    "bigrams_name_frequency['playlist_pid'] = playlist_df.playlist_pid\n",
    "print(bigrams_name_frequency)\n",
    "\n",
    "bigrams_desc_frequency = pd.DataFrame(tfidf_mat_description.todense(), index=playlist_df.index, columns=cv_description.get_feature_names())\n",
    "bigrams_desc_frequency['playlist_pid'] = playlist_df.playlist_pid\n",
    "print(bigrams_desc_frequency)\n",
    "\n",
    "bigrams_name_tfidf_score = pd.DataFrame(dt_mat_name.todense(), index=playlist_df.index, columns=cv_name.get_feature_names())\n",
    "bigrams_name_tfidf_score['playlist_pid'] = playlist_df.playlist_pid\n",
    "print(bigrams_name_tfidf_score)\n",
    "\n",
    "bigrams_desc_tfidf_score = pd.DataFrame(tfidf_mat_description.todense(), index=playlist_df.index, columns=cv_description.get_feature_names())\n",
    "bigrams_desc_tfidf_score['playlist_pid'] = playlist_df.playlist_pid\n",
    "print(bigrams_desc_tfidf_score)"
   ]
  },
  {
   "cell_type": "code",
   "execution_count": 9,
   "metadata": {},
   "outputs": [],
   "source": [
    "merged = pd.merge(\n",
    "    pd.merge(\n",
    "        tracks_df, playlist_map_df, left_index=True, right_on='track_uri'),\n",
    "    playlist_df,\n",
    "    on='playlist_pid')"
   ]
  },
  {
   "cell_type": "code",
   "execution_count": 10,
   "metadata": {},
   "outputs": [
    {
     "data": {
      "text/html": [
       "<div>\n",
       "<style scoped>\n",
       "    .dataframe tbody tr th:only-of-type {\n",
       "        vertical-align: middle;\n",
       "    }\n",
       "\n",
       "    .dataframe tbody tr th {\n",
       "        vertical-align: top;\n",
       "    }\n",
       "\n",
       "    .dataframe thead th {\n",
       "        text-align: right;\n",
       "    }\n",
       "</style>\n",
       "<table border=\"1\" class=\"dataframe\">\n",
       "  <thead>\n",
       "    <tr style=\"text-align: right;\">\n",
       "      <th></th>\n",
       "      <th>track_artist_name</th>\n",
       "      <th>track_artist_uri</th>\n",
       "      <th>track_name</th>\n",
       "      <th>track_album_uri</th>\n",
       "      <th>track_duration_ms</th>\n",
       "      <th>track_album_name</th>\n",
       "      <th>track_pos</th>\n",
       "      <th>playlist_pid</th>\n",
       "      <th>track_uri</th>\n",
       "      <th>playlist_collaborative</th>\n",
       "      <th>playlist_description</th>\n",
       "      <th>playlist_duration_ms</th>\n",
       "      <th>playlist_modified_at</th>\n",
       "      <th>playlist_name</th>\n",
       "      <th>playlist_num_albums</th>\n",
       "      <th>playlist_num_artists</th>\n",
       "      <th>playlist_num_edits</th>\n",
       "      <th>playlist_num_followers</th>\n",
       "      <th>playlist_num_tracks</th>\n",
       "    </tr>\n",
       "  </thead>\n",
       "  <tbody>\n",
       "    <tr>\n",
       "      <th>0</th>\n",
       "      <td>The Coronas</td>\n",
       "      <td>spotify:artist:2tppd6KkhK4ULAd217Ecq1</td>\n",
       "      <td>If I Gave Myself To Someone Else</td>\n",
       "      <td>spotify:album:662PiU3dRsilN0Gp87IiSF</td>\n",
       "      <td>214506</td>\n",
       "      <td>The Long Way</td>\n",
       "      <td>12</td>\n",
       "      <td>371</td>\n",
       "      <td>spotify:track:000mA0etY38nKdvf1N04af</td>\n",
       "      <td>false</td>\n",
       "      <td></td>\n",
       "      <td>3675883</td>\n",
       "      <td>1496793600</td>\n",
       "      <td>quiet</td>\n",
       "      <td>15</td>\n",
       "      <td>14</td>\n",
       "      <td>4</td>\n",
       "      <td>1</td>\n",
       "      <td>15</td>\n",
       "    </tr>\n",
       "    <tr>\n",
       "      <th>1</th>\n",
       "      <td>Lewis Watson</td>\n",
       "      <td>spotify:artist:40ELTAg7Kg6vbWnlyx2n9R</td>\n",
       "      <td>stones around the sun</td>\n",
       "      <td>spotify:album:4cKBAg2zgjrVF2XefrW4WC</td>\n",
       "      <td>224440</td>\n",
       "      <td>the morning</td>\n",
       "      <td>5</td>\n",
       "      <td>371</td>\n",
       "      <td>spotify:track:0JGbwcwPV0VfuR4zDcZ9ce</td>\n",
       "      <td>false</td>\n",
       "      <td></td>\n",
       "      <td>3675883</td>\n",
       "      <td>1496793600</td>\n",
       "      <td>quiet</td>\n",
       "      <td>15</td>\n",
       "      <td>14</td>\n",
       "      <td>4</td>\n",
       "      <td>1</td>\n",
       "      <td>15</td>\n",
       "    </tr>\n",
       "    <tr>\n",
       "      <th>2</th>\n",
       "      <td>Jaymes Young</td>\n",
       "      <td>spotify:artist:6QrQ7OrISRYIfS5mtacaw2</td>\n",
       "      <td>We Won't</td>\n",
       "      <td>spotify:album:6MuWCR3WPjwyKhqsTKLZ3z</td>\n",
       "      <td>240586</td>\n",
       "      <td>Feel Something</td>\n",
       "      <td>179</td>\n",
       "      <td>371</td>\n",
       "      <td>spotify:track:0Zge2Kfo3Yd9JOGnAmVPbb</td>\n",
       "      <td>false</td>\n",
       "      <td></td>\n",
       "      <td>3675883</td>\n",
       "      <td>1496793600</td>\n",
       "      <td>quiet</td>\n",
       "      <td>15</td>\n",
       "      <td>14</td>\n",
       "      <td>4</td>\n",
       "      <td>1</td>\n",
       "      <td>15</td>\n",
       "    </tr>\n",
       "    <tr>\n",
       "      <th>3</th>\n",
       "      <td>John Lucas</td>\n",
       "      <td>spotify:artist:7iEy8zKFtlYIINaxxLIyBk</td>\n",
       "      <td>This Will Be Our Home</td>\n",
       "      <td>spotify:album:2N7sEVVS3jKMJJuJi4v0UF</td>\n",
       "      <td>277160</td>\n",
       "      <td>Promised Land</td>\n",
       "      <td>14</td>\n",
       "      <td>371</td>\n",
       "      <td>spotify:track:1Sw7fhf7YJCD6GcWW0wETD</td>\n",
       "      <td>false</td>\n",
       "      <td></td>\n",
       "      <td>3675883</td>\n",
       "      <td>1496793600</td>\n",
       "      <td>quiet</td>\n",
       "      <td>15</td>\n",
       "      <td>14</td>\n",
       "      <td>4</td>\n",
       "      <td>1</td>\n",
       "      <td>15</td>\n",
       "    </tr>\n",
       "    <tr>\n",
       "      <th>4</th>\n",
       "      <td>Hozier</td>\n",
       "      <td>spotify:artist:2FXC3k01G6Gw61bmprjgqS</td>\n",
       "      <td>Cherry Wine - Live</td>\n",
       "      <td>spotify:album:36k5aXpxffjVGcNce12GLZ</td>\n",
       "      <td>240147</td>\n",
       "      <td>Hozier</td>\n",
       "      <td>84</td>\n",
       "      <td>371</td>\n",
       "      <td>spotify:track:1ivHxaGL5ld9VS1zsYc4YN</td>\n",
       "      <td>false</td>\n",
       "      <td></td>\n",
       "      <td>3675883</td>\n",
       "      <td>1496793600</td>\n",
       "      <td>quiet</td>\n",
       "      <td>15</td>\n",
       "      <td>14</td>\n",
       "      <td>4</td>\n",
       "      <td>1</td>\n",
       "      <td>15</td>\n",
       "    </tr>\n",
       "  </tbody>\n",
       "</table>\n",
       "</div>"
      ],
      "text/plain": [
       "  track_artist_name                       track_artist_uri  \\\n",
       "0       The Coronas  spotify:artist:2tppd6KkhK4ULAd217Ecq1   \n",
       "1      Lewis Watson  spotify:artist:40ELTAg7Kg6vbWnlyx2n9R   \n",
       "2      Jaymes Young  spotify:artist:6QrQ7OrISRYIfS5mtacaw2   \n",
       "3        John Lucas  spotify:artist:7iEy8zKFtlYIINaxxLIyBk   \n",
       "4            Hozier  spotify:artist:2FXC3k01G6Gw61bmprjgqS   \n",
       "\n",
       "                         track_name                       track_album_uri  \\\n",
       "0  If I Gave Myself To Someone Else  spotify:album:662PiU3dRsilN0Gp87IiSF   \n",
       "1             stones around the sun  spotify:album:4cKBAg2zgjrVF2XefrW4WC   \n",
       "2                          We Won't  spotify:album:6MuWCR3WPjwyKhqsTKLZ3z   \n",
       "3             This Will Be Our Home  spotify:album:2N7sEVVS3jKMJJuJi4v0UF   \n",
       "4                Cherry Wine - Live  spotify:album:36k5aXpxffjVGcNce12GLZ   \n",
       "\n",
       "   track_duration_ms track_album_name  track_pos  playlist_pid  \\\n",
       "0             214506     The Long Way         12           371   \n",
       "1             224440      the morning          5           371   \n",
       "2             240586   Feel Something        179           371   \n",
       "3             277160    Promised Land         14           371   \n",
       "4             240147           Hozier         84           371   \n",
       "\n",
       "                              track_uri playlist_collaborative  \\\n",
       "0  spotify:track:000mA0etY38nKdvf1N04af                  false   \n",
       "1  spotify:track:0JGbwcwPV0VfuR4zDcZ9ce                  false   \n",
       "2  spotify:track:0Zge2Kfo3Yd9JOGnAmVPbb                  false   \n",
       "3  spotify:track:1Sw7fhf7YJCD6GcWW0wETD                  false   \n",
       "4  spotify:track:1ivHxaGL5ld9VS1zsYc4YN                  false   \n",
       "\n",
       "  playlist_description  playlist_duration_ms  playlist_modified_at  \\\n",
       "0                                    3675883            1496793600   \n",
       "1                                    3675883            1496793600   \n",
       "2                                    3675883            1496793600   \n",
       "3                                    3675883            1496793600   \n",
       "4                                    3675883            1496793600   \n",
       "\n",
       "  playlist_name  playlist_num_albums  playlist_num_artists  \\\n",
       "0         quiet                   15                    14   \n",
       "1         quiet                   15                    14   \n",
       "2         quiet                   15                    14   \n",
       "3         quiet                   15                    14   \n",
       "4         quiet                   15                    14   \n",
       "\n",
       "   playlist_num_edits  playlist_num_followers  playlist_num_tracks  \n",
       "0                   4                       1                   15  \n",
       "1                   4                       1                   15  \n",
       "2                   4                       1                   15  \n",
       "3                   4                       1                   15  \n",
       "4                   4                       1                   15  "
      ]
     },
     "execution_count": 10,
     "metadata": {},
     "output_type": "execute_result"
    }
   ],
   "source": [
    "merged.head()"
   ]
  },
  {
   "cell_type": "code",
   "execution_count": 11,
   "metadata": {},
   "outputs": [
    {
     "data": {
      "application/vnd.jupyter.widget-view+json": {
       "model_id": "7b13f55d15cc43f793f3c824d3df4c9d",
       "version_major": 2,
       "version_minor": 0
      },
      "text/html": [
       "<p>Failed to display Jupyter Widget of type <code>HBox</code>.</p>\n",
       "<p>\n",
       "  If you're reading this message in the Jupyter Notebook or JupyterLab Notebook, it may mean\n",
       "  that the widgets JavaScript is still loading. If this message persists, it\n",
       "  likely means that the widgets JavaScript library is either not installed or\n",
       "  not enabled. See the <a href=\"https://ipywidgets.readthedocs.io/en/stable/user_install.html\">Jupyter\n",
       "  Widgets Documentation</a> for setup instructions.\n",
       "</p>\n",
       "<p>\n",
       "  If you're reading this message in another frontend (for example, a static\n",
       "  rendering on GitHub or <a href=\"https://nbviewer.jupyter.org/\">NBViewer</a>),\n",
       "  it may mean that your frontend doesn't currently support widgets.\n",
       "</p>\n"
      ],
      "text/plain": [
       "HBox(children=(IntProgress(value=0, max=2000), HTML(value='')))"
      ]
     },
     "metadata": {},
     "output_type": "display_data"
    },
    {
     "name": "stdout",
     "output_type": "stream",
     "text": [
      "\n"
     ]
    }
   ],
   "source": [
    "# Create Negative Samples\n",
    "negative_samples = pd.DataFrame([])\n",
    "for pid, df in tqdm(merged.groupby([\"playlist_pid\"])):\n",
    "    negative_tracks = tracks_df.drop(df.track_uri).sample(df.shape[0])\n",
    "    negative_playlist_tracks = pd.concat(\n",
    "        [\n",
    "            df.drop(list(tracks_df.columns) + ['track_uri'], axis=1).reset_index(\n",
    "                drop=True), negative_tracks.reset_index()\n",
    "        ],\n",
    "        axis=1)\n",
    "    negative_playlist_tracks.rename(columns={'index': 'track_uri'}, inplace=True)\n",
    "    negative_samples = negative_samples.append(negative_playlist_tracks)"
   ]
  },
  {
   "cell_type": "code",
   "execution_count": 12,
   "metadata": {},
   "outputs": [],
   "source": [
    "# Provide labels\n",
    "negative_samples['match'] = 0\n",
    "merged['match'] = 1"
   ]
  },
  {
   "cell_type": "code",
   "execution_count": 13,
   "metadata": {},
   "outputs": [],
   "source": [
    "dataset = merged.append(negative_samples[merged.columns]).sort_values(by=['playlist_pid']).reset_index(drop=True)\n",
    "dataset.loc[:,'playlist_pid'] = dataset.playlist_pid.astype(str)\n",
    "dataset = dataset[list(tracks_df.columns)+['track_uri']+list(playlist_df.columns)+['match']]"
   ]
  },
  {
   "cell_type": "code",
   "execution_count": 14,
   "metadata": {},
   "outputs": [
    {
     "data": {
      "text/plain": [
       "dtype('O')"
      ]
     },
     "execution_count": 14,
     "metadata": {},
     "output_type": "execute_result"
    }
   ],
   "source": [
    "dataset.playlist_pid.dtype"
   ]
  },
  {
   "cell_type": "code",
   "execution_count": 51,
   "metadata": {},
   "outputs": [],
   "source": [
    "### Include the features in the list below\n",
    "# features = [\n",
    "#     'playlist_duration_ms', 'playlist_num_albums', 'playlist_num_artists',\n",
    "#     'playlist_num_edits', 'playlist_num_followers', 'playlist_num_tracks',\n",
    "#     'playlist_pid', 'track_duration_ms'\n",
    "# ]\n",
    "# data_x = dataset[features]\n",
    "data_x = dataset.loc[:, dataset.columns != 'match']\n",
    "data_y = dataset.match\n",
    "data_train, data_test, y_train, y_test = train_test_split(\n",
    "    data_x,\n",
    "    data_y,\n",
    "    test_size=0.1,\n",
    "    stratify=dataset.playlist_pid,\n",
    "    # stratify=dataset.match,\n",
    "    random_state=42,\n",
    "    shuffle=True)"
   ]
  },
  {
   "cell_type": "code",
   "execution_count": 52,
   "metadata": {},
   "outputs": [],
   "source": [
    "class ItemSelector(BaseEstimator, TransformerMixin):\n",
    "    \"\"\"For data grouped by feature, select subset of data at a provided key.\n",
    "\n",
    "    The data is expected to be stored in a 2D data structure, where the first\n",
    "    index is over features and the second is over samples.  i.e.\n",
    "\n",
    "    >> len(data[key]) == n_samples\n",
    "\n",
    "    Please note that this is the opposite convention to scikit-learn feature\n",
    "    matrixes (where the first index corresponds to sample).\n",
    "\n",
    "    ItemSelector only requires that the collection implement getitem\n",
    "    (data[key]).  Examples include: a dict of lists, 2D numpy array, Pandas\n",
    "    DataFrame, numpy record array, etc.\n",
    "\n",
    "    >> data = {'a': [1, 5, 2, 5, 2, 8],\n",
    "               'b': [9, 4, 1, 4, 1, 3]}\n",
    "    >> ds = ItemSelector(key='a')\n",
    "    >> data['a'] == ds.transform(data)\n",
    "\n",
    "    ItemSelector is not designed to handle data grouped by sample.  (e.g. a\n",
    "    list of dicts).  If your data is structured this way, consider a\n",
    "    transformer along the lines of `sklearn.feature_extraction.DictVectorizer`.\n",
    "\n",
    "    Parameters\n",
    "    ----------\n",
    "    key : hashable, required\n",
    "        The key corresponding to the desired value in a mappable.\n",
    "    \"\"\"\n",
    "    def __init__(self, key):\n",
    "        self.key = key\n",
    "\n",
    "    def fit(self, x, y=None):\n",
    "        return self\n",
    "\n",
    "    def transform(self, data_dict):\n",
    "        # if self.key == 'playlist_pid': from IPython.core.debugger import set_trace; set_trace()\n",
    "        return data_dict[:,[self.key]].astype(np.int64)\n",
    "\n",
    "    def get_feature_names(self):\n",
    "        return [dataset.columns[self.key]]"
   ]
  },
  {
   "cell_type": "code",
   "execution_count": 53,
   "metadata": {},
   "outputs": [],
   "source": [
    "# %%time\n",
    "\n",
    "# we need a custom pre-processor to extract correct field,\n",
    "# but want to also use default scikit-learn preprocessing (e.g. lowercasing)\n",
    "default_preprocessor = CountVectorizer().build_preprocessor()\n",
    "\n",
    "\n",
    "def build_preprocessor(field):\n",
    "    field_idx = list(dataset.columns).index(field)\n",
    "    # if field == 'playlist_pid': from IPython.core.debugger import set_trace; set_trace()\n",
    "    return lambda x: default_preprocessor(x[field_idx])\n",
    "\n",
    "\n",
    "vectorizer = FeatureUnion([\n",
    "    (\n",
    "        'track_artist_uri',\n",
    "        CountVectorizer(\n",
    "            ngram_range=(1, 1),\n",
    "            token_pattern=r\".+\",\n",
    "            stop_words=None,\n",
    "            # max_features=50000,\n",
    "            preprocessor=build_preprocessor('track_artist_uri'))),\n",
    "    (\n",
    "        'track_album_uri',\n",
    "        CountVectorizer(\n",
    "            ngram_range=(1, 1),\n",
    "            token_pattern=r\".+\",\n",
    "            stop_words=None,\n",
    "            # max_features=50000,\n",
    "            preprocessor=build_preprocessor('track_album_uri'))),\n",
    "    (\n",
    "        'track_uri',\n",
    "        CountVectorizer(\n",
    "            ngram_range=(1, 1),\n",
    "            token_pattern=r\".+\",\n",
    "            stop_words=None,\n",
    "            # max_features=50000,\n",
    "            preprocessor=build_preprocessor('track_uri'))),\n",
    "\n",
    "    (\n",
    "        'playlist_pid',\n",
    "        CountVectorizer(\n",
    "            ngram_range=(1, 1),\n",
    "            token_pattern=r\".+\",\n",
    "            stop_words=None,\n",
    "            # max_features=50000,\n",
    "            preprocessor=build_preprocessor('playlist_pid'))),\n",
    "\n",
    "    (\"playlist_name\",\n",
    "      CountVectorizer(\n",
    "            ngram_range=(1, 1),\n",
    "            token_pattern=r\"(?u)\\b\\w+\\b\",\n",
    "            stop_words=None,\n",
    "            analyzer = 'word',\n",
    "            # max_features=50000,\n",
    "            preprocessor=build_preprocessor(\"playlist_name\"))),\n",
    "    \n",
    "    (\"playlist_description\",\n",
    "      CountVectorizer(\n",
    "            ngram_range=(1, 1),\n",
    "            token_pattern=r\"(?u)\\b\\w+\\b\",\n",
    "            stop_words=None,\n",
    "            analyzer = 'word',\n",
    "            # max_features=50000,\n",
    "            preprocessor=build_preprocessor(\"playlist_description\"))),\n",
    "#     (\n",
    "#         'track_pos',\n",
    "#         CountVectorizer(\n",
    "#             ngram_range=(1, 1),\n",
    "#             token_pattern=r\".+\",\n",
    "#             stop_words=None,\n",
    "#             # max_features=50000,\n",
    "#             preprocessor=build_preprocessor('track_pos'))),\n",
    "\n",
    "    ('track_duration_ms',\n",
    "     ItemSelector(list(dataset.columns).index('track_duration_ms'))),\n",
    "])\n",
    "X_train = vectorizer.fit_transform(data_train.values)\n",
    "# X_train"
   ]
  },
  {
   "cell_type": "code",
   "execution_count": 54,
   "metadata": {},
   "outputs": [
    {
     "data": {
      "text/plain": [
       "(241425, 105962)"
      ]
     },
     "execution_count": 54,
     "metadata": {},
     "output_type": "execute_result"
    }
   ],
   "source": [
    "X_train.shape"
   ]
  },
  {
   "cell_type": "code",
   "execution_count": 55,
   "metadata": {},
   "outputs": [
    {
     "data": {
      "text/plain": [
       "(26825, 105962)"
      ]
     },
     "execution_count": 55,
     "metadata": {},
     "output_type": "execute_result"
    }
   ],
   "source": [
    "X_test = vectorizer.transform(data_test.values)\n",
    "X_test.shape"
   ]
  },
  {
   "cell_type": "code",
   "execution_count": 38,
   "metadata": {},
   "outputs": [
    {
     "name": "stdout",
     "output_type": "stream",
     "text": [
      "Fitting 2 folds for each of 24 candidates, totalling 48 fits\n",
      "[CV] learning_rate=0.01, n_estimators=50 .............................\n",
      "[CV] learning_rate=0.01, n_estimators=50 .............................\n",
      "[CV] learning_rate=0.01, n_estimators=100 ............................\n",
      "[CV] learning_rate=0.01, n_estimators=100 ............................\n",
      "[CV] learning_rate=0.01, n_estimators=150 ............................\n",
      "[CV] learning_rate=0.01, n_estimators=150 ............................\n",
      "[CV] learning_rate=0.02, n_estimators=50 .............................\n",
      "[CV] learning_rate=0.02, n_estimators=50 .............................\n",
      "[CV]  learning_rate=0.01, n_estimators=50, score=0.5053202253773152, total= 9.2min\n",
      "[CV] learning_rate=0.02, n_estimators=100 ............................\n",
      "[CV]  learning_rate=0.02, n_estimators=50, score=0.5284650697114617, total= 9.2min\n"
     ]
    },
    {
     "name": "stderr",
     "output_type": "stream",
     "text": [
      "[Parallel(n_jobs=-1)]: Done   1 tasks      | elapsed:  9.2min\n",
      "[Parallel(n_jobs=-1)]: Done   2 tasks      | elapsed:  9.2min\n"
     ]
    },
    {
     "name": "stdout",
     "output_type": "stream",
     "text": [
      "[CV] learning_rate=0.02, n_estimators=100 ............................\n",
      "[CV]  learning_rate=0.01, n_estimators=50, score=0.5166900988411725, total= 9.2min\n",
      "[CV] learning_rate=0.02, n_estimators=150 ............................\n"
     ]
    },
    {
     "name": "stderr",
     "output_type": "stream",
     "text": [
      "[Parallel(n_jobs=-1)]: Done   3 tasks      | elapsed:  9.2min\n"
     ]
    },
    {
     "name": "stdout",
     "output_type": "stream",
     "text": [
      "[CV]  learning_rate=0.02, n_estimators=50, score=0.5273623892297206, total= 9.2min\n",
      "[CV] learning_rate=0.02, n_estimators=150 ............................\n"
     ]
    },
    {
     "name": "stderr",
     "output_type": "stream",
     "text": [
      "[Parallel(n_jobs=-1)]: Done   4 tasks      | elapsed:  9.3min\n"
     ]
    },
    {
     "name": "stdout",
     "output_type": "stream",
     "text": [
      "[CV]  learning_rate=0.01, n_estimators=100, score=0.5279857701279197, total=18.9min\n",
      "[CV] learning_rate=0.03, n_estimators=50 .............................\n"
     ]
    },
    {
     "name": "stderr",
     "output_type": "stream",
     "text": [
      "[Parallel(n_jobs=-1)]: Done   5 tasks      | elapsed: 19.0min\n"
     ]
    },
    {
     "name": "stdout",
     "output_type": "stream",
     "text": [
      "[CV]  learning_rate=0.01, n_estimators=100, score=0.5273623892297206, total=19.0min\n",
      "[CV] learning_rate=0.03, n_estimators=50 .............................\n"
     ]
    },
    {
     "name": "stderr",
     "output_type": "stream",
     "text": [
      "[Parallel(n_jobs=-1)]: Done   6 tasks      | elapsed: 19.1min\n"
     ]
    },
    {
     "name": "stdout",
     "output_type": "stream",
     "text": [
      "[CV]  learning_rate=0.01, n_estimators=150, score=0.5284650697114617, total=28.7min\n",
      "[CV] learning_rate=0.03, n_estimators=100 ............................\n"
     ]
    },
    {
     "name": "stderr",
     "output_type": "stream",
     "text": [
      "[Parallel(n_jobs=-1)]: Done   7 tasks      | elapsed: 28.7min\n"
     ]
    },
    {
     "name": "stdout",
     "output_type": "stream",
     "text": [
      "[CV]  learning_rate=0.02, n_estimators=100, score=0.528603534035596, total=19.5min\n",
      "[CV] learning_rate=0.03, n_estimators=100 ............................\n"
     ]
    },
    {
     "name": "stderr",
     "output_type": "stream",
     "text": [
      "[Parallel(n_jobs=-1)]: Done   8 tasks      | elapsed: 28.8min\n"
     ]
    },
    {
     "name": "stdout",
     "output_type": "stream",
     "text": [
      "[CV]  learning_rate=0.03, n_estimators=50, score=0.5273623892297206, total= 9.8min\n",
      "[CV] learning_rate=0.03, n_estimators=150 ............................\n"
     ]
    },
    {
     "name": "stderr",
     "output_type": "stream",
     "text": [
      "[Parallel(n_jobs=-1)]: Done   9 tasks      | elapsed: 28.8min\n"
     ]
    },
    {
     "name": "stdout",
     "output_type": "stream",
     "text": [
      "[CV]  learning_rate=0.02, n_estimators=100, score=0.5273623892297206, total=19.6min\n",
      "[CV] learning_rate=0.03, n_estimators=150 ............................\n"
     ]
    },
    {
     "name": "stderr",
     "output_type": "stream",
     "text": [
      "[Parallel(n_jobs=-1)]: Done  10 tasks      | elapsed: 28.8min\n"
     ]
    },
    {
     "name": "stdout",
     "output_type": "stream",
     "text": [
      "[CV]  learning_rate=0.03, n_estimators=50, score=0.5284650697114617, total= 9.7min\n",
      "[CV] learning_rate=0.04, n_estimators=50 .............................\n"
     ]
    },
    {
     "name": "stderr",
     "output_type": "stream",
     "text": [
      "[Parallel(n_jobs=-1)]: Done  11 tasks      | elapsed: 28.8min\n"
     ]
    },
    {
     "name": "stdout",
     "output_type": "stream",
     "text": [
      "[CV]  learning_rate=0.01, n_estimators=150, score=0.5273623892297206, total=28.8min\n",
      "[CV] learning_rate=0.04, n_estimators=50 .............................\n"
     ]
    },
    {
     "name": "stderr",
     "output_type": "stream",
     "text": [
      "[Parallel(n_jobs=-1)]: Done  12 tasks      | elapsed: 28.9min\n"
     ]
    },
    {
     "name": "stdout",
     "output_type": "stream",
     "text": [
      "[CV]  learning_rate=0.02, n_estimators=150, score=0.5295940865082492, total=29.7min\n",
      "[CV] learning_rate=0.04, n_estimators=100 ............................\n"
     ]
    },
    {
     "name": "stderr",
     "output_type": "stream",
     "text": [
      "[Parallel(n_jobs=-1)]: Done  13 tasks      | elapsed: 39.0min\n"
     ]
    },
    {
     "name": "stdout",
     "output_type": "stream",
     "text": [
      "[CV]  learning_rate=0.04, n_estimators=50, score=0.528603534035596, total=10.2min\n",
      "[CV] learning_rate=0.04, n_estimators=100 ............................\n"
     ]
    },
    {
     "name": "stderr",
     "output_type": "stream",
     "text": [
      "[Parallel(n_jobs=-1)]: Done  14 tasks      | elapsed: 39.1min\n"
     ]
    },
    {
     "name": "stdout",
     "output_type": "stream",
     "text": [
      "[CV]  learning_rate=0.04, n_estimators=50, score=0.5273623892297206, total=10.2min\n",
      "[CV] learning_rate=0.04, n_estimators=150 ............................\n"
     ]
    },
    {
     "name": "stderr",
     "output_type": "stream",
     "text": [
      "[Parallel(n_jobs=-1)]: Done  15 tasks      | elapsed: 39.1min\n"
     ]
    },
    {
     "name": "stdout",
     "output_type": "stream",
     "text": [
      "[CV]  learning_rate=0.02, n_estimators=150, score=0.5276712678936605, total=29.8min\n",
      "[CV] learning_rate=0.04, n_estimators=150 ............................\n"
     ]
    },
    {
     "name": "stderr",
     "output_type": "stream",
     "text": [
      "[Parallel(n_jobs=-1)]: Done  16 tasks      | elapsed: 39.1min\n"
     ]
    },
    {
     "name": "stdout",
     "output_type": "stream",
     "text": [
      "[CV]  learning_rate=0.03, n_estimators=100, score=0.5301266416010736, total=20.0min\n",
      "[CV] learning_rate=0.05, n_estimators=50 .............................\n"
     ]
    },
    {
     "name": "stderr",
     "output_type": "stream",
     "text": [
      "[Parallel(n_jobs=-1)]: Done  17 tasks      | elapsed: 48.8min\n"
     ]
    },
    {
     "name": "stdout",
     "output_type": "stream",
     "text": [
      "[CV]  learning_rate=0.03, n_estimators=100, score=0.5276606169052488, total=20.0min\n",
      "[CV] learning_rate=0.05, n_estimators=50 .............................\n"
     ]
    },
    {
     "name": "stderr",
     "output_type": "stream",
     "text": [
      "[Parallel(n_jobs=-1)]: Done  18 tasks      | elapsed: 48.8min\n"
     ]
    },
    {
     "name": "stdout",
     "output_type": "stream",
     "text": [
      "[CV]  learning_rate=0.05, n_estimators=50, score=0.5293278089618371, total= 9.7min\n",
      "[CV] learning_rate=0.05, n_estimators=100 ............................\n"
     ]
    },
    {
     "name": "stderr",
     "output_type": "stream",
     "text": [
      "[Parallel(n_jobs=-1)]: Done  19 tasks      | elapsed: 58.5min\n"
     ]
    },
    {
     "name": "stdout",
     "output_type": "stream",
     "text": [
      "[CV]  learning_rate=0.05, n_estimators=50, score=0.5274582481254261, total= 9.7min\n",
      "[CV] learning_rate=0.05, n_estimators=100 ............................\n"
     ]
    },
    {
     "name": "stderr",
     "output_type": "stream",
     "text": [
      "[Parallel(n_jobs=-1)]: Done  20 tasks      | elapsed: 58.5min\n"
     ]
    },
    {
     "name": "stdout",
     "output_type": "stream",
     "text": [
      "[CV]  learning_rate=0.03, n_estimators=150, score=0.5310319852588751, total=29.7min\n",
      "[CV] learning_rate=0.05, n_estimators=150 ............................\n"
     ]
    },
    {
     "name": "stderr",
     "output_type": "stream",
     "text": [
      "[Parallel(n_jobs=-1)]: Done  21 tasks      | elapsed: 58.5min\n"
     ]
    },
    {
     "name": "stdout",
     "output_type": "stream",
     "text": [
      "[CV]  learning_rate=0.04, n_estimators=100, score=0.5309361253421666, total=19.4min\n",
      "[CV] learning_rate=0.05, n_estimators=150 ............................\n",
      "[CV]  learning_rate=0.04, n_estimators=100, score=0.533337593728698, total=19.5min\n",
      "[CV] learning_rate=0.060000000000000005, n_estimators=50 .............\n"
     ]
    },
    {
     "name": "stderr",
     "output_type": "stream",
     "text": [
      "[Parallel(n_jobs=-1)]: Done  22 tasks      | elapsed: 58.6min\n",
      "[Parallel(n_jobs=-1)]: Done  23 tasks      | elapsed: 58.6min\n"
     ]
    },
    {
     "name": "stdout",
     "output_type": "stream",
     "text": [
      "[CV]  learning_rate=0.03, n_estimators=150, score=0.5334441036128152, total=29.8min\n",
      "[CV] learning_rate=0.060000000000000005, n_estimators=50 .............\n"
     ]
    },
    {
     "name": "stderr",
     "output_type": "stream",
     "text": [
      "[Parallel(n_jobs=-1)]: Done  24 tasks      | elapsed: 58.6min\n"
     ]
    },
    {
     "name": "stdout",
     "output_type": "stream",
     "text": [
      "[CV]  learning_rate=0.060000000000000005, n_estimators=50, score=0.5296047376101057, total=11.9min\n",
      "[CV] learning_rate=0.060000000000000005, n_estimators=100 ............\n"
     ]
    },
    {
     "name": "stderr",
     "output_type": "stream",
     "text": [
      "[Parallel(n_jobs=-1)]: Done  25 tasks      | elapsed: 70.5min\n"
     ]
    },
    {
     "name": "stdout",
     "output_type": "stream",
     "text": [
      "[CV]  learning_rate=0.04, n_estimators=150, score=0.535164612779192, total=31.4min\n",
      "[CV] learning_rate=0.060000000000000005, n_estimators=100 ............\n"
     ]
    },
    {
     "name": "stderr",
     "output_type": "stream",
     "text": [
      "[Parallel(n_jobs=-1)]: Done  26 tasks      | elapsed: 70.6min\n"
     ]
    },
    {
     "name": "stdout",
     "output_type": "stream",
     "text": [
      "[CV]  learning_rate=0.060000000000000005, n_estimators=50, score=0.527692569870484, total=12.0min\n",
      "[CV] learning_rate=0.060000000000000005, n_estimators=150 ............\n"
     ]
    },
    {
     "name": "stderr",
     "output_type": "stream",
     "text": [
      "[Parallel(n_jobs=-1)]: Done  27 tasks      | elapsed: 70.6min\n"
     ]
    },
    {
     "name": "stdout",
     "output_type": "stream",
     "text": [
      "[CV]  learning_rate=0.04, n_estimators=150, score=0.5351376107702794, total=31.5min\n",
      "[CV] learning_rate=0.060000000000000005, n_estimators=150 ............\n"
     ]
    },
    {
     "name": "stderr",
     "output_type": "stream",
     "text": [
      "[Parallel(n_jobs=-1)]: Done  28 tasks      | elapsed: 70.7min\n"
     ]
    },
    {
     "name": "stdout",
     "output_type": "stream",
     "text": [
      "[CV]  learning_rate=0.05, n_estimators=100, score=0.5304568257586247, total=24.8min\n",
      "[CV] learning_rate=0.06999999999999999, n_estimators=50 ..............\n"
     ]
    },
    {
     "name": "stderr",
     "output_type": "stream",
     "text": [
      "[Parallel(n_jobs=-1)]: Done  29 tasks      | elapsed: 83.3min\n"
     ]
    },
    {
     "name": "stdout",
     "output_type": "stream",
     "text": [
      "[CV]  learning_rate=0.05, n_estimators=100, score=0.5339020961145194, total=24.9min\n",
      "[CV] learning_rate=0.06999999999999999, n_estimators=50 ..............\n"
     ]
    },
    {
     "name": "stderr",
     "output_type": "stream",
     "text": [
      "[Parallel(n_jobs=-1)]: Done  30 tasks      | elapsed: 83.4min\n"
     ]
    },
    {
     "name": "stdout",
     "output_type": "stream",
     "text": [
      "[CV]  learning_rate=0.06999999999999999, n_estimators=50, score=0.5280120995228357, total= 8.3min\n",
      "[CV]  learning_rate=0.05, n_estimators=150, score=0.5363255828815491, total=33.1min\n",
      "[CV] learning_rate=0.06999999999999999, n_estimators=100 .............\n",
      "[CV] learning_rate=0.06999999999999999, n_estimators=100 .............\n"
     ]
    },
    {
     "name": "stderr",
     "output_type": "stream",
     "text": [
      "[Parallel(n_jobs=-1)]: Done  31 tasks      | elapsed: 91.7min\n",
      "[Parallel(n_jobs=-1)]: Done  32 tasks      | elapsed: 91.7min\n"
     ]
    },
    {
     "name": "stdout",
     "output_type": "stream",
     "text": [
      "[CV]  learning_rate=0.06999999999999999, n_estimators=50, score=0.5295940865082492, total= 8.3min\n",
      "[CV] learning_rate=0.06999999999999999, n_estimators=150 .............\n"
     ]
    },
    {
     "name": "stderr",
     "output_type": "stream",
     "text": [
      "[Parallel(n_jobs=-1)]: Done  33 tasks      | elapsed: 91.7min\n"
     ]
    },
    {
     "name": "stdout",
     "output_type": "stream",
     "text": [
      "[CV]  learning_rate=0.060000000000000005, n_estimators=100, score=0.5316817024721208, total=21.1min\n",
      "[CV] learning_rate=0.06999999999999999, n_estimators=150 .............\n",
      "[CV]  learning_rate=0.05, n_estimators=150, score=0.5353825835037491, total=33.1min\n",
      "[CV] learning_rate=0.08, n_estimators=50 .............................\n",
      "[CV]  learning_rate=0.060000000000000005, n_estimators=100, score=0.5351376107702794, total=21.2min\n",
      "[CV] learning_rate=0.08, n_estimators=50 .............................\n"
     ]
    },
    {
     "name": "stderr",
     "output_type": "stream",
     "text": [
      "[Parallel(n_jobs=-1)]: Done  36 out of  48 | elapsed: 91.8min remaining: 30.6min\n"
     ]
    },
    {
     "name": "stdout",
     "output_type": "stream",
     "text": [
      "[CV]  learning_rate=0.08, n_estimators=50, score=0.5333588957055214, total= 8.2min\n",
      "[CV] learning_rate=0.08, n_estimators=100 ............................\n",
      "[CV]  learning_rate=0.08, n_estimators=50, score=0.5311811006848659, total= 8.2min\n",
      "[CV] learning_rate=0.08, n_estimators=100 ............................\n",
      "[CV]  learning_rate=0.060000000000000005, n_estimators=150, score=0.5365279538168224, total=29.2min\n",
      "[CV] learning_rate=0.08, n_estimators=150 ............................\n"
     ]
    },
    {
     "name": "stderr",
     "output_type": "stream",
     "text": [
      "[Parallel(n_jobs=-1)]: Done  39 out of  48 | elapsed: 100.0min remaining: 23.1min\n"
     ]
    },
    {
     "name": "stdout",
     "output_type": "stream",
     "text": [
      "[CV]  learning_rate=0.060000000000000005, n_estimators=150, score=0.5375979890933879, total=29.4min\n",
      "[CV] learning_rate=0.08, n_estimators=150 ............................\n",
      "[CV]  learning_rate=0.06999999999999999, n_estimators=100, score=0.535974096520285, total=16.7min\n",
      "[CV]  learning_rate=0.06999999999999999, n_estimators=100, score=0.5352760736196319, total=16.8min\n"
     ]
    },
    {
     "name": "stderr",
     "output_type": "stream",
     "text": [
      "[Parallel(n_jobs=-1)]: Done  42 out of  48 | elapsed: 108.5min remaining: 15.5min\n"
     ]
    },
    {
     "name": "stdout",
     "output_type": "stream",
     "text": [
      "[CV]  learning_rate=0.06999999999999999, n_estimators=150, score=0.5371137644189291, total=24.6min\n",
      "[CV]  learning_rate=0.08, n_estimators=100, score=0.536410791696401, total=16.4min\n",
      "[CV]  learning_rate=0.06999999999999999, n_estimators=150, score=0.5388548057259713, total=24.7min\n"
     ]
    },
    {
     "name": "stderr",
     "output_type": "stream",
     "text": [
      "[Parallel(n_jobs=-1)]: Done  45 out of  48 | elapsed: 116.5min remaining:  7.8min\n"
     ]
    },
    {
     "name": "stdout",
     "output_type": "stream",
     "text": [
      "[CV]  learning_rate=0.08, n_estimators=100, score=0.5374701772324472, total=16.5min\n",
      "[CV]  learning_rate=0.08, n_estimators=150, score=0.5376250173080405, total=23.6min\n",
      "[CV]  learning_rate=0.08, n_estimators=150, score=0.5395364689843217, total=23.6min\n"
     ]
    },
    {
     "name": "stderr",
     "output_type": "stream",
     "text": [
      "[Parallel(n_jobs=-1)]: Done  48 out of  48 | elapsed: 123.7min remaining:    0.0s\n",
      "[Parallel(n_jobs=-1)]: Done  48 out of  48 | elapsed: 123.7min finished\n"
     ]
    },
    {
     "data": {
      "text/plain": [
       "GridSearchCV(cv=KFold(n_splits=2, random_state=None, shuffle=True),\n",
       "       error_score='raise',\n",
       "       estimator=AdaBoostClassifier(algorithm='SAMME.R', base_estimator=None,\n",
       "          learning_rate=1.0, n_estimators=50, random_state=None),\n",
       "       fit_params=None, iid=True, n_jobs=-1,\n",
       "       param_grid={'n_estimators': range(50, 200, 50), 'learning_rate': array([0.01, 0.02, 0.03, 0.04, 0.05, 0.06, 0.07, 0.08])},\n",
       "       pre_dispatch='2*n_jobs', refit=True, return_train_score='warn',\n",
       "       scoring=make_scorer(accuracy_score), verbose=20)"
      ]
     },
     "execution_count": 38,
     "metadata": {},
     "output_type": "execute_result"
    }
   ],
   "source": [
    "# %%time\n",
    "# Basic cross-validation with Grid Search CV\n",
    "AdaModel = AdaBoostClassifier()\n",
    "parameters = {\n",
    "    'n_estimators': range(50, 200, 50),\n",
    "    'learning_rate': np.arange(0.01, 0.09, 0.01)\n",
    "}\n",
    "clf = GridSearchCV(\n",
    "    AdaModel,\n",
    "    parameters,\n",
    "    n_jobs=-1,\n",
    "    verbose=20,\n",
    "    cv=KFold(2, shuffle=True),\n",
    "    scoring=make_scorer(accuracy_score))\n",
    "clf.fit(X_train, y_train)"
   ]
  },
  {
   "cell_type": "code",
   "execution_count": 40,
   "metadata": {},
   "outputs": [
    {
     "data": {
      "text/plain": [
       "{'learning_rate': 0.08, 'n_estimators': 150}"
      ]
     },
     "execution_count": 40,
     "metadata": {},
     "output_type": "execute_result"
    }
   ],
   "source": [
    "clf.best_params_"
   ]
  },
  {
   "cell_type": "code",
   "execution_count": 56,
   "metadata": {},
   "outputs": [
    {
     "name": "stdout",
     "output_type": "stream",
     "text": [
      "CPU times: user 6min 47s, sys: 4.17 s, total: 6min 51s\n",
      "Wall time: 6min 57s\n"
     ]
    }
   ],
   "source": [
    "%%time\n",
    "# Train the model\n",
    "AdaModel = AdaBoostClassifier(base_estimator=DecisionTreeClassifier(),\n",
    "                             n_estimators=150, learning_rate=0.08)\n",
    "AdaModel = AdaModel.fit(X_train, y_train)\n",
    "y_pred = AdaModel.predict(X_train)\n"
   ]
  },
  {
   "cell_type": "code",
   "execution_count": 57,
   "metadata": {},
   "outputs": [
    {
     "name": "stdout",
     "output_type": "stream",
     "text": [
      "1.0\n"
     ]
    }
   ],
   "source": [
    "print(accuracy_score(y_train, y_pred))"
   ]
  },
  {
   "cell_type": "code",
   "execution_count": 60,
   "metadata": {},
   "outputs": [
    {
     "name": "stdout",
     "output_type": "stream",
     "text": [
      "0.7081826654240447\n",
      "CPU times: user 112 ms, sys: 4.59 ms, total: 117 ms\n",
      "Wall time: 118 ms\n"
     ]
    }
   ],
   "source": [
    "%%time\n",
    "y_test_pred = AdaModel.predict(X_test)\n",
    "print(accuracy_score(y_test, y_test_pred))"
   ]
  },
  {
   "cell_type": "code",
   "execution_count": 61,
   "metadata": {},
   "outputs": [
    {
     "name": "stdout",
     "output_type": "stream",
     "text": [
      "(26825, 19)\n",
      "(26825, 105962)\n"
     ]
    }
   ],
   "source": [
    "print(data_test.shape)\n",
    "print(X_test.shape)"
   ]
  },
  {
   "cell_type": "code",
   "execution_count": 102,
   "metadata": {},
   "outputs": [
    {
     "data": {
      "image/png": "[encoded data removed]",
      "text/plain": [
       "<matplotlib.figure.Figure at 0x1a1baff8d0>"
      ]
     },
     "metadata": {},
     "output_type": "display_data"
    }
   ],
   "source": [
    "plt.rcParams[\"axes.facecolor\"] = (1,1,.99) \n",
    "plt.rcParams[\"font.size\"] = 15 \n",
    "plt.rcParams[\"figure.figsize\"] = (12,6) \n",
    "plt.rcParams[\"ytick.labelsize\"] = 15 \n",
    "plt.rcParams[\"xtick.labelsize\"] = 15 \n",
    "plt.rcParams[\"lines.linewidth\"] = 2 \n",
    "plt.rcParams[\"axes.titlesize\"] = 20\n",
    "\n",
    "#Histogram of probability predictions\n",
    "probs = AdaModel.predict_proba(X_test)\n",
    "\n",
    "fig, ax = plt.subplots(1,1, figsize = (12,6))\n",
    "fig.suptitle(\"Histogram Shows How Model Assigns Probs to Match Likelihood\", fontsize = 20)\n",
    "\n",
    "\n",
    "ax.hist(probs[: ,1])\n",
    "ax.set_title(\"Probs of Match\")\n",
    "ax.grid(alpha = 0)"
   ]
  },
  {
   "cell_type": "code",
   "execution_count": 103,
   "metadata": {},
   "outputs": [],
   "source": [
    "#Get important features and visual for features\n",
    "#get top feature indices and ratings\n",
    "\n",
    "importances = AdaModel.feature_importances_\n",
    "indices = np.argsort(importances)[::-1]\n",
    "\n",
    "top50index = []\n",
    "top50importance = []\n",
    "for f in range(50):\n",
    "    top50index.append(indices[f])\n",
    "    top50importance.append(importances[indices[f]])"
   ]
  },
  {
   "cell_type": "code",
   "execution_count": 104,
   "metadata": {},
   "outputs": [],
   "source": [
    "#helper in getting top features and making visual\n",
    "#convert relevant dataframe columns to lowercase so we can compare with top feature output\n",
    "\n",
    "track_artist_lower_df = tracks_df[\"track_artist_uri\"].apply(lambda x: x.lower())\n",
    "track_album_lower_df = tracks_df[\"track_album_uri\"].apply(lambda x: x.lower())\n",
    "merged_track_uri_lower_df = merged[\"track_uri\"].apply(lambda x: x.lower())\n",
    "\n",
    "#Take a uri and return album, artist or song title in plain english\n",
    "def get_translation(uri_type, uri):\n",
    "    \n",
    "    track = False  #if a single track/song is input as uri, I need to handle it differently\n",
    "    if uri_type == \"track_artist_uri\":\n",
    "        df = track_artist_lower_df\n",
    "        col = \"track_artist_name\"\n",
    "    elif uri_type == \"track_album_uri\":\n",
    "        df = track_album_lower_df\n",
    "        col = \"track_album_name\"\n",
    "    elif uri_type == \"track_uri\":\n",
    "        df = merged_track_uri_lower_df\n",
    "        col = \"track_name\"\n",
    "        track = True   #Handle track_name differently by going to the merged df\n",
    "    for i in range(len(tracks_df)):\n",
    "        if df[i] == uri:\n",
    "            if track == True:\n",
    "                return merged.iloc[i][col]\n",
    "            return tracks_df.iloc[i][col]\n",
    "            break\n"
   ]
  },
  {
   "cell_type": "code",
   "execution_count": 106,
   "metadata": {},
   "outputs": [],
   "source": [
    "#Make list of top features\n",
    "feature_names = []\n",
    "\n",
    "#Loop through the indices of top features and append them to a list in plain english, not uri info\n",
    "for i in top50index:\n",
    "    feature = vectorizer.get_feature_names()[i].split(\"__\")\n",
    "    if feature[0] == \"track_artist_uri\":\n",
    "        feature_names.append(\"Artist = \" + get_translation(\"track_artist_uri\", feature[1]))\n",
    "    elif feature[0] == \"track_album_uri\":\n",
    "        feature_names.append(\"Album = \" + get_translation(\"track_album_uri\", feature[1]))\n",
    "    elif feature[0] == \"track_uri\":\n",
    "        feature_names.append(\"Song = \" + get_translation(\"track_uri\", feature[1].lstrip()))\n",
    "    \n",
    "    else:\n",
    "        feature_names.append(feature[0] + \"_\" + feature[1])"
   ]
  },
  {
   "cell_type": "code",
   "execution_count": 107,
   "metadata": {},
   "outputs": [
    {
     "data": {
      "image/png": "[encoded data removed]",
      "text/plain": [
       "<matplotlib.figure.Figure at 0x1a2a223da0>"
      ]
     },
     "metadata": {},
     "output_type": "display_data"
    }
   ],
   "source": [
    "#plot\n",
    "\n",
    "fig, ax = plt.subplots(1,1, figsize = (20,15))\n",
    "y_pos = np.arange(len(feature_names))\n",
    "ax.barh(feature_names, top50importance, align = \"center\", color = \"mediumspringgreen\")\n",
    "for tick in ax.get_xticklabels():\n",
    "    tick.set_rotation(90)\n",
    "ax.grid(alpha = 0)\n",
    "ax.set_xlabel(\"Importance\", fontsize = 20)\n",
    "ax.set_ylabel(\"Features\", fontsize = 20)\n",
    "ax.yaxis.set_tick_params(labelsize=12)\n",
    "ax.xaxis.set_tick_params(labelsize=15)\n",
    "\n",
    "fig.savefig(\"Feature Importance.png\", bbox_inches=\"tight\")"
   ]
  },
  {
   "cell_type": "code",
   "execution_count": 108,
   "metadata": {},
   "outputs": [],
   "source": [
    "#Check for relevant features besides playlist_pid numbers\n",
    "not_pid_features = []\n",
    "not_pid_importances = []\n",
    "for feature in feature_names:\n",
    "    if \"playlist_pid\" not in feature:\n",
    "        not_pid_features.append(feature)\n",
    "        idx = feature_names.index(feature)\n",
    "        not_pid_importances.append(top50importance[idx])"
   ]
  },
  {
   "cell_type": "code",
   "execution_count": 109,
   "metadata": {},
   "outputs": [
    {
     "data": {
      "image/png": "[encoded data removed]",
      "text/plain": [
       "<matplotlib.figure.Figure at 0x1a2a7ee2e8>"
      ]
     },
     "metadata": {},
     "output_type": "display_data"
    }
   ],
   "source": [
    "#plot important features except for playlist_pid\n",
    "fig, ax = plt.subplots(1,1, figsize = (20,15))\n",
    "y_pos = np.arange(len(not_pid_features) - 3)\n",
    "ax.barh(not_pid_features[3:], not_pid_importances[3:], align = \"center\", color = \"mediumspringgreen\")\n",
    "for tick in ax.get_xticklabels():\n",
    "    tick.set_rotation(90)\n",
    "ax.grid(alpha = 0)\n",
    "ax.set_xlabel(\"Importance\", fontsize = 20)\n",
    "ax.set_ylabel(\"Features\", fontsize = 20)\n",
    "ax.yaxis.set_tick_params(labelsize=12)\n",
    "ax.xaxis.set_tick_params(labelsize=15)\n",
    "\n",
    "fig.savefig(\"Feature Importance.png\", bbox_inches=\"tight\")"
   ]
  },
  {
   "cell_type": "code",
   "execution_count": null,
   "metadata": {},
   "outputs": [],
   "source": [
    "X_test_refined = pd.DataFrame([])\n",
    "r_precisions = []\n",
    "pbar = tqdm(data_test.groupby(['playlist_pid']))\n",
    "for pid, df in pbar:\n",
    "    p_info = df[playlist_df.columns].iloc[0]\n",
    "    # from IPython.core.debugger import set_trace; set_trace()\n",
    "    labels = y_test.loc[df.index]\n",
    "    \n",
    "    # Positive Tracks\n",
    "    positive_tracks_idx = labels[labels == 1].index\n",
    "    positive_tracks = data_test.loc[positive_tracks_idx]\n",
    "    sp_positive_tracks = vectorizer.transform(positive_tracks.values)\n",
    "    \n",
    "    # Negative Tracks\n",
    "    negative_tracks_idx = ~np.isin(data_test.index, positive_tracks_idx)\n",
    "    negative_tracks = data_test[negative_tracks_idx].drop(\n",
    "        playlist_df.columns, axis=1)\n",
    "    negative_playlist = np.array([p_info.values] * len(negative_tracks))\n",
    "    negative_playlist_samples = np.hstack([negative_tracks, negative_playlist])\n",
    "    sp_negative_tracks = vectorizer.transform(negative_playlist_samples)\n",
    "    # from IPython.core.debugger import set_trace; set_trace()\n",
    "    \n",
    "    # Test Tracks\n",
    "    test_tracks = vstack([sp_negative_tracks, sp_positive_tracks])\n",
    "    index_order = negative_tracks.index.append(positive_tracks_idx)\n",
    "    \n",
    "    # Predict, r_precision\n",
    "    y_prob = AdaModel.predict_proba(test_tracks)\n",
    "    # from IPython.core.debugger import set_trace; set_trace()\n",
    "    y_pred = np.argsort(-y_prob[:,1])\n",
    "    best_pred = index_order[y_pred]\n",
    "    if len(positive_tracks_idx) > 0:\n",
    "        r_precisions.append(r_precision(positive_tracks_idx, best_pred))\n",
    "    pbar.set_description(\"{}\".format(np.mean(r_precisions)))\n"
   ]
  },
  {
   "cell_type": "code",
   "execution_count": 101,
   "metadata": {},
   "outputs": [
    {
     "name": "stdout",
     "output_type": "stream",
     "text": [
      "0.2\n",
      "            track_artist_name                    track_name\n",
      "48                      Ne-Yo                        Closer\n",
      "38312             Tame Impala                    Eventually\n",
      "47038        Childish Gambino              Me and Your Mama\n",
      "8784               Sylo Nozra                 Losing Myself\n",
      "52077              Ed Sheeran                       Happier\n",
      "96082                  G-Eazy                         Rebel\n",
      "186172                  Drake                    Free Smoke\n",
      "27395          Mumford & Sons                       Monster\n",
      "9031                  The Him  Feels Like Home - Radio Edit\n",
      "79366   Red Hot Chili Peppers                   Scar Tissue\n"
     ]
    }
   ],
   "source": [
    "def get_track_predictions(playlist_name, top_tracks=10):\n",
    "    \"\"\"\n",
    "    Function to get track predictions for a single playlist\n",
    "    playlist_name should be in the form of a string.\n",
    "    \"\"\"\n",
    "    for pid, df in pbar:\n",
    "        p_info = df[playlist_df.columns].iloc[0]\n",
    "        if p_info.playlist_name == playlist_name: \n",
    "            labels = y_test.loc[df.index]\n",
    "\n",
    "            # Positive Tracks\n",
    "            positive_tracks_idx = labels[labels == 1].index\n",
    "            positive_tracks = data_test.loc[positive_tracks_idx]\n",
    "            sp_positive_tracks = vectorizer.transform(positive_tracks.values)\n",
    "\n",
    "            # Negative Tracks\n",
    "            negative_tracks_idx = ~np.isin(data_test.index, positive_tracks_idx)\n",
    "            negative_tracks = data_test[negative_tracks_idx].drop(\n",
    "                playlist_df.columns, axis=1)\n",
    "            negative_playlist = np.array([p_info.values] * len(negative_tracks))\n",
    "            negative_playlist_samples = np.hstack([negative_tracks, negative_playlist])\n",
    "            sp_negative_tracks = vectorizer.transform(negative_playlist_samples)\n",
    "            # from IPython.core.debugger import set_trace; set_trace()\n",
    "\n",
    "            # Test Tracks\n",
    "            test_tracks = vstack([sp_negative_tracks, sp_positive_tracks])\n",
    "            index_order = negative_tracks.index.append(positive_tracks_idx)\n",
    "\n",
    "            # Predict, r_precision\n",
    "            y_prob = AdaModel.predict_proba(test_tracks)\n",
    "            # from IPython.core.debugger import set_trace; set_trace()\n",
    "            y_pred = np.argsort(-y_prob[:,1])\n",
    "            best_pred = index_order[y_pred]\n",
    "            if len(positive_tracks_idx) > 0:\n",
    "                print(r_precision(positive_tracks_idx, best_pred))\n",
    "                print(data_test.loc[best_pred[:10]].loc[:,['track_artist_name','track_name']])\n",
    "            break\n",
    "get_track_predictions('Throwbacks', top_tracks=10)"
   ]
  },
  {
   "cell_type": "code",
   "execution_count": null,
   "metadata": {},
   "outputs": [],
   "source": []
  },
  {
   "cell_type": "markdown",
   "metadata": {},
   "source": [
    "The dataset has been split, which is great. However, in order to better simulate real world situations, we need to build a test set with a lot more negative samples than there are positive samples. In the split above, there are equal number of positive and negative samples, so it'll be easy for the algorithm to perform. Below we build a more robust test set"
   ]
  },
  {
   "cell_type": "code",
   "execution_count": null,
   "metadata": {},
   "outputs": [],
   "source": [
    "# Interacting with the Spotify API to obtain a real playlist from it."
   ]
  },
  {
   "cell_type": "code",
   "execution_count": null,
   "metadata": {},
   "outputs": [],
   "source": [
    "import spotipy\n",
    "from spotipy.oauth2 import SpotifyClientCredentials\n",
    "client_credentials_manager = SpotifyClientCredentials()\n",
    "client_credentials_manager = SpotifyClientCredentials('35eaae57b15449448c0821785c790c82', '070ec29c07ac41879aee8d3a57d05f15')\n",
    "sp = spotipy.Spotify(client_credentials_manager=client_credentials_manager)\n",
    "results = sp.search(q='Slow Brain Waves', type=['playlist'], limit=20)\n"
   ]
  },
  {
   "cell_type": "code",
   "execution_count": null,
   "metadata": {},
   "outputs": [],
   "source": [
    "plt.hist(dataset[dataset.match==1].playlist_duration_ms)\n",
    "plt.hist(dataset[dataset.match==0].playlist_duration_ms)"
   ]
  },
  {
   "cell_type": "markdown",
   "metadata": {},
   "source": [
    "https://stackoverflow.com/questions/49018652/how-to-combine-labelbinarizer-and-onehotencoder-in-pipeline-in-python-for-catego \n"
   ]
  }
 ],
 "metadata": {
  "kernelspec": {
   "display_name": "Python 3",
   "language": "python",
   "name": "python3"
  },
  "language_info": {
   "codemirror_mode": {
    "name": "ipython",
    "version": 3
   },
   "file_extension": ".py",
   "mimetype": "text/x-python",
   "name": "python",
   "nbconvert_exporter": "python",
   "pygments_lexer": "ipython3",
   "version": "3.6.4"
  }
 },
 "nbformat": 4,
 "nbformat_minor": 2
}
