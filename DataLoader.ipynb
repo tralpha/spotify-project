{
 "cells": [
  {
   "cell_type": "code",
   "execution_count": 1,
   "metadata": {},
   "outputs": [],
   "source": [
    "import os\n",
    "import json\n",
    "import pandas as pd\n",
    "import numpy as np\n",
    "import scipy as sp\n",
    "from tqdm import tqdm_notebook as tqdm\n",
    "from sklearn.model_selection import train_test_split\n",
    "from sklearn.linear_model import LogisticRegression\n",
    "\n",
    "# Metrics obtained from an organizer of the Challenge\n",
    "# https://github.com/plamere/RecsysChallengeTools/blob/master/metrics.py\n",
    "from metrics import r_precision\n",
    "import matplotlib\n",
    "import matplotlib.pyplot as plt\n",
    "%matplotlib inline"
   ]
  },
  {
   "cell_type": "code",
   "execution_count": 2,
   "metadata": {},
   "outputs": [
    {
     "name": "stdout",
     "output_type": "stream",
     "text": [
      "mpd.slice.0-999.json\n",
      "mpd.slice.1000-1999.json\n"
     ]
    }
   ],
   "source": [
    "playlists = list()\n",
    "tracks = dict()\n",
    "map_pl = list()\n",
    "\n",
    "max_files_for_quick_processing = 1\n",
    "\n",
    "\n",
    "def process_track(track):\n",
    "    key = track['track_uri']\n",
    "    if not key in tracks:\n",
    "        tk = dict()\n",
    "        tk['track_artist_name'] = track['artist_name']\n",
    "        tk['track_artist_uri'] = track['artist_uri']\n",
    "        tk['track_name'] = track['track_name']\n",
    "        tk['track_album_uri'] = track['album_uri']\n",
    "        tk['track_duration_ms'] = track['duration_ms']\n",
    "        tk['track_album_name'] = track['album_name']\n",
    "        tracks[track['track_uri']] = tk\n",
    "    return key\n",
    "\n",
    "\n",
    "def process_playlist(playlist):\n",
    "    pl = dict()\n",
    "    pl['playlist_name'] = playlist['name']\n",
    "    pl['playlist_collaborative'] = playlist['collaborative']\n",
    "    pl['playlist_pid'] = playlist['pid']\n",
    "    pl['playlist_modified_at'] = playlist['modified_at']\n",
    "    pl['playlist_num_albums'] = playlist['num_albums']\n",
    "    pl['playlist_num_tracks'] = playlist['num_tracks']\n",
    "    pl['playlist_num_followers'] = playlist['num_followers']\n",
    "    pl['playlist_num_edits'] = playlist['num_edits']\n",
    "    pl['playlist_duration_ms'] = playlist['duration_ms']\n",
    "    pl['playlist_num_artists'] = playlist['num_artists']\n",
    "    if 'description' in playlist:\n",
    "        pl['playlist_description'] = playlist['description']\n",
    "    else:\n",
    "        pl['playlist_description'] = ''\n",
    "    trks = list()\n",
    "    for track in playlist['tracks']:\n",
    "        map_pl.append([playlist['pid'], track['track_uri']])\n",
    "        trks.append(track['track_uri'])\n",
    "        process_track(track)\n",
    "    return pl\n",
    "\n",
    "def process_mpd(path):\n",
    "    count = 0\n",
    "    filenames = os.listdir(path)\n",
    "    for filename in sorted(filenames):\n",
    "        print(filename)\n",
    "        if filename.startswith(\"mpd.slice.\") and filename.endswith(\".json\"):\n",
    "            fullpath = os.sep.join((path, filename))\n",
    "            f = open(fullpath)\n",
    "            js = f.read()\n",
    "            f.close()\n",
    "            slice = json.loads(js)\n",
    "            for playlist in slice['playlists']:\n",
    "                playlists.append(process_playlist(playlist))\n",
    "            count += 1\n",
    "            if quick and count > max_files_for_quick_processing:\n",
    "                break\n",
    "\n",
    "quick = True\n",
    "process_mpd('mpd.v1/data')"
   ]
  },
  {
   "cell_type": "code",
   "execution_count": 3,
   "metadata": {},
   "outputs": [
    {
     "name": "stdout",
     "output_type": "stream",
     "text": [
      "2000\n",
      "57884\n",
      "134125\n"
     ]
    }
   ],
   "source": [
    "print(len(playlists))\n",
    "print(len(tracks))\n",
    "print(len(map_pl))"
   ]
  },
  {
   "cell_type": "code",
   "execution_count": 4,
   "metadata": {},
   "outputs": [
    {
     "data": {
      "text/html": [
       "<div>\n",
       "<style scoped>\n",
       "    .dataframe tbody tr th:only-of-type {\n",
       "        vertical-align: middle;\n",
       "    }\n",
       "\n",
       "    .dataframe tbody tr th {\n",
       "        vertical-align: top;\n",
       "    }\n",
       "\n",
       "    .dataframe thead th {\n",
       "        text-align: right;\n",
       "    }\n",
       "</style>\n",
       "<table border=\"1\" class=\"dataframe\">\n",
       "  <thead>\n",
       "    <tr style=\"text-align: right;\">\n",
       "      <th></th>\n",
       "      <th>playlist_collaborative</th>\n",
       "      <th>playlist_description</th>\n",
       "      <th>playlist_duration_ms</th>\n",
       "      <th>playlist_modified_at</th>\n",
       "      <th>playlist_name</th>\n",
       "      <th>playlist_num_albums</th>\n",
       "      <th>playlist_num_artists</th>\n",
       "      <th>playlist_num_edits</th>\n",
       "      <th>playlist_num_followers</th>\n",
       "      <th>playlist_num_tracks</th>\n",
       "      <th>playlist_pid</th>\n",
       "    </tr>\n",
       "  </thead>\n",
       "  <tbody>\n",
       "    <tr>\n",
       "      <th>0</th>\n",
       "      <td>false</td>\n",
       "      <td></td>\n",
       "      <td>11532414</td>\n",
       "      <td>1493424000</td>\n",
       "      <td>Throwbacks</td>\n",
       "      <td>47</td>\n",
       "      <td>37</td>\n",
       "      <td>6</td>\n",
       "      <td>1</td>\n",
       "      <td>52</td>\n",
       "      <td>0</td>\n",
       "    </tr>\n",
       "    <tr>\n",
       "      <th>1</th>\n",
       "      <td>false</td>\n",
       "      <td></td>\n",
       "      <td>11656470</td>\n",
       "      <td>1506556800</td>\n",
       "      <td>Awesome Playlist</td>\n",
       "      <td>23</td>\n",
       "      <td>21</td>\n",
       "      <td>5</td>\n",
       "      <td>1</td>\n",
       "      <td>39</td>\n",
       "      <td>1</td>\n",
       "    </tr>\n",
       "    <tr>\n",
       "      <th>2</th>\n",
       "      <td>false</td>\n",
       "      <td></td>\n",
       "      <td>14039958</td>\n",
       "      <td>1505692800</td>\n",
       "      <td>korean</td>\n",
       "      <td>51</td>\n",
       "      <td>31</td>\n",
       "      <td>18</td>\n",
       "      <td>1</td>\n",
       "      <td>64</td>\n",
       "      <td>2</td>\n",
       "    </tr>\n",
       "    <tr>\n",
       "      <th>3</th>\n",
       "      <td>false</td>\n",
       "      <td></td>\n",
       "      <td>28926058</td>\n",
       "      <td>1501027200</td>\n",
       "      <td>mat</td>\n",
       "      <td>107</td>\n",
       "      <td>86</td>\n",
       "      <td>4</td>\n",
       "      <td>1</td>\n",
       "      <td>126</td>\n",
       "      <td>3</td>\n",
       "    </tr>\n",
       "    <tr>\n",
       "      <th>4</th>\n",
       "      <td>false</td>\n",
       "      <td></td>\n",
       "      <td>4335282</td>\n",
       "      <td>1401667200</td>\n",
       "      <td>90s</td>\n",
       "      <td>16</td>\n",
       "      <td>16</td>\n",
       "      <td>7</td>\n",
       "      <td>2</td>\n",
       "      <td>17</td>\n",
       "      <td>4</td>\n",
       "    </tr>\n",
       "  </tbody>\n",
       "</table>\n",
       "</div>"
      ],
      "text/plain": [
       "  playlist_collaborative playlist_description  playlist_duration_ms  \\\n",
       "0                  false                                   11532414   \n",
       "1                  false                                   11656470   \n",
       "2                  false                                   14039958   \n",
       "3                  false                                   28926058   \n",
       "4                  false                                    4335282   \n",
       "\n",
       "   playlist_modified_at     playlist_name  playlist_num_albums  \\\n",
       "0            1493424000        Throwbacks                   47   \n",
       "1            1506556800  Awesome Playlist                   23   \n",
       "2            1505692800           korean                    51   \n",
       "3            1501027200               mat                  107   \n",
       "4            1401667200               90s                   16   \n",
       "\n",
       "   playlist_num_artists  playlist_num_edits  playlist_num_followers  \\\n",
       "0                    37                   6                       1   \n",
       "1                    21                   5                       1   \n",
       "2                    31                  18                       1   \n",
       "3                    86                   4                       1   \n",
       "4                    16                   7                       2   \n",
       "\n",
       "   playlist_num_tracks  playlist_pid  \n",
       "0                   52             0  \n",
       "1                   39             1  \n",
       "2                   64             2  \n",
       "3                  126             3  \n",
       "4                   17             4  "
      ]
     },
     "execution_count": 4,
     "metadata": {},
     "output_type": "execute_result"
    }
   ],
   "source": [
    "playlist_df = pd.DataFrame(playlists)\n",
    "playlist_df.head()\n",
    "# print(playlist_df.describe())"
   ]
  },
  {
   "cell_type": "code",
   "execution_count": 5,
   "metadata": {},
   "outputs": [
    {
     "data": {
      "text/html": [
       "<div>\n",
       "<style scoped>\n",
       "    .dataframe tbody tr th:only-of-type {\n",
       "        vertical-align: middle;\n",
       "    }\n",
       "\n",
       "    .dataframe tbody tr th {\n",
       "        vertical-align: top;\n",
       "    }\n",
       "\n",
       "    .dataframe thead th {\n",
       "        text-align: right;\n",
       "    }\n",
       "</style>\n",
       "<table border=\"1\" class=\"dataframe\">\n",
       "  <thead>\n",
       "    <tr style=\"text-align: right;\">\n",
       "      <th></th>\n",
       "      <th>track_artist_name</th>\n",
       "      <th>track_artist_uri</th>\n",
       "      <th>track_name</th>\n",
       "      <th>track_album_uri</th>\n",
       "      <th>track_duration_ms</th>\n",
       "      <th>track_album_name</th>\n",
       "    </tr>\n",
       "  </thead>\n",
       "  <tbody>\n",
       "    <tr>\n",
       "      <th>spotify:track:000mA0etY38nKdvf1N04af</th>\n",
       "      <td>The Coronas</td>\n",
       "      <td>spotify:artist:2tppd6KkhK4ULAd217Ecq1</td>\n",
       "      <td>If I Gave Myself To Someone Else</td>\n",
       "      <td>spotify:album:662PiU3dRsilN0Gp87IiSF</td>\n",
       "      <td>214506</td>\n",
       "      <td>The Long Way</td>\n",
       "    </tr>\n",
       "    <tr>\n",
       "      <th>spotify:track:000xQL6tZNLJzIrtIgxqSl</th>\n",
       "      <td>ZAYN</td>\n",
       "      <td>spotify:artist:5ZsFI1h6hIdQRw2ti0hz81</td>\n",
       "      <td>Still Got Time</td>\n",
       "      <td>spotify:album:2kGUeTGnkLOYlinKRJe47G</td>\n",
       "      <td>188490</td>\n",
       "      <td>Still Got Time</td>\n",
       "    </tr>\n",
       "    <tr>\n",
       "      <th>spotify:track:002PgfoyfrOGiKch4EW8Wm</th>\n",
       "      <td>Alan Menken</td>\n",
       "      <td>spotify:artist:5sy77gt4bfsLcSQ8GIe4ZZ</td>\n",
       "      <td>Jasmine Runs Away</td>\n",
       "      <td>spotify:album:29EiOQJnxWlX5nVOWQpu3u</td>\n",
       "      <td>46866</td>\n",
       "      <td>Aladdin</td>\n",
       "    </tr>\n",
       "    <tr>\n",
       "      <th>spotify:track:004skCQeDn1iLntSom0rRr</th>\n",
       "      <td>Kevin Jonas</td>\n",
       "      <td>spotify:artist:11bdWrCwHE2gCdVARdASuu</td>\n",
       "      <td>Heart and Soul</td>\n",
       "      <td>spotify:album:5iK842b9xnZblgZkRxWCFe</td>\n",
       "      <td>177773</td>\n",
       "      <td>Camp Rock 2: The Final Jam</td>\n",
       "    </tr>\n",
       "    <tr>\n",
       "      <th>spotify:track:005CGalYNgMNZcvWMIFeK8</th>\n",
       "      <td>Nelson Y Sus Estrellas</td>\n",
       "      <td>spotify:artist:5SRwYMyavJCNT2AdVMpPgi</td>\n",
       "      <td>LLorándote</td>\n",
       "      <td>spotify:album:2TfoLoZHhsL0oAYBxDi4t2</td>\n",
       "      <td>321480</td>\n",
       "      <td>Orquídea de Plata</td>\n",
       "    </tr>\n",
       "  </tbody>\n",
       "</table>\n",
       "</div>"
      ],
      "text/plain": [
       "                                           track_artist_name  \\\n",
       "spotify:track:000mA0etY38nKdvf1N04af             The Coronas   \n",
       "spotify:track:000xQL6tZNLJzIrtIgxqSl                    ZAYN   \n",
       "spotify:track:002PgfoyfrOGiKch4EW8Wm             Alan Menken   \n",
       "spotify:track:004skCQeDn1iLntSom0rRr             Kevin Jonas   \n",
       "spotify:track:005CGalYNgMNZcvWMIFeK8  Nelson Y Sus Estrellas   \n",
       "\n",
       "                                                           track_artist_uri  \\\n",
       "spotify:track:000mA0etY38nKdvf1N04af  spotify:artist:2tppd6KkhK4ULAd217Ecq1   \n",
       "spotify:track:000xQL6tZNLJzIrtIgxqSl  spotify:artist:5ZsFI1h6hIdQRw2ti0hz81   \n",
       "spotify:track:002PgfoyfrOGiKch4EW8Wm  spotify:artist:5sy77gt4bfsLcSQ8GIe4ZZ   \n",
       "spotify:track:004skCQeDn1iLntSom0rRr  spotify:artist:11bdWrCwHE2gCdVARdASuu   \n",
       "spotify:track:005CGalYNgMNZcvWMIFeK8  spotify:artist:5SRwYMyavJCNT2AdVMpPgi   \n",
       "\n",
       "                                                            track_name  \\\n",
       "spotify:track:000mA0etY38nKdvf1N04af  If I Gave Myself To Someone Else   \n",
       "spotify:track:000xQL6tZNLJzIrtIgxqSl                    Still Got Time   \n",
       "spotify:track:002PgfoyfrOGiKch4EW8Wm                 Jasmine Runs Away   \n",
       "spotify:track:004skCQeDn1iLntSom0rRr                    Heart and Soul   \n",
       "spotify:track:005CGalYNgMNZcvWMIFeK8                        LLorándote   \n",
       "\n",
       "                                                           track_album_uri  \\\n",
       "spotify:track:000mA0etY38nKdvf1N04af  spotify:album:662PiU3dRsilN0Gp87IiSF   \n",
       "spotify:track:000xQL6tZNLJzIrtIgxqSl  spotify:album:2kGUeTGnkLOYlinKRJe47G   \n",
       "spotify:track:002PgfoyfrOGiKch4EW8Wm  spotify:album:29EiOQJnxWlX5nVOWQpu3u   \n",
       "spotify:track:004skCQeDn1iLntSom0rRr  spotify:album:5iK842b9xnZblgZkRxWCFe   \n",
       "spotify:track:005CGalYNgMNZcvWMIFeK8  spotify:album:2TfoLoZHhsL0oAYBxDi4t2   \n",
       "\n",
       "                                      track_duration_ms  \\\n",
       "spotify:track:000mA0etY38nKdvf1N04af             214506   \n",
       "spotify:track:000xQL6tZNLJzIrtIgxqSl             188490   \n",
       "spotify:track:002PgfoyfrOGiKch4EW8Wm              46866   \n",
       "spotify:track:004skCQeDn1iLntSom0rRr             177773   \n",
       "spotify:track:005CGalYNgMNZcvWMIFeK8             321480   \n",
       "\n",
       "                                                track_album_name  \n",
       "spotify:track:000mA0etY38nKdvf1N04af                The Long Way  \n",
       "spotify:track:000xQL6tZNLJzIrtIgxqSl              Still Got Time  \n",
       "spotify:track:002PgfoyfrOGiKch4EW8Wm                     Aladdin  \n",
       "spotify:track:004skCQeDn1iLntSom0rRr  Camp Rock 2: The Final Jam  \n",
       "spotify:track:005CGalYNgMNZcvWMIFeK8           Orquídea de Plata  "
      ]
     },
     "execution_count": 5,
     "metadata": {},
     "output_type": "execute_result"
    }
   ],
   "source": [
    "tracks_df = pd.DataFrame.from_dict(tracks, orient='index')\n",
    "tracks_df.head()\n",
    "# print(tracks_df.describe())"
   ]
  },
  {
   "cell_type": "code",
   "execution_count": 6,
   "metadata": {},
   "outputs": [
    {
     "data": {
      "text/html": [
       "<div>\n",
       "<style scoped>\n",
       "    .dataframe tbody tr th:only-of-type {\n",
       "        vertical-align: middle;\n",
       "    }\n",
       "\n",
       "    .dataframe tbody tr th {\n",
       "        vertical-align: top;\n",
       "    }\n",
       "\n",
       "    .dataframe thead th {\n",
       "        text-align: right;\n",
       "    }\n",
       "</style>\n",
       "<table border=\"1\" class=\"dataframe\">\n",
       "  <thead>\n",
       "    <tr style=\"text-align: right;\">\n",
       "      <th></th>\n",
       "      <th>playlist_pid</th>\n",
       "      <th>track_uri</th>\n",
       "    </tr>\n",
       "  </thead>\n",
       "  <tbody>\n",
       "    <tr>\n",
       "      <th>0</th>\n",
       "      <td>0</td>\n",
       "      <td>spotify:track:0UaMYEvWZi0ZqiDOoHU3YI</td>\n",
       "    </tr>\n",
       "    <tr>\n",
       "      <th>1</th>\n",
       "      <td>0</td>\n",
       "      <td>spotify:track:6I9VzXrHxO9rA9A5euc8Ak</td>\n",
       "    </tr>\n",
       "    <tr>\n",
       "      <th>2</th>\n",
       "      <td>0</td>\n",
       "      <td>spotify:track:0WqIKmW4BTrj3eJFmnCKMv</td>\n",
       "    </tr>\n",
       "    <tr>\n",
       "      <th>3</th>\n",
       "      <td>0</td>\n",
       "      <td>spotify:track:1AWQoqb9bSvzTjaLralEkT</td>\n",
       "    </tr>\n",
       "    <tr>\n",
       "      <th>4</th>\n",
       "      <td>0</td>\n",
       "      <td>spotify:track:1lzr43nnXAijIGYnCT8M8H</td>\n",
       "    </tr>\n",
       "  </tbody>\n",
       "</table>\n",
       "</div>"
      ],
      "text/plain": [
       "   playlist_pid                             track_uri\n",
       "0             0  spotify:track:0UaMYEvWZi0ZqiDOoHU3YI\n",
       "1             0  spotify:track:6I9VzXrHxO9rA9A5euc8Ak\n",
       "2             0  spotify:track:0WqIKmW4BTrj3eJFmnCKMv\n",
       "3             0  spotify:track:1AWQoqb9bSvzTjaLralEkT\n",
       "4             0  spotify:track:1lzr43nnXAijIGYnCT8M8H"
      ]
     },
     "execution_count": 6,
     "metadata": {},
     "output_type": "execute_result"
    }
   ],
   "source": [
    "playlist_map_df = pd.DataFrame(map_pl, columns=['playlist_pid', 'track_uri'])\n",
    "playlist_map_df.head()\n",
    "#print(playlist_map_df.describe())"
   ]
  },
  {
   "cell_type": "markdown",
   "metadata": {},
   "source": [
    "We set strings to lower case remove all non alphabetic characters and stop-words"
   ]
  },
  {
   "cell_type": "code",
   "execution_count": 7,
   "metadata": {},
   "outputs": [],
   "source": [
    "import nltk\n",
    "import string\n",
    "#nltk.download('stopwords')\n",
    "from nltk.corpus import stopwords\n",
    "stop = stopwords.words('english')\n",
    "\n",
    "def word_cleanup(df_col):\n",
    "    df_col = df_col.apply(lambda x: x.lower())\n",
    "    df_col = df_col.str.replace('[^a-z]+', ' ')\n",
    "    df_col = df_col.apply(lambda x: ' '.join([word for word in x.split() if word not in (stop)]))\n",
    "    return df_col\n",
    "\n",
    "playlist_df.playlist_description = word_cleanup(playlist_df.playlist_description)\n",
    "playlist_df.playlist_name = word_cleanup(playlist_df.playlist_name)\n",
    "\n",
    "#playlist_df.playlist_name = playlist_df.playlist_name.apply(lambda x: x.lower())\n",
    "#playlist_df.playlist_name = playlist_df.playlist_name.str.replace('[^a-z]+', ' ')\n",
    "#playlist_df.playlist_name = playlist_df.playlist_name.apply(lambda x: ' '.join([word for word in x.split() if word not in (stop)]))"
   ]
  },
  {
   "cell_type": "code",
   "execution_count": 8,
   "metadata": {},
   "outputs": [
    {
     "ename": "TypeError",
     "evalue": "sequence item 0: expected str instance, NoneType found",
     "output_type": "error",
     "traceback": [
      "\u001b[0;31m---------------------------------------------------------------------------\u001b[0m",
      "\u001b[0;31mTypeError\u001b[0m                                 Traceback (most recent call last)",
      "\u001b[0;32m<ipython-input-8-ab2f52823194>\u001b[0m in \u001b[0;36m<module>\u001b[0;34m()\u001b[0m\n\u001b[1;32m     11\u001b[0m     \u001b[0mplt\u001b[0m\u001b[0;34m.\u001b[0m\u001b[0mshow\u001b[0m\u001b[0;34m(\u001b[0m\u001b[0;34m)\u001b[0m\u001b[0;34m\u001b[0m\u001b[0m\n\u001b[1;32m     12\u001b[0m \u001b[0;34m\u001b[0m\u001b[0m\n\u001b[0;32m---> 13\u001b[0;31m \u001b[0mgenerate_wordcloud\u001b[0m\u001b[0;34m(\u001b[0m\u001b[0;34m' '\u001b[0m\u001b[0;34m.\u001b[0m\u001b[0mjoin\u001b[0m\u001b[0;34m(\u001b[0m\u001b[0mplaylist_df\u001b[0m\u001b[0;34m.\u001b[0m\u001b[0mplaylist_name\u001b[0m\u001b[0;34m)\u001b[0m\u001b[0;34m)\u001b[0m\u001b[0;34m\u001b[0m\u001b[0m\n\u001b[0m\u001b[1;32m     14\u001b[0m \u001b[0;34m\u001b[0m\u001b[0m\n\u001b[1;32m     15\u001b[0m \u001b[0mgenerate_wordcloud\u001b[0m\u001b[0;34m(\u001b[0m\u001b[0;34m' '\u001b[0m\u001b[0;34m.\u001b[0m\u001b[0mjoin\u001b[0m\u001b[0;34m(\u001b[0m\u001b[0mplaylist_df\u001b[0m\u001b[0;34m.\u001b[0m\u001b[0mplaylist_description\u001b[0m\u001b[0;34m)\u001b[0m\u001b[0;34m)\u001b[0m\u001b[0;34m\u001b[0m\u001b[0m\n",
      "\u001b[0;31mTypeError\u001b[0m: sequence item 0: expected str instance, NoneType found"
     ]
    }
   ],
   "source": [
    "#pip install wordcloud\n",
    "from wordcloud import WordCloud\n",
    "\n",
    "def generate_wordcloud(text): # optionally add: stopwords=STOPWORDS and change the arg below\n",
    "    wordcloud = WordCloud(font_path='/Library/Fonts/Verdana.ttf',\n",
    "                          relative_scaling = 0.1,\n",
    "                          ).generate(text)\n",
    "    plt.figure(figsize=(15,10))\n",
    "    plt.imshow(wordcloud)\n",
    "    plt.axis(\"off\")\n",
    "    plt.show()\n",
    "\n",
    "generate_wordcloud(' '.join(playlist_df.playlist_name))\n",
    "\n",
    "generate_wordcloud(' '.join(playlist_df.playlist_description))"
   ]
  },
  {
   "cell_type": "code",
   "execution_count": null,
   "metadata": {},
   "outputs": [],
   "source": []
  },
  {
   "cell_type": "code",
   "execution_count": null,
   "metadata": {},
   "outputs": [],
   "source": [
    "from sklearn.feature_extraction.text import CountVectorizer, TfidfTransformer\n",
    "\n",
    "cv_description = CountVectorizer(token_pattern=r\"(?u)\\b\\w+\\b\", stop_words=None, ngram_range=(1,1), analyzer='word')\n",
    "dt_mat_description = cv_description.fit_transform(playlist_df.playlist_description)\n",
    "playlist_df['playlist_description_frequency'] = list(dt_mat_description.toarray())\n",
    "\n",
    "cv_name = CountVectorizer(token_pattern=r\"(?u)\\b\\w+\\b\", stop_words=None, ngram_range=(1,1), analyzer='word')\n",
    "dt_mat_name = cv_name.fit_transform(playlist_df.playlist_name)\n",
    "playlist_df['playlist_name_frequency'] = list(dt_mat_name.toarray())"
   ]
  },
  {
   "cell_type": "code",
   "execution_count": null,
   "metadata": {},
   "outputs": [],
   "source": [
    "#pip install yellowbrick\n",
    "from yellowbrick.text import FreqDistVisualizer\n",
    "\n",
    "plt.figure(figsize=(15,10))\n",
    "visualizer = FreqDistVisualizer(features = cv_name.get_feature_names())\n",
    "visualizer.fit(dt_mat_name)\n",
    "visualizer.poof()"
   ]
  },
  {
   "cell_type": "code",
   "execution_count": null,
   "metadata": {},
   "outputs": [],
   "source": [
    "from yellowbrick.text import FreqDistVisualizer\n",
    "\n",
    "plt.figure(figsize=(15,10))\n",
    "visualizer = FreqDistVisualizer(features = cv_description.get_feature_names())\n",
    "visualizer.fit(dt_mat_description)\n",
    "visualizer.poof()"
   ]
  },
  {
   "cell_type": "code",
   "execution_count": null,
   "metadata": {},
   "outputs": [],
   "source": [
    "tfidf_transformer = TfidfTransformer()\n",
    "\n",
    "tfidf_mat_description = tfidf_transformer.fit_transform(dt_mat_description)\n",
    "playlist_df['playlist_description_tfidf_score']=list(tfidf_mat_description.toarray())\n",
    "\n",
    "tfidf_mat_name = tfidf_transformer.fit_transform(dt_mat_name)\n",
    "playlist_df['playlist_name_tfidf_score']=list(tfidf_mat_name.toarray())\n",
    "playlist_df"
   ]
  },
  {
   "cell_type": "code",
   "execution_count": null,
   "metadata": {},
   "outputs": [],
   "source": [
    "bigrams_name_frequency = pd.DataFrame(dt_mat_name.todense(), index=playlist_df.index, columns=cv_name.get_feature_names())\n",
    "bigrams_name_frequency['playlist_pid'] = playlist_df.playlist_pid\n",
    "print(bigrams_name_frequency)\n",
    "\n",
    "bigrams_desc_frequency = pd.DataFrame(tfidf_mat_description.todense(), index=playlist_df.index, columns=cv_description.get_feature_names())\n",
    "bigrams_desc_frequency['playlist_pid'] = playlist_df.playlist_pid\n",
    "print(bigrams_desc_frequency)\n",
    "\n",
    "bigrams_name_tfidf_score = pd.DataFrame(dt_mat_name.todense(), index=playlist_df.index, columns=cv_name.get_feature_names())\n",
    "bigrams_name_tfidf_score['playlist_pid'] = playlist_df.playlist_pid\n",
    "print(bigrams_name_tfidf_score)\n",
    "\n",
    "bigrams_desc_tfidf_score = pd.DataFrame(tfidf_mat_description.todense(), index=playlist_df.index, columns=cv_description.get_feature_names())\n",
    "bigrams_desc_tfidf_score['playlist_pid'] = playlist_df.playlist_pid\n",
    "print(bigrams_desc_tfidf_score)"
   ]
  },
  {
   "cell_type": "code",
   "execution_count": null,
   "metadata": {},
   "outputs": [],
   "source": [
    "merged = pd.merge(\n",
    "    pd.merge(\n",
    "        tracks_df, playlist_map_df, left_index=True, right_on='track_uri'),\n",
    "    playlist_df,\n",
    "    on='playlist_pid')"
   ]
  },
  {
   "cell_type": "code",
   "execution_count": null,
   "metadata": {},
   "outputs": [],
   "source": [
    "merged.head()"
   ]
  },
  {
   "cell_type": "code",
   "execution_count": null,
   "metadata": {},
   "outputs": [],
   "source": [
    "# Create Negative Samples\n",
    "negative_samples = pd.DataFrame([])\n",
    "for pid, df in tqdm(merged.groupby([\"playlist_pid\"])):\n",
    "    negative_tracks = tracks_df.drop(df.track_uri).sample(df.shape[0])\n",
    "    negative_playlist_tracks = pd.concat(\n",
    "        [\n",
    "            df.drop(list(tracks_df.columns) + ['track_uri'], axis=1).reset_index(\n",
    "                drop=True), negative_tracks.reset_index()\n",
    "        ],\n",
    "        axis=1)\n",
    "    negative_playlist_tracks.rename(columns={'index': 'track_uri'}, inplace=True)\n",
    "    negative_samples = negative_samples.append(negative_playlist_tracks)\n"
   ]
  },
  {
   "cell_type": "code",
   "execution_count": null,
   "metadata": {},
   "outputs": [],
   "source": [
    "# Provide labels\n",
    "negative_samples['match'] = 0\n",
    "merged['match'] = 1"
   ]
  },
  {
   "cell_type": "code",
   "execution_count": null,
   "metadata": {},
   "outputs": [],
   "source": [
    "negative_samples.head()"
   ]
  },
  {
   "cell_type": "code",
   "execution_count": null,
   "metadata": {},
   "outputs": [],
   "source": [
    "merged.head()"
   ]
  },
  {
   "cell_type": "code",
   "execution_count": null,
   "metadata": {},
   "outputs": [],
   "source": [
    "negative_samples.head()"
   ]
  },
  {
   "cell_type": "code",
   "execution_count": null,
   "metadata": {},
   "outputs": [],
   "source": [
    "merged.columns"
   ]
  },
  {
   "cell_type": "code",
   "execution_count": null,
   "metadata": {},
   "outputs": [],
   "source": [
    "negative_samples.columns"
   ]
  },
  {
   "cell_type": "code",
   "execution_count": null,
   "metadata": {},
   "outputs": [],
   "source": [
    "dataset = merged.append(negative_samples[merged.columns]).sort_values(by=['playlist_pid']).reset_index(drop=True)"
   ]
  },
  {
   "cell_type": "code",
   "execution_count": null,
   "metadata": {},
   "outputs": [],
   "source": [
    "dataset.tail(32)"
   ]
  },
  {
   "cell_type": "code",
   "execution_count": null,
   "metadata": {},
   "outputs": [],
   "source": [
    "# Include the features in the list below\n",
    "features = [\n",
    "    'playlist_duration_ms', 'playlist_num_albums', 'playlist_num_artists',\n",
    "    'playlist_num_edits', 'playlist_num_followers', 'playlist_num_tracks',\n",
    "    'playlist_pid', 'track_duration_ms'\n",
    "]\n",
    "data_x = dataset[features]\n",
    "data_y = dataset.match\n",
    "X_train, X_test, y_train, y_test = train_test_split(\n",
    "    data_x, data_y, test_size=0.1, random_state=42, shuffle=True)"
   ]
  },
  {
   "cell_type": "code",
   "execution_count": null,
   "metadata": {},
   "outputs": [],
   "source": [
    "X_test.head()"
   ]
  },
  {
   "cell_type": "code",
   "execution_count": null,
   "metadata": {},
   "outputs": [],
   "source": [
    "y_test.head()\n",
    "# y_test[y_test == 1].head()"
   ]
  },
  {
   "cell_type": "code",
   "execution_count": null,
   "metadata": {},
   "outputs": [],
   "source": [
    "dataset.loc[X_test.head().index]"
   ]
  },
  {
   "cell_type": "code",
   "execution_count": null,
   "metadata": {},
   "outputs": [],
   "source": [
    "y_test[y_test == 1].head()"
   ]
  },
  {
   "cell_type": "code",
   "execution_count": null,
   "metadata": {},
   "outputs": [],
   "source": [
    "# 1. Calculate metric only on test set using the positive samples\n",
    "#     a. Obtain unique playlists in the test set\n",
    "#     b. For each playlist, obtain the positve songs.\n",
    "#     c. Set both `target` and `prediction` as lists of the positive songs\n",
    "#     d. For each playlist, calculate the r_precision. r_precision comes from the metrics.py file in the repo.\n",
    "\n",
    "# 2. Train the X_train on the classifier. Obtain predictions for X_test\n",
    "\n",
    "# 3. Repeat 1 above, now setting `predictions` as the list of songs \"ranked by probability\".\n",
    "\n",
    "# 4. Calculate the r_precision metric based on your predicitons!"
   ]
  },
  {
   "cell_type": "code",
   "execution_count": null,
   "metadata": {},
   "outputs": [],
   "source": [
    "# Create Negative Samples\n",
    "negative_samples = pd.DataFrame([])\n",
    "for pid, df in tqdm(merged.groupby([\"playlist_pid\"])):\n",
    "    negative_tracks = tracks_df.drop(df.track_uri).sample(df.shape[0])\n",
    "    negative_playlist_tracks = pd.concat(\n",
    "        [\n",
    "            df.drop(list(tracks_df.columns) + ['track_uri'], axis=1).reset_index(\n",
    "                drop=True), negative_tracks.reset_index()\n",
    "        ],\n",
    "        axis=1)\n",
    "    negative_playlist_tracks.rename(columns={'index': 'track_uri'}, inplace=True)\n",
    "    negative_samples = negative_samples.append(negative_playlist_tracks)\n"
   ]
  },
  {
   "cell_type": "code",
   "execution_count": null,
   "metadata": {},
   "outputs": [],
   "source": [
    "r_precisions = []\n",
    "for pid, df in tqdm(X_test.groupby([\"playlist_pid\"])):\n",
    "    probs = y_test.loc[df.index]  # change y_test to the output probs from clf\n",
    "    targets = dataset.loc[probs[probs == 1].index].track_uri\n",
    "    predictions = dataset.loc[probs[probs > 0.5].index].track_uri.unique()\n",
    "    if len(targets) > 0:\n",
    "        r_precisions.append(r_precision(targets, predictions))\n",
    "np.mean(r_precisions)    "
   ]
  },
  {
   "cell_type": "code",
   "execution_count": null,
   "metadata": {},
   "outputs": [],
   "source": [
    "lr_clf = LogisticRegression()\n",
    "lr_clf = lr_clf.fit(X_train, y_train)"
   ]
  },
  {
   "cell_type": "code",
   "execution_count": null,
   "metadata": {},
   "outputs": [],
   "source": [
    "# y_prob = lr_clf.predict_proba(X_test)\n",
    "y_prob = pd.DataFrame(lr_clf.predict_proba(X_test), index=y_test.index)"
   ]
  },
  {
   "cell_type": "code",
   "execution_count": null,
   "metadata": {},
   "outputs": [],
   "source": [
    "y_prob.head(10)"
   ]
  },
  {
   "cell_type": "code",
   "execution_count": null,
   "metadata": {},
   "outputs": [],
   "source": [
    "y_test.head()"
   ]
  },
  {
   "cell_type": "code",
   "execution_count": null,
   "metadata": {},
   "outputs": [],
   "source": [
    "y_pred = y_prob.idxmax(axis=1)"
   ]
  },
  {
   "cell_type": "code",
   "execution_count": null,
   "metadata": {},
   "outputs": [],
   "source": [
    "r_precisions = []\n",
    "for pid, df in tqdm(X_test.groupby([\"playlist_pid\"])):\n",
    "    labels = y_test.loc[df.index]  # change y_test to the output probs from clf\n",
    "    preds = y_pred.loc[df.index]\n",
    "    targets = dataset.loc[labels[labels == 1].index].track_uri\n",
    "    predictions = dataset.loc[preds[preds == 1].index].track_uri.unique()\n",
    "    if len(targets) > 0:\n",
    "        r_precisions.append(r_precision(targets, predictions))\n",
    "np.mean(r_precisions)    "
   ]
  },
  {
   "cell_type": "markdown",
   "metadata": {},
   "source": [
    "Question: Do playlist and track duration interact to influence whether a song should belong to a playlist `(match=1)` or whether a song should not belong to a playlist `(match=0)`?"
   ]
  },
  {
   "cell_type": "code",
   "execution_count": null,
   "metadata": {},
   "outputs": [],
   "source": [
    "(dataset[dataset.match==1].playlist_duration_ms/dataset[dataset.match==1].playlist_num_tracks)"
   ]
  },
  {
   "cell_type": "code",
   "execution_count": null,
   "metadata": {},
   "outputs": [],
   "source": [
    "plt.scatter(dataset[dataset.match == 1].playlist_duration_ms /\n",
    "            dataset[dataset.match == 1].playlist_num_tracks,\n",
    "            dataset[dataset.match == 1].track_duration_ms)\n",
    "plt.scatter(dataset[dataset.match == 0].playlist_duration_ms /\n",
    "            dataset[dataset.match == 0].playlist_num_tracks,\n",
    "            dataset[dataset.match == 0].track_duration_ms)\n",
    "plt.xlabel('Average Track Duration')\n",
    "plt.ylabel('Track Duration')\n"
   ]
  },
  {
   "cell_type": "markdown",
   "metadata": {},
   "source": [
    "A trend which might not be that strong to notice is that as the average track duration increases for a playlist, the propensity to see a track of long duration increases. However, this isn't the case with negative sample playlists, where in playlist of short length very long tracks can still be detected."
   ]
  },
  {
   "cell_type": "code",
   "execution_count": null,
   "metadata": {},
   "outputs": [],
   "source": [
    "plt.hist(dataset[dataset.match==1].playlist_duration_ms)\n",
    "plt.hist(dataset[dataset.match==0].playlist_duration_ms)"
   ]
  },
  {
   "cell_type": "code",
   "execution_count": null,
   "metadata": {},
   "outputs": [],
   "source": []
  }
 ],
 "metadata": {
  "kernelspec": {
   "display_name": "Python 3",
   "language": "python",
   "name": "python3"
  },
  "language_info": {
   "codemirror_mode": {
    "name": "ipython",
    "version": 3
   },
   "file_extension": ".py",
   "mimetype": "text/x-python",
   "name": "python",
   "nbconvert_exporter": "python",
   "pygments_lexer": "ipython3",
   "version": "3.6.5"
  }
 },
 "nbformat": 4,
 "nbformat_minor": 2
}
