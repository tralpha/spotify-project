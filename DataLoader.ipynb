{
 "cells": [
  {
   "cell_type": "code",
   "execution_count": 1,
   "metadata": {},
   "outputs": [],
   "source": [
    "import os\n",
    "import json\n",
    "import pandas as pd\n",
    "import numpy as np\n",
    "import scipy as sp\n",
    "from tqdm import tqdm_notebook as tqdm\n",
    "from sklearn.model_selection import train_test_split\n",
    "from sklearn.linear_model import LogisticRegression\n",
    "from sklearn.pipeline import FeatureUnion\n",
    "from sklearn.feature_extraction.text import CountVectorizer, TfidfTransformer\n",
    "from sklearn.preprocessing import OneHotEncoder\n",
    "from sklearn.base import BaseEstimator, TransformerMixin\n",
    "\n",
    "# Metrics obtained from an organizer of the Challenge\n",
    "# https://github.com/plamere/RecsysChallengeTools/blob/master/metrics.py\n",
    "from metrics import r_precision\n",
    "import matplotlib\n",
    "import matplotlib.pyplot as plt\n",
    "%matplotlib inline"
   ]
  },
  {
   "cell_type": "code",
   "execution_count": 56,
   "metadata": {},
   "outputs": [
    {
     "name": "stdout",
     "output_type": "stream",
     "text": [
      "mpd.slice.0-999.json\n",
      "mpd.slice.1000-1999.json\n"
     ]
    }
   ],
   "source": [
    "playlists = list()\n",
    "tracks = dict()\n",
    "map_pl = list()\n",
    "\n",
    "max_files_for_quick_processing = 1\n",
    "\n",
    "\n",
    "def process_track(track):\n",
    "    key = track['track_uri']\n",
    "    if not key in tracks:\n",
    "        tk = dict()\n",
    "        tk['track_artist_name'] = track['artist_name']\n",
    "        tk['track_artist_uri'] = track['artist_uri']\n",
    "        tk['track_name'] = track['track_name']\n",
    "        tk['track_album_uri'] = track['album_uri']\n",
    "        tk['track_duration_ms'] = track['duration_ms']\n",
    "        tk['track_album_name'] = track['album_name']\n",
    "        tk['track_pos'] = track['pos']\n",
    "        tracks[track['track_uri']] = tk\n",
    "    return key\n",
    "\n",
    "\n",
    "def process_playlist(playlist):\n",
    "    pl = dict()\n",
    "    pl['playlist_name'] = playlist['name']\n",
    "    pl['playlist_collaborative'] = playlist['collaborative']\n",
    "    pl['playlist_pid'] = str(playlist['pid'])\n",
    "    pl['playlist_modified_at'] = playlist['modified_at']\n",
    "    pl['playlist_num_albums'] = playlist['num_albums']\n",
    "    pl['playlist_num_tracks'] = playlist['num_tracks']\n",
    "    pl['playlist_num_followers'] = playlist['num_followers']\n",
    "    pl['playlist_num_edits'] = playlist['num_edits']\n",
    "    pl['playlist_duration_ms'] = playlist['duration_ms']\n",
    "    pl['playlist_num_artists'] = playlist['num_artists']\n",
    "    if 'description' in playlist:\n",
    "        pl['playlist_description'] = playlist['description']\n",
    "    else:\n",
    "        pl['playlist_description'] = ''\n",
    "    trks = list()\n",
    "    for track in playlist['tracks']:\n",
    "        map_pl.append([playlist['pid'], track['track_uri']])\n",
    "        trks.append(track['track_uri'])\n",
    "        process_track(track)\n",
    "    return pl\n",
    "\n",
    "def process_mpd(path):\n",
    "    count = 0\n",
    "    filenames = os.listdir(path)\n",
    "    for filename in sorted(filenames):\n",
    "        print(filename)\n",
    "        if filename.startswith(\"mpd.slice.\") and filename.endswith(\".json\"):\n",
    "            fullpath = os.sep.join((path, filename))\n",
    "            f = open(fullpath)\n",
    "            js = f.read()\n",
    "            f.close()\n",
    "            slice = json.loads(js)\n",
    "            for playlist in slice['playlists']:\n",
    "                playlists.append(process_playlist(playlist))\n",
    "            count += 1\n",
    "            if quick and count > max_files_for_quick_processing:\n",
    "                break\n",
    "\n",
    "quick = True\n",
    "process_mpd('mpd.v1/data')"
   ]
  },
  {
   "cell_type": "code",
   "execution_count": 19,
   "metadata": {},
   "outputs": [
    {
     "name": "stdout",
     "output_type": "stream",
     "text": [
      "2000\n",
      "57884\n",
      "134125\n"
     ]
    }
   ],
   "source": [
    "print(len(playlists))\n",
    "print(len(tracks))\n",
    "print(len(map_pl))"
   ]
  },
  {
   "cell_type": "code",
   "execution_count": 20,
   "metadata": {},
   "outputs": [
    {
     "data": {
      "text/html": [
       "<div>\n",
       "<style scoped>\n",
       "    .dataframe tbody tr th:only-of-type {\n",
       "        vertical-align: middle;\n",
       "    }\n",
       "\n",
       "    .dataframe tbody tr th {\n",
       "        vertical-align: top;\n",
       "    }\n",
       "\n",
       "    .dataframe thead th {\n",
       "        text-align: right;\n",
       "    }\n",
       "</style>\n",
       "<table border=\"1\" class=\"dataframe\">\n",
       "  <thead>\n",
       "    <tr style=\"text-align: right;\">\n",
       "      <th></th>\n",
       "      <th>playlist_collaborative</th>\n",
       "      <th>playlist_description</th>\n",
       "      <th>playlist_duration_ms</th>\n",
       "      <th>playlist_modified_at</th>\n",
       "      <th>playlist_name</th>\n",
       "      <th>playlist_num_albums</th>\n",
       "      <th>playlist_num_artists</th>\n",
       "      <th>playlist_num_edits</th>\n",
       "      <th>playlist_num_followers</th>\n",
       "      <th>playlist_num_tracks</th>\n",
       "      <th>playlist_pid</th>\n",
       "    </tr>\n",
       "  </thead>\n",
       "  <tbody>\n",
       "    <tr>\n",
       "      <th>0</th>\n",
       "      <td>false</td>\n",
       "      <td></td>\n",
       "      <td>11532414</td>\n",
       "      <td>1493424000</td>\n",
       "      <td>Throwbacks</td>\n",
       "      <td>47</td>\n",
       "      <td>37</td>\n",
       "      <td>6</td>\n",
       "      <td>1</td>\n",
       "      <td>52</td>\n",
       "      <td>0</td>\n",
       "    </tr>\n",
       "    <tr>\n",
       "      <th>1</th>\n",
       "      <td>false</td>\n",
       "      <td></td>\n",
       "      <td>11656470</td>\n",
       "      <td>1506556800</td>\n",
       "      <td>Awesome Playlist</td>\n",
       "      <td>23</td>\n",
       "      <td>21</td>\n",
       "      <td>5</td>\n",
       "      <td>1</td>\n",
       "      <td>39</td>\n",
       "      <td>1</td>\n",
       "    </tr>\n",
       "    <tr>\n",
       "      <th>2</th>\n",
       "      <td>false</td>\n",
       "      <td></td>\n",
       "      <td>14039958</td>\n",
       "      <td>1505692800</td>\n",
       "      <td>korean</td>\n",
       "      <td>51</td>\n",
       "      <td>31</td>\n",
       "      <td>18</td>\n",
       "      <td>1</td>\n",
       "      <td>64</td>\n",
       "      <td>2</td>\n",
       "    </tr>\n",
       "    <tr>\n",
       "      <th>3</th>\n",
       "      <td>false</td>\n",
       "      <td></td>\n",
       "      <td>28926058</td>\n",
       "      <td>1501027200</td>\n",
       "      <td>mat</td>\n",
       "      <td>107</td>\n",
       "      <td>86</td>\n",
       "      <td>4</td>\n",
       "      <td>1</td>\n",
       "      <td>126</td>\n",
       "      <td>3</td>\n",
       "    </tr>\n",
       "    <tr>\n",
       "      <th>4</th>\n",
       "      <td>false</td>\n",
       "      <td></td>\n",
       "      <td>4335282</td>\n",
       "      <td>1401667200</td>\n",
       "      <td>90s</td>\n",
       "      <td>16</td>\n",
       "      <td>16</td>\n",
       "      <td>7</td>\n",
       "      <td>2</td>\n",
       "      <td>17</td>\n",
       "      <td>4</td>\n",
       "    </tr>\n",
       "  </tbody>\n",
       "</table>\n",
       "</div>"
      ],
      "text/plain": [
       "  playlist_collaborative playlist_description  playlist_duration_ms  \\\n",
       "0                  false                                   11532414   \n",
       "1                  false                                   11656470   \n",
       "2                  false                                   14039958   \n",
       "3                  false                                   28926058   \n",
       "4                  false                                    4335282   \n",
       "\n",
       "   playlist_modified_at     playlist_name  playlist_num_albums  \\\n",
       "0            1493424000        Throwbacks                   47   \n",
       "1            1506556800  Awesome Playlist                   23   \n",
       "2            1505692800           korean                    51   \n",
       "3            1501027200               mat                  107   \n",
       "4            1401667200               90s                   16   \n",
       "\n",
       "   playlist_num_artists  playlist_num_edits  playlist_num_followers  \\\n",
       "0                    37                   6                       1   \n",
       "1                    21                   5                       1   \n",
       "2                    31                  18                       1   \n",
       "3                    86                   4                       1   \n",
       "4                    16                   7                       2   \n",
       "\n",
       "   playlist_num_tracks playlist_pid  \n",
       "0                   52            0  \n",
       "1                   39            1  \n",
       "2                   64            2  \n",
       "3                  126            3  \n",
       "4                   17            4  "
      ]
     },
     "execution_count": 20,
     "metadata": {},
     "output_type": "execute_result"
    }
   ],
   "source": [
    "playlist_df = pd.DataFrame(playlists)\n",
    "playlist_df.head()\n",
    "# print(playlist_df.describe())"
   ]
  },
  {
   "cell_type": "code",
   "execution_count": 23,
   "metadata": {},
   "outputs": [
    {
     "data": {
      "text/html": [
       "<div>\n",
       "<style scoped>\n",
       "    .dataframe tbody tr th:only-of-type {\n",
       "        vertical-align: middle;\n",
       "    }\n",
       "\n",
       "    .dataframe tbody tr th {\n",
       "        vertical-align: top;\n",
       "    }\n",
       "\n",
       "    .dataframe thead th {\n",
       "        text-align: right;\n",
       "    }\n",
       "</style>\n",
       "<table border=\"1\" class=\"dataframe\">\n",
       "  <thead>\n",
       "    <tr style=\"text-align: right;\">\n",
       "      <th></th>\n",
       "      <th>track_artist_name</th>\n",
       "      <th>track_artist_uri</th>\n",
       "      <th>track_name</th>\n",
       "      <th>track_album_uri</th>\n",
       "      <th>track_duration_ms</th>\n",
       "      <th>track_album_name</th>\n",
       "      <th>track_pos</th>\n",
       "    </tr>\n",
       "  </thead>\n",
       "  <tbody>\n",
       "    <tr>\n",
       "      <th>spotify:track:000mA0etY38nKdvf1N04af</th>\n",
       "      <td>The Coronas</td>\n",
       "      <td>spotify:artist:2tppd6KkhK4ULAd217Ecq1</td>\n",
       "      <td>If I Gave Myself To Someone Else</td>\n",
       "      <td>spotify:album:662PiU3dRsilN0Gp87IiSF</td>\n",
       "      <td>214506</td>\n",
       "      <td>The Long Way</td>\n",
       "      <td>12</td>\n",
       "    </tr>\n",
       "    <tr>\n",
       "      <th>spotify:track:000xQL6tZNLJzIrtIgxqSl</th>\n",
       "      <td>ZAYN</td>\n",
       "      <td>spotify:artist:5ZsFI1h6hIdQRw2ti0hz81</td>\n",
       "      <td>Still Got Time</td>\n",
       "      <td>spotify:album:2kGUeTGnkLOYlinKRJe47G</td>\n",
       "      <td>188490</td>\n",
       "      <td>Still Got Time</td>\n",
       "      <td>85</td>\n",
       "    </tr>\n",
       "    <tr>\n",
       "      <th>spotify:track:002PgfoyfrOGiKch4EW8Wm</th>\n",
       "      <td>Alan Menken</td>\n",
       "      <td>spotify:artist:5sy77gt4bfsLcSQ8GIe4ZZ</td>\n",
       "      <td>Jasmine Runs Away</td>\n",
       "      <td>spotify:album:29EiOQJnxWlX5nVOWQpu3u</td>\n",
       "      <td>46866</td>\n",
       "      <td>Aladdin</td>\n",
       "      <td>157</td>\n",
       "    </tr>\n",
       "    <tr>\n",
       "      <th>spotify:track:004skCQeDn1iLntSom0rRr</th>\n",
       "      <td>Kevin Jonas</td>\n",
       "      <td>spotify:artist:11bdWrCwHE2gCdVARdASuu</td>\n",
       "      <td>Heart and Soul</td>\n",
       "      <td>spotify:album:5iK842b9xnZblgZkRxWCFe</td>\n",
       "      <td>177773</td>\n",
       "      <td>Camp Rock 2: The Final Jam</td>\n",
       "      <td>62</td>\n",
       "    </tr>\n",
       "    <tr>\n",
       "      <th>spotify:track:005CGalYNgMNZcvWMIFeK8</th>\n",
       "      <td>Nelson Y Sus Estrellas</td>\n",
       "      <td>spotify:artist:5SRwYMyavJCNT2AdVMpPgi</td>\n",
       "      <td>LLorándote</td>\n",
       "      <td>spotify:album:2TfoLoZHhsL0oAYBxDi4t2</td>\n",
       "      <td>321480</td>\n",
       "      <td>Orquídea de Plata</td>\n",
       "      <td>110</td>\n",
       "    </tr>\n",
       "  </tbody>\n",
       "</table>\n",
       "</div>"
      ],
      "text/plain": [
       "                                           track_artist_name  \\\n",
       "spotify:track:000mA0etY38nKdvf1N04af             The Coronas   \n",
       "spotify:track:000xQL6tZNLJzIrtIgxqSl                    ZAYN   \n",
       "spotify:track:002PgfoyfrOGiKch4EW8Wm             Alan Menken   \n",
       "spotify:track:004skCQeDn1iLntSom0rRr             Kevin Jonas   \n",
       "spotify:track:005CGalYNgMNZcvWMIFeK8  Nelson Y Sus Estrellas   \n",
       "\n",
       "                                                           track_artist_uri  \\\n",
       "spotify:track:000mA0etY38nKdvf1N04af  spotify:artist:2tppd6KkhK4ULAd217Ecq1   \n",
       "spotify:track:000xQL6tZNLJzIrtIgxqSl  spotify:artist:5ZsFI1h6hIdQRw2ti0hz81   \n",
       "spotify:track:002PgfoyfrOGiKch4EW8Wm  spotify:artist:5sy77gt4bfsLcSQ8GIe4ZZ   \n",
       "spotify:track:004skCQeDn1iLntSom0rRr  spotify:artist:11bdWrCwHE2gCdVARdASuu   \n",
       "spotify:track:005CGalYNgMNZcvWMIFeK8  spotify:artist:5SRwYMyavJCNT2AdVMpPgi   \n",
       "\n",
       "                                                            track_name  \\\n",
       "spotify:track:000mA0etY38nKdvf1N04af  If I Gave Myself To Someone Else   \n",
       "spotify:track:000xQL6tZNLJzIrtIgxqSl                    Still Got Time   \n",
       "spotify:track:002PgfoyfrOGiKch4EW8Wm                 Jasmine Runs Away   \n",
       "spotify:track:004skCQeDn1iLntSom0rRr                    Heart and Soul   \n",
       "spotify:track:005CGalYNgMNZcvWMIFeK8                        LLorándote   \n",
       "\n",
       "                                                           track_album_uri  \\\n",
       "spotify:track:000mA0etY38nKdvf1N04af  spotify:album:662PiU3dRsilN0Gp87IiSF   \n",
       "spotify:track:000xQL6tZNLJzIrtIgxqSl  spotify:album:2kGUeTGnkLOYlinKRJe47G   \n",
       "spotify:track:002PgfoyfrOGiKch4EW8Wm  spotify:album:29EiOQJnxWlX5nVOWQpu3u   \n",
       "spotify:track:004skCQeDn1iLntSom0rRr  spotify:album:5iK842b9xnZblgZkRxWCFe   \n",
       "spotify:track:005CGalYNgMNZcvWMIFeK8  spotify:album:2TfoLoZHhsL0oAYBxDi4t2   \n",
       "\n",
       "                                      track_duration_ms  \\\n",
       "spotify:track:000mA0etY38nKdvf1N04af             214506   \n",
       "spotify:track:000xQL6tZNLJzIrtIgxqSl             188490   \n",
       "spotify:track:002PgfoyfrOGiKch4EW8Wm              46866   \n",
       "spotify:track:004skCQeDn1iLntSom0rRr             177773   \n",
       "spotify:track:005CGalYNgMNZcvWMIFeK8             321480   \n",
       "\n",
       "                                                track_album_name  track_pos  \n",
       "spotify:track:000mA0etY38nKdvf1N04af                The Long Way         12  \n",
       "spotify:track:000xQL6tZNLJzIrtIgxqSl              Still Got Time         85  \n",
       "spotify:track:002PgfoyfrOGiKch4EW8Wm                     Aladdin        157  \n",
       "spotify:track:004skCQeDn1iLntSom0rRr  Camp Rock 2: The Final Jam         62  \n",
       "spotify:track:005CGalYNgMNZcvWMIFeK8           Orquídea de Plata        110  "
      ]
     },
     "execution_count": 23,
     "metadata": {},
     "output_type": "execute_result"
    }
   ],
   "source": [
    "tracks_df = pd.DataFrame.from_dict(tracks, orient='index')\n",
    "tracks_df.head()\n",
    "# print(tracks_df.describe())"
   ]
  },
  {
   "cell_type": "code",
   "execution_count": 24,
   "metadata": {},
   "outputs": [
    {
     "data": {
      "text/html": [
       "<div>\n",
       "<style scoped>\n",
       "    .dataframe tbody tr th:only-of-type {\n",
       "        vertical-align: middle;\n",
       "    }\n",
       "\n",
       "    .dataframe tbody tr th {\n",
       "        vertical-align: top;\n",
       "    }\n",
       "\n",
       "    .dataframe thead th {\n",
       "        text-align: right;\n",
       "    }\n",
       "</style>\n",
       "<table border=\"1\" class=\"dataframe\">\n",
       "  <thead>\n",
       "    <tr style=\"text-align: right;\">\n",
       "      <th></th>\n",
       "      <th>playlist_pid</th>\n",
       "      <th>track_uri</th>\n",
       "    </tr>\n",
       "  </thead>\n",
       "  <tbody>\n",
       "    <tr>\n",
       "      <th>0</th>\n",
       "      <td>0</td>\n",
       "      <td>spotify:track:0UaMYEvWZi0ZqiDOoHU3YI</td>\n",
       "    </tr>\n",
       "    <tr>\n",
       "      <th>1</th>\n",
       "      <td>0</td>\n",
       "      <td>spotify:track:6I9VzXrHxO9rA9A5euc8Ak</td>\n",
       "    </tr>\n",
       "    <tr>\n",
       "      <th>2</th>\n",
       "      <td>0</td>\n",
       "      <td>spotify:track:0WqIKmW4BTrj3eJFmnCKMv</td>\n",
       "    </tr>\n",
       "    <tr>\n",
       "      <th>3</th>\n",
       "      <td>0</td>\n",
       "      <td>spotify:track:1AWQoqb9bSvzTjaLralEkT</td>\n",
       "    </tr>\n",
       "    <tr>\n",
       "      <th>4</th>\n",
       "      <td>0</td>\n",
       "      <td>spotify:track:1lzr43nnXAijIGYnCT8M8H</td>\n",
       "    </tr>\n",
       "  </tbody>\n",
       "</table>\n",
       "</div>"
      ],
      "text/plain": [
       "   playlist_pid                             track_uri\n",
       "0             0  spotify:track:0UaMYEvWZi0ZqiDOoHU3YI\n",
       "1             0  spotify:track:6I9VzXrHxO9rA9A5euc8Ak\n",
       "2             0  spotify:track:0WqIKmW4BTrj3eJFmnCKMv\n",
       "3             0  spotify:track:1AWQoqb9bSvzTjaLralEkT\n",
       "4             0  spotify:track:1lzr43nnXAijIGYnCT8M8H"
      ]
     },
     "execution_count": 24,
     "metadata": {},
     "output_type": "execute_result"
    }
   ],
   "source": [
    "playlist_map_df = pd.DataFrame(map_pl, columns=['playlist_pid', 'track_uri'])\n",
    "playlist_map_df.head()\n",
    "#print(playlist_map_df.describe())"
   ]
  },
  {
   "cell_type": "markdown",
   "metadata": {},
   "source": [
    "We set strings to lower case remove all non alphabetic characters and stop-words"
   ]
  },
  {
   "cell_type": "code",
   "execution_count": 158,
   "metadata": {},
   "outputs": [],
   "source": [
    "import nltk\n",
    "import string\n",
    "#nltk.download('stopwords')\n",
    "from nltk.corpus import stopwords\n",
    "stop = stopwords.words('english')\n",
    "ignored_words = [\n",
    "    'music', 'songs', 'playlist', 'good', 'jams', 'mix', 'lit', 'best',\n",
    "    'stuff', 'quot', 'like', 'one', 'amp', 'get', 'make', 'new', 'know',\n",
    "    'really', 'back', 'day', 'days', 'little', 'things', 'great', 'everything',\n",
    "    'jamz', 'tunes', 'artist', 'song', 'top', 'listen', 'favorite', 'bops',\n",
    "    'description', 'top', 'ever', 'mostly', 'enjoy', 'bunch', 'track',\n",
    "    'tracks', 'collection', 'need', 'every', 'favorites', 'may', 'got',\n",
    "    'right', 'let', 'better', 'made'\n",
    "]\n",
    "\n",
    "\n",
    "def word_cleanup(df_col):\n",
    "    df_col = df_col.apply(lambda x: x.lower())\n",
    "    df_col = df_col.str.replace('[^a-z]+', ' ')\n",
    "    df_col = df_col.apply(\n",
    "        lambda x: ' '.join([word for word in x.split() if word not in (stop)]))\n",
    "    df_col = df_col.apply(lambda x: ' '.join([word for word in x.split() if word not in (ignored_words)]))\n",
    "    df_col = df_col.str.replace(r'\\b\\w{1,2}\\b', '').str.replace(r'\\s+', ' ')\n",
    "    return df_col\n",
    "\n",
    "\n",
    "playlist_df.playlist_description = word_cleanup(\n",
    "    playlist_df.playlist_description)\n",
    "playlist_df.playlist_name = word_cleanup(playlist_df.playlist_name)\n",
    "\n",
    "#playlist_df.playlist_name = playlist_df.playlist_name.apply(lambda x: x.lower())\n",
    "#playlist_df.playlist_name = playlist_df.playlist_name.str.replace('[^a-z]+', ' ')\n",
    "#playlist_df.playlist_name = playlist_df.playlist_name.apply(lambda x: ' '.join([word for word in x.split() if word not in (stop)]))"
   ]
  },
  {
   "cell_type": "code",
   "execution_count": null,
   "metadata": {},
   "outputs": [],
   "source": [
    "#pip install wordcloud\n",
    "from wordcloud import WordCloud\n",
    "\n",
    "def generate_wordcloud(text): # optionally add: stopwords=STOPWORDS and change the arg below\n",
    "    wordcloud = WordCloud(font_path='/Library/Fonts/Verdana.ttf',\n",
    "                          relative_scaling = 0.1,\n",
    "                          ).generate(text)\n",
    "    plt.figure(figsize=(15,10))\n",
    "    plt.imshow(wordcloud)\n",
    "    plt.axis(\"off\")\n",
    "    plt.show()\n",
    "\n",
    "generate_wordcloud(' '.join(playlist_df.playlist_name))\n",
    "\n",
    "generate_wordcloud(' '.join(playlist_df.playlist_description))"
   ]
  },
  {
   "cell_type": "code",
   "execution_count": null,
   "metadata": {},
   "outputs": [],
   "source": []
  },
  {
   "cell_type": "code",
   "execution_count": 10,
   "metadata": {},
   "outputs": [],
   "source": [
    "from sklearn.feature_extraction.text import CountVectorizer, TfidfTransformer\n",
    "\n",
    "cv_description = CountVectorizer(token_pattern=r\"(?u)\\b\\w+\\b\", stop_words=None, ngram_range=(1,1), analyzer='word')\n",
    "dt_mat_description = cv_description.fit_transform(playlist_df.playlist_description)\n",
    "playlist_df['playlist_description_frequency'] = list(dt_mat_description.toarray())\n",
    "\n",
    "cv_name = CountVectorizer(token_pattern=r\"(?u)\\b\\w+\\b\", stop_words=None, ngram_range=(1,1), analyzer='word')\n",
    "dt_mat_name = cv_name.fit_transform(playlist_df.playlist_name)\n",
    "playlist_df['playlist_name_frequency'] = list(dt_mat_name.toarray())"
   ]
  },
  {
   "cell_type": "code",
   "execution_count": null,
   "metadata": {},
   "outputs": [],
   "source": [
    "#pip install yellowbrick\n",
    "from yellowbrick.text import FreqDistVisualizer\n",
    "\n",
    "plt.figure(figsize=(15,20))\n",
    "visualizer = FreqDistVisualizer(n=100, features = cv_name.get_feature_names())\n",
    "visualizer.fit(dt_mat_name)\n",
    "visualizer.poof()"
   ]
  },
  {
   "cell_type": "code",
   "execution_count": null,
   "metadata": {},
   "outputs": [],
   "source": [
    "from yellowbrick.text import FreqDistVisualizer\n",
    "\n",
    "plt.figure(figsize=(15,20))\n",
    "visualizer = FreqDistVisualizer(n=100, features = cv_description.get_feature_names())\n",
    "visualizer.fit(dt_mat_description)\n",
    "visualizer.poof()"
   ]
  },
  {
   "cell_type": "code",
   "execution_count": null,
   "metadata": {},
   "outputs": [],
   "source": [
    "tfidf_transformer = TfidfTransformer()\n",
    "\n",
    "tfidf_mat_description = tfidf_transformer.fit_transform(dt_mat_description)\n",
    "playlist_df['playlist_description_tfidf_score']=list(tfidf_mat_description.toarray())\n",
    "\n",
    "tfidf_mat_name = tfidf_transformer.fit_transform(dt_mat_name)\n",
    "playlist_df['playlist_name_tfidf_score']=list(tfidf_mat_name.toarray())\n",
    "playlist_df"
   ]
  },
  {
   "cell_type": "code",
   "execution_count": null,
   "metadata": {},
   "outputs": [],
   "source": [
    "bigrams_name_frequency = pd.DataFrame(dt_mat_name.todense(), index=playlist_df.index, columns=cv_name.get_feature_names())\n",
    "bigrams_name_frequency['playlist_pid'] = playlist_df.playlist_pid\n",
    "print(bigrams_name_frequency)\n",
    "\n",
    "bigrams_desc_frequency = pd.DataFrame(tfidf_mat_description.todense(), index=playlist_df.index, columns=cv_description.get_feature_names())\n",
    "bigrams_desc_frequency['playlist_pid'] = playlist_df.playlist_pid\n",
    "print(bigrams_desc_frequency)\n",
    "\n",
    "bigrams_name_tfidf_score = pd.DataFrame(dt_mat_name.todense(), index=playlist_df.index, columns=cv_name.get_feature_names())\n",
    "bigrams_name_tfidf_score['playlist_pid'] = playlist_df.playlist_pid\n",
    "print(bigrams_name_tfidf_score)\n",
    "\n",
    "bigrams_desc_tfidf_score = pd.DataFrame(tfidf_mat_description.todense(), index=playlist_df.index, columns=cv_description.get_feature_names())\n",
    "bigrams_desc_tfidf_score['playlist_pid'] = playlist_df.playlist_pid\n",
    "print(bigrams_desc_tfidf_score)"
   ]
  },
  {
   "cell_type": "code",
   "execution_count": 7,
   "metadata": {},
   "outputs": [],
   "source": [
    "merged = pd.merge(\n",
    "    pd.merge(\n",
    "        tracks_df, playlist_map_df, left_index=True, right_on='track_uri'),\n",
    "    playlist_df,\n",
    "    on='playlist_pid')"
   ]
  },
  {
   "cell_type": "code",
   "execution_count": 8,
   "metadata": {},
   "outputs": [
    {
     "data": {
      "text/html": [
       "<div>\n",
       "<style scoped>\n",
       "    .dataframe tbody tr th:only-of-type {\n",
       "        vertical-align: middle;\n",
       "    }\n",
       "\n",
       "    .dataframe tbody tr th {\n",
       "        vertical-align: top;\n",
       "    }\n",
       "\n",
       "    .dataframe thead th {\n",
       "        text-align: right;\n",
       "    }\n",
       "</style>\n",
       "<table border=\"1\" class=\"dataframe\">\n",
       "  <thead>\n",
       "    <tr style=\"text-align: right;\">\n",
       "      <th></th>\n",
       "      <th>track_artist_name</th>\n",
       "      <th>track_artist_uri</th>\n",
       "      <th>track_name</th>\n",
       "      <th>track_album_uri</th>\n",
       "      <th>track_duration_ms</th>\n",
       "      <th>track_album_name</th>\n",
       "      <th>track_pos</th>\n",
       "      <th>playlist_pid</th>\n",
       "      <th>track_uri</th>\n",
       "      <th>playlist_collaborative</th>\n",
       "      <th>playlist_description</th>\n",
       "      <th>playlist_duration_ms</th>\n",
       "      <th>playlist_modified_at</th>\n",
       "      <th>playlist_name</th>\n",
       "      <th>playlist_num_albums</th>\n",
       "      <th>playlist_num_artists</th>\n",
       "      <th>playlist_num_edits</th>\n",
       "      <th>playlist_num_followers</th>\n",
       "      <th>playlist_num_tracks</th>\n",
       "    </tr>\n",
       "  </thead>\n",
       "  <tbody>\n",
       "    <tr>\n",
       "      <th>0</th>\n",
       "      <td>The Coronas</td>\n",
       "      <td>spotify:artist:2tppd6KkhK4ULAd217Ecq1</td>\n",
       "      <td>If I Gave Myself To Someone Else</td>\n",
       "      <td>spotify:album:662PiU3dRsilN0Gp87IiSF</td>\n",
       "      <td>214506</td>\n",
       "      <td>The Long Way</td>\n",
       "      <td>12</td>\n",
       "      <td>371</td>\n",
       "      <td>spotify:track:000mA0etY38nKdvf1N04af</td>\n",
       "      <td>false</td>\n",
       "      <td></td>\n",
       "      <td>3675883</td>\n",
       "      <td>1496793600</td>\n",
       "      <td>quiet</td>\n",
       "      <td>15</td>\n",
       "      <td>14</td>\n",
       "      <td>4</td>\n",
       "      <td>1</td>\n",
       "      <td>15</td>\n",
       "    </tr>\n",
       "    <tr>\n",
       "      <th>1</th>\n",
       "      <td>Lewis Watson</td>\n",
       "      <td>spotify:artist:40ELTAg7Kg6vbWnlyx2n9R</td>\n",
       "      <td>stones around the sun</td>\n",
       "      <td>spotify:album:4cKBAg2zgjrVF2XefrW4WC</td>\n",
       "      <td>224440</td>\n",
       "      <td>the morning</td>\n",
       "      <td>5</td>\n",
       "      <td>371</td>\n",
       "      <td>spotify:track:0JGbwcwPV0VfuR4zDcZ9ce</td>\n",
       "      <td>false</td>\n",
       "      <td></td>\n",
       "      <td>3675883</td>\n",
       "      <td>1496793600</td>\n",
       "      <td>quiet</td>\n",
       "      <td>15</td>\n",
       "      <td>14</td>\n",
       "      <td>4</td>\n",
       "      <td>1</td>\n",
       "      <td>15</td>\n",
       "    </tr>\n",
       "    <tr>\n",
       "      <th>2</th>\n",
       "      <td>Jaymes Young</td>\n",
       "      <td>spotify:artist:6QrQ7OrISRYIfS5mtacaw2</td>\n",
       "      <td>We Won't</td>\n",
       "      <td>spotify:album:6MuWCR3WPjwyKhqsTKLZ3z</td>\n",
       "      <td>240586</td>\n",
       "      <td>Feel Something</td>\n",
       "      <td>179</td>\n",
       "      <td>371</td>\n",
       "      <td>spotify:track:0Zge2Kfo3Yd9JOGnAmVPbb</td>\n",
       "      <td>false</td>\n",
       "      <td></td>\n",
       "      <td>3675883</td>\n",
       "      <td>1496793600</td>\n",
       "      <td>quiet</td>\n",
       "      <td>15</td>\n",
       "      <td>14</td>\n",
       "      <td>4</td>\n",
       "      <td>1</td>\n",
       "      <td>15</td>\n",
       "    </tr>\n",
       "    <tr>\n",
       "      <th>3</th>\n",
       "      <td>John Lucas</td>\n",
       "      <td>spotify:artist:7iEy8zKFtlYIINaxxLIyBk</td>\n",
       "      <td>This Will Be Our Home</td>\n",
       "      <td>spotify:album:2N7sEVVS3jKMJJuJi4v0UF</td>\n",
       "      <td>277160</td>\n",
       "      <td>Promised Land</td>\n",
       "      <td>14</td>\n",
       "      <td>371</td>\n",
       "      <td>spotify:track:1Sw7fhf7YJCD6GcWW0wETD</td>\n",
       "      <td>false</td>\n",
       "      <td></td>\n",
       "      <td>3675883</td>\n",
       "      <td>1496793600</td>\n",
       "      <td>quiet</td>\n",
       "      <td>15</td>\n",
       "      <td>14</td>\n",
       "      <td>4</td>\n",
       "      <td>1</td>\n",
       "      <td>15</td>\n",
       "    </tr>\n",
       "    <tr>\n",
       "      <th>4</th>\n",
       "      <td>Hozier</td>\n",
       "      <td>spotify:artist:2FXC3k01G6Gw61bmprjgqS</td>\n",
       "      <td>Cherry Wine - Live</td>\n",
       "      <td>spotify:album:36k5aXpxffjVGcNce12GLZ</td>\n",
       "      <td>240147</td>\n",
       "      <td>Hozier</td>\n",
       "      <td>84</td>\n",
       "      <td>371</td>\n",
       "      <td>spotify:track:1ivHxaGL5ld9VS1zsYc4YN</td>\n",
       "      <td>false</td>\n",
       "      <td></td>\n",
       "      <td>3675883</td>\n",
       "      <td>1496793600</td>\n",
       "      <td>quiet</td>\n",
       "      <td>15</td>\n",
       "      <td>14</td>\n",
       "      <td>4</td>\n",
       "      <td>1</td>\n",
       "      <td>15</td>\n",
       "    </tr>\n",
       "  </tbody>\n",
       "</table>\n",
       "</div>"
      ],
      "text/plain": [
       "  track_artist_name                       track_artist_uri  \\\n",
       "0       The Coronas  spotify:artist:2tppd6KkhK4ULAd217Ecq1   \n",
       "1      Lewis Watson  spotify:artist:40ELTAg7Kg6vbWnlyx2n9R   \n",
       "2      Jaymes Young  spotify:artist:6QrQ7OrISRYIfS5mtacaw2   \n",
       "3        John Lucas  spotify:artist:7iEy8zKFtlYIINaxxLIyBk   \n",
       "4            Hozier  spotify:artist:2FXC3k01G6Gw61bmprjgqS   \n",
       "\n",
       "                         track_name                       track_album_uri  \\\n",
       "0  If I Gave Myself To Someone Else  spotify:album:662PiU3dRsilN0Gp87IiSF   \n",
       "1             stones around the sun  spotify:album:4cKBAg2zgjrVF2XefrW4WC   \n",
       "2                          We Won't  spotify:album:6MuWCR3WPjwyKhqsTKLZ3z   \n",
       "3             This Will Be Our Home  spotify:album:2N7sEVVS3jKMJJuJi4v0UF   \n",
       "4                Cherry Wine - Live  spotify:album:36k5aXpxffjVGcNce12GLZ   \n",
       "\n",
       "   track_duration_ms track_album_name  track_pos  playlist_pid  \\\n",
       "0             214506     The Long Way         12           371   \n",
       "1             224440      the morning          5           371   \n",
       "2             240586   Feel Something        179           371   \n",
       "3             277160    Promised Land         14           371   \n",
       "4             240147           Hozier         84           371   \n",
       "\n",
       "                              track_uri playlist_collaborative  \\\n",
       "0  spotify:track:000mA0etY38nKdvf1N04af                  false   \n",
       "1  spotify:track:0JGbwcwPV0VfuR4zDcZ9ce                  false   \n",
       "2  spotify:track:0Zge2Kfo3Yd9JOGnAmVPbb                  false   \n",
       "3  spotify:track:1Sw7fhf7YJCD6GcWW0wETD                  false   \n",
       "4  spotify:track:1ivHxaGL5ld9VS1zsYc4YN                  false   \n",
       "\n",
       "  playlist_description  playlist_duration_ms  playlist_modified_at  \\\n",
       "0                                    3675883            1496793600   \n",
       "1                                    3675883            1496793600   \n",
       "2                                    3675883            1496793600   \n",
       "3                                    3675883            1496793600   \n",
       "4                                    3675883            1496793600   \n",
       "\n",
       "  playlist_name  playlist_num_albums  playlist_num_artists  \\\n",
       "0         quiet                   15                    14   \n",
       "1         quiet                   15                    14   \n",
       "2         quiet                   15                    14   \n",
       "3         quiet                   15                    14   \n",
       "4         quiet                   15                    14   \n",
       "\n",
       "   playlist_num_edits  playlist_num_followers  playlist_num_tracks  \n",
       "0                   4                       1                   15  \n",
       "1                   4                       1                   15  \n",
       "2                   4                       1                   15  \n",
       "3                   4                       1                   15  \n",
       "4                   4                       1                   15  "
      ]
     },
     "execution_count": 8,
     "metadata": {},
     "output_type": "execute_result"
    }
   ],
   "source": [
    "merged.head()"
   ]
  },
  {
   "cell_type": "code",
   "execution_count": 9,
   "metadata": {},
   "outputs": [
    {
     "data": {
      "application/vnd.jupyter.widget-view+json": {
       "model_id": "ec161bf3abbc44f9b0b65edc36e4e2d9",
       "version_major": 2,
       "version_minor": 0
      },
      "text/html": [
       "<p>Failed to display Jupyter Widget of type <code>HBox</code>.</p>\n",
       "<p>\n",
       "  If you're reading this message in the Jupyter Notebook or JupyterLab Notebook, it may mean\n",
       "  that the widgets JavaScript is still loading. If this message persists, it\n",
       "  likely means that the widgets JavaScript library is either not installed or\n",
       "  not enabled. See the <a href=\"https://ipywidgets.readthedocs.io/en/stable/user_install.html\">Jupyter\n",
       "  Widgets Documentation</a> for setup instructions.\n",
       "</p>\n",
       "<p>\n",
       "  If you're reading this message in another frontend (for example, a static\n",
       "  rendering on GitHub or <a href=\"https://nbviewer.jupyter.org/\">NBViewer</a>),\n",
       "  it may mean that your frontend doesn't currently support widgets.\n",
       "</p>\n"
      ],
      "text/plain": [
       "HBox(children=(IntProgress(value=0, max=2000), HTML(value='')))"
      ]
     },
     "metadata": {},
     "output_type": "display_data"
    },
    {
     "name": "stdout",
     "output_type": "stream",
     "text": [
      "\n"
     ]
    }
   ],
   "source": [
    "# Create Negative Samples\n",
    "negative_samples = pd.DataFrame([])\n",
    "for pid, df in tqdm(merged.groupby([\"playlist_pid\"])):\n",
    "    negative_tracks = tracks_df.drop(df.track_uri).sample(df.shape[0])\n",
    "    negative_playlist_tracks = pd.concat(\n",
    "        [\n",
    "            df.drop(list(tracks_df.columns) + ['track_uri'], axis=1).reset_index(\n",
    "                drop=True), negative_tracks.reset_index()\n",
    "        ],\n",
    "        axis=1)\n",
    "    negative_playlist_tracks.rename(columns={'index': 'track_uri'}, inplace=True)\n",
    "    negative_samples = negative_samples.append(negative_playlist_tracks)\n"
   ]
  },
  {
   "cell_type": "code",
   "execution_count": 10,
   "metadata": {},
   "outputs": [],
   "source": [
    "# Provide labels\n",
    "negative_samples['match'] = 0\n",
    "merged['match'] = 1"
   ]
  },
  {
   "cell_type": "code",
   "execution_count": 11,
   "metadata": {},
   "outputs": [],
   "source": [
    "dataset = merged.append(negative_samples[merged.columns]).sort_values(by=['playlist_pid']).reset_index(drop=True)"
   ]
  },
  {
   "cell_type": "code",
   "execution_count": 12,
   "metadata": {},
   "outputs": [
    {
     "data": {
      "text/html": [
       "<div>\n",
       "<style scoped>\n",
       "    .dataframe tbody tr th:only-of-type {\n",
       "        vertical-align: middle;\n",
       "    }\n",
       "\n",
       "    .dataframe tbody tr th {\n",
       "        vertical-align: top;\n",
       "    }\n",
       "\n",
       "    .dataframe thead th {\n",
       "        text-align: right;\n",
       "    }\n",
       "</style>\n",
       "<table border=\"1\" class=\"dataframe\">\n",
       "  <thead>\n",
       "    <tr style=\"text-align: right;\">\n",
       "      <th></th>\n",
       "      <th>track_artist_name</th>\n",
       "      <th>track_artist_uri</th>\n",
       "      <th>track_name</th>\n",
       "      <th>track_album_uri</th>\n",
       "      <th>track_duration_ms</th>\n",
       "      <th>track_album_name</th>\n",
       "      <th>track_pos</th>\n",
       "      <th>playlist_pid</th>\n",
       "      <th>track_uri</th>\n",
       "      <th>playlist_collaborative</th>\n",
       "      <th>playlist_description</th>\n",
       "      <th>playlist_duration_ms</th>\n",
       "      <th>playlist_modified_at</th>\n",
       "      <th>playlist_name</th>\n",
       "      <th>playlist_num_albums</th>\n",
       "      <th>playlist_num_artists</th>\n",
       "      <th>playlist_num_edits</th>\n",
       "      <th>playlist_num_followers</th>\n",
       "      <th>playlist_num_tracks</th>\n",
       "      <th>match</th>\n",
       "    </tr>\n",
       "  </thead>\n",
       "  <tbody>\n",
       "    <tr>\n",
       "      <th>0</th>\n",
       "      <td>Taylor Swift</td>\n",
       "      <td>spotify:artist:06HL4z0CvFAxyc27GXpf02</td>\n",
       "      <td>Bad Blood</td>\n",
       "      <td>spotify:album:6QdtulV7ptHjdNVnhB63g3</td>\n",
       "      <td>211000</td>\n",
       "      <td>1989</td>\n",
       "      <td>9</td>\n",
       "      <td>0</td>\n",
       "      <td>spotify:track:6aU9WABbPXrV0moONji2g7</td>\n",
       "      <td>false</td>\n",
       "      <td></td>\n",
       "      <td>11532414</td>\n",
       "      <td>1493424000</td>\n",
       "      <td>Throwbacks</td>\n",
       "      <td>47</td>\n",
       "      <td>37</td>\n",
       "      <td>6</td>\n",
       "      <td>1</td>\n",
       "      <td>52</td>\n",
       "      <td>0</td>\n",
       "    </tr>\n",
       "    <tr>\n",
       "      <th>1</th>\n",
       "      <td>Kesha</td>\n",
       "      <td>spotify:artist:6LqNN22kT3074XbTVUrhzX</td>\n",
       "      <td>Your Love Is My Drug</td>\n",
       "      <td>spotify:album:5peRwC6pQh8eaoIPtvmmOB</td>\n",
       "      <td>187133</td>\n",
       "      <td>Animal</td>\n",
       "      <td>34</td>\n",
       "      <td>0</td>\n",
       "      <td>spotify:track:3uoQULcUWfnt6nc6J7Vgai</td>\n",
       "      <td>false</td>\n",
       "      <td></td>\n",
       "      <td>11532414</td>\n",
       "      <td>1493424000</td>\n",
       "      <td>Throwbacks</td>\n",
       "      <td>47</td>\n",
       "      <td>37</td>\n",
       "      <td>6</td>\n",
       "      <td>1</td>\n",
       "      <td>52</td>\n",
       "      <td>1</td>\n",
       "    </tr>\n",
       "    <tr>\n",
       "      <th>2</th>\n",
       "      <td>Miley Cyrus</td>\n",
       "      <td>spotify:artist:5YGY8feqx7naU7z4HrwZM6</td>\n",
       "      <td>See You Again</td>\n",
       "      <td>spotify:album:6SkirMQoL4QhnXOM5MH5El</td>\n",
       "      <td>190453</td>\n",
       "      <td>See You Again</td>\n",
       "      <td>46</td>\n",
       "      <td>0</td>\n",
       "      <td>spotify:track:3utIAb67sOu0QHxBE88P1M</td>\n",
       "      <td>false</td>\n",
       "      <td></td>\n",
       "      <td>11532414</td>\n",
       "      <td>1493424000</td>\n",
       "      <td>Throwbacks</td>\n",
       "      <td>47</td>\n",
       "      <td>37</td>\n",
       "      <td>6</td>\n",
       "      <td>1</td>\n",
       "      <td>52</td>\n",
       "      <td>1</td>\n",
       "    </tr>\n",
       "    <tr>\n",
       "      <th>3</th>\n",
       "      <td>Iyaz</td>\n",
       "      <td>spotify:artist:5tKXB9uuebKE34yowVaU3C</td>\n",
       "      <td>Replay</td>\n",
       "      <td>spotify:album:44hyrGuZKAvITbmrlhryf8</td>\n",
       "      <td>182306</td>\n",
       "      <td>Replay</td>\n",
       "      <td>32</td>\n",
       "      <td>0</td>\n",
       "      <td>spotify:track:4E5P1XyAFtrjpiIxkydly4</td>\n",
       "      <td>false</td>\n",
       "      <td></td>\n",
       "      <td>11532414</td>\n",
       "      <td>1493424000</td>\n",
       "      <td>Throwbacks</td>\n",
       "      <td>47</td>\n",
       "      <td>37</td>\n",
       "      <td>6</td>\n",
       "      <td>1</td>\n",
       "      <td>52</td>\n",
       "      <td>1</td>\n",
       "    </tr>\n",
       "    <tr>\n",
       "      <th>4</th>\n",
       "      <td>Justin Bieber</td>\n",
       "      <td>spotify:artist:1uNFoZAHBGtllmzznpCI3s</td>\n",
       "      <td>Somebody To Love</td>\n",
       "      <td>spotify:album:6gdLfnf2vdNlMTyhJHaDLs</td>\n",
       "      <td>220920</td>\n",
       "      <td>My Worlds</td>\n",
       "      <td>41</td>\n",
       "      <td>0</td>\n",
       "      <td>spotify:track:4I2GqMe7L2ccMpUbnDzYLH</td>\n",
       "      <td>false</td>\n",
       "      <td></td>\n",
       "      <td>11532414</td>\n",
       "      <td>1493424000</td>\n",
       "      <td>Throwbacks</td>\n",
       "      <td>47</td>\n",
       "      <td>37</td>\n",
       "      <td>6</td>\n",
       "      <td>1</td>\n",
       "      <td>52</td>\n",
       "      <td>1</td>\n",
       "    </tr>\n",
       "  </tbody>\n",
       "</table>\n",
       "</div>"
      ],
      "text/plain": [
       "  track_artist_name                       track_artist_uri  \\\n",
       "0      Taylor Swift  spotify:artist:06HL4z0CvFAxyc27GXpf02   \n",
       "1             Kesha  spotify:artist:6LqNN22kT3074XbTVUrhzX   \n",
       "2       Miley Cyrus  spotify:artist:5YGY8feqx7naU7z4HrwZM6   \n",
       "3              Iyaz  spotify:artist:5tKXB9uuebKE34yowVaU3C   \n",
       "4     Justin Bieber  spotify:artist:1uNFoZAHBGtllmzznpCI3s   \n",
       "\n",
       "             track_name                       track_album_uri  \\\n",
       "0             Bad Blood  spotify:album:6QdtulV7ptHjdNVnhB63g3   \n",
       "1  Your Love Is My Drug  spotify:album:5peRwC6pQh8eaoIPtvmmOB   \n",
       "2         See You Again  spotify:album:6SkirMQoL4QhnXOM5MH5El   \n",
       "3                Replay  spotify:album:44hyrGuZKAvITbmrlhryf8   \n",
       "4      Somebody To Love  spotify:album:6gdLfnf2vdNlMTyhJHaDLs   \n",
       "\n",
       "   track_duration_ms track_album_name  track_pos  playlist_pid  \\\n",
       "0             211000             1989          9             0   \n",
       "1             187133           Animal         34             0   \n",
       "2             190453    See You Again         46             0   \n",
       "3             182306           Replay         32             0   \n",
       "4             220920        My Worlds         41             0   \n",
       "\n",
       "                              track_uri playlist_collaborative  \\\n",
       "0  spotify:track:6aU9WABbPXrV0moONji2g7                  false   \n",
       "1  spotify:track:3uoQULcUWfnt6nc6J7Vgai                  false   \n",
       "2  spotify:track:3utIAb67sOu0QHxBE88P1M                  false   \n",
       "3  spotify:track:4E5P1XyAFtrjpiIxkydly4                  false   \n",
       "4  spotify:track:4I2GqMe7L2ccMpUbnDzYLH                  false   \n",
       "\n",
       "  playlist_description  playlist_duration_ms  playlist_modified_at  \\\n",
       "0                                   11532414            1493424000   \n",
       "1                                   11532414            1493424000   \n",
       "2                                   11532414            1493424000   \n",
       "3                                   11532414            1493424000   \n",
       "4                                   11532414            1493424000   \n",
       "\n",
       "  playlist_name  playlist_num_albums  playlist_num_artists  \\\n",
       "0    Throwbacks                   47                    37   \n",
       "1    Throwbacks                   47                    37   \n",
       "2    Throwbacks                   47                    37   \n",
       "3    Throwbacks                   47                    37   \n",
       "4    Throwbacks                   47                    37   \n",
       "\n",
       "   playlist_num_edits  playlist_num_followers  playlist_num_tracks  match  \n",
       "0                   6                       1                   52      0  \n",
       "1                   6                       1                   52      1  \n",
       "2                   6                       1                   52      1  \n",
       "3                   6                       1                   52      1  \n",
       "4                   6                       1                   52      1  "
      ]
     },
     "execution_count": 12,
     "metadata": {},
     "output_type": "execute_result"
    }
   ],
   "source": [
    "dataset.head()"
   ]
  },
  {
   "cell_type": "code",
   "execution_count": 13,
   "metadata": {},
   "outputs": [],
   "source": [
    "data_y = dataset.match"
   ]
  },
  {
   "cell_type": "code",
   "execution_count": 39,
   "metadata": {},
   "outputs": [],
   "source": [
    "# Include the features in the list below\n",
    "features = [\n",
    "    'playlist_duration_ms', 'playlist_num_albums', 'playlist_num_artists',\n",
    "    'playlist_num_edits', 'playlist_num_followers', 'playlist_num_tracks',\n",
    "    'playlist_pid', 'track_duration_ms'\n",
    "]\n",
    "# data_x = dataset[features]\n",
    "data_x = dataset.loc[:, dataset.columns != 'match']\n",
    "data_y = dataset.match\n",
    "data_train, data_test, y_train, y_test = train_test_split(\n",
    "    data_x,\n",
    "    data_y,\n",
    "    test_size=0.1,\n",
    "    stratify=dataset.playlist_pid,\n",
    "    random_state=42,\n",
    "    shuffle=True)"
   ]
  },
  {
   "cell_type": "code",
   "execution_count": 40,
   "metadata": {},
   "outputs": [],
   "source": [
    "class ItemSelector(BaseEstimator, TransformerMixin):\n",
    "    \"\"\"For data grouped by feature, select subset of data at a provided key.\n",
    "\n",
    "    The data is expected to be stored in a 2D data structure, where the first\n",
    "    index is over features and the second is over samples.  i.e.\n",
    "\n",
    "    >> len(data[key]) == n_samples\n",
    "\n",
    "    Please note that this is the opposite convention to scikit-learn feature\n",
    "    matrixes (where the first index corresponds to sample).\n",
    "\n",
    "    ItemSelector only requires that the collection implement getitem\n",
    "    (data[key]).  Examples include: a dict of lists, 2D numpy array, Pandas\n",
    "    DataFrame, numpy record array, etc.\n",
    "\n",
    "    >> data = {'a': [1, 5, 2, 5, 2, 8],\n",
    "               'b': [9, 4, 1, 4, 1, 3]}\n",
    "    >> ds = ItemSelector(key='a')\n",
    "    >> data['a'] == ds.transform(data)\n",
    "\n",
    "    ItemSelector is not designed to handle data grouped by sample.  (e.g. a\n",
    "    list of dicts).  If your data is structured this way, consider a\n",
    "    transformer along the lines of `sklearn.feature_extraction.DictVectorizer`.\n",
    "\n",
    "    Parameters\n",
    "    ----------\n",
    "    key : hashable, required\n",
    "        The key corresponding to the desired value in a mappable.\n",
    "    \"\"\"\n",
    "    def __init__(self, key):\n",
    "        self.key = key\n",
    "\n",
    "    def fit(self, x, y=None):\n",
    "        return self\n",
    "\n",
    "    def transform(self, data_dict):\n",
    "        if self.key == 'playlist_pid': from IPython.core.debugger import set_trace; set_trace()\n",
    "        return data_dict[:,[self.key]].astype(np.int64)\n",
    "\n",
    "    def get_feature_names(self):\n",
    "        return [merged.columns[self.key]]"
   ]
  },
  {
   "cell_type": "code",
   "execution_count": 41,
   "metadata": {},
   "outputs": [
    {
     "name": "stderr",
     "output_type": "stream",
     "text": [
      "/Users/ralphtigoumo/anaconda2/envs/egpu/lib/python3.6/site-packages/pandas/core/generic.py:3643: SettingWithCopyWarning: \n",
      "A value is trying to be set on a copy of a slice from a DataFrame.\n",
      "Try using .loc[row_indexer,col_indexer] = value instead\n",
      "\n",
      "See the caveats in the documentation: http://pandas.pydata.org/pandas-docs/stable/indexing.html#indexing-view-versus-copy\n",
      "  self[name] = value\n"
     ]
    }
   ],
   "source": [
    "# data_train.loc['playlist_pid'].\n",
    "data_train.playlist_pid = data_train.playlist_pid.astype(str)\n",
    "\n"
   ]
  },
  {
   "cell_type": "code",
   "execution_count": 43,
   "metadata": {},
   "outputs": [],
   "source": [
    "# %%time\n",
    "\n",
    "# we need a custom pre-processor to extract correct field,\n",
    "# but want to also use default scikit-learn preprocessing (e.g. lowercasing)\n",
    "default_preprocessor = CountVectorizer().build_preprocessor()\n",
    "\n",
    "\n",
    "def build_preprocessor(field):\n",
    "    field_idx = list(merged.columns).index(field)\n",
    "    # if field == 'playlist_pid': from IPython.core.debugger import set_trace; set_trace()\n",
    "    return lambda x: default_preprocessor(x[field_idx])\n",
    "\n",
    "\n",
    "vectorizer = FeatureUnion([\n",
    "    (\n",
    "        'track_artist_uri',\n",
    "        CountVectorizer(\n",
    "            ngram_range=(1, 1),\n",
    "            token_pattern=r\".+\",\n",
    "            stop_words=None,\n",
    "            # max_features=50000,\n",
    "            preprocessor=build_preprocessor('track_artist_uri'))),\n",
    "    (\n",
    "        'track_album_uri',\n",
    "        CountVectorizer(\n",
    "            ngram_range=(1, 1),\n",
    "            token_pattern=r\".+\",\n",
    "            stop_words=None,\n",
    "            # max_features=50000,\n",
    "            preprocessor=build_preprocessor('track_album_uri'))),\n",
    "    (\n",
    "        'track_uri',\n",
    "        CountVectorizer(\n",
    "            ngram_range=(1, 1),\n",
    "            token_pattern=r\".+\",\n",
    "            stop_words=None,\n",
    "            # max_features=50000,\n",
    "            preprocessor=build_preprocessor('track_uri'))),\n",
    "\n",
    "    (\n",
    "        'playlist_pid',\n",
    "        CountVectorizer(\n",
    "            ngram_range=(1, 1),\n",
    "            token_pattern=r\".+\",\n",
    "            stop_words=None,\n",
    "            # max_features=50000,\n",
    "            preprocessor=build_preprocessor('playlist_pid'))),\n",
    "    \n",
    "    ('track_duration_ms',\n",
    "     ItemSelector(list(merged.columns).index('track_duration_ms'))),\n",
    "\n",
    "\n",
    "#     ('playlist_pid',\n",
    "#      ItemSelector(list(merged.columns).index('playlist_pid'))),\n",
    "\n",
    "    #     ('subcat_2', CountVectorizer(\n",
    "    #         token_pattern='.+',\n",
    "    #         preprocessor=build_preprocessor('subcat_2'))),\n",
    "    #     ('brand_name', CountVectorizer(\n",
    "    #         token_pattern='.+',\n",
    "    #         preprocessor=build_preprocessor('brand_name'))),\n",
    "    #     ('shipping', CountVectorizer(\n",
    "    #         token_pattern='\\d+',\n",
    "    #         preprocessor=build_preprocessor('shipping'))),\n",
    "    #     ('item_condition_id', CountVectorizer(\n",
    "    #         token_pattern='\\d+',\n",
    "    #         preprocessor=build_preprocessor('item_condition_id'))),\n",
    "    #     ('item_description', TfidfVectorizer(\n",
    "    #         ngram_range=(1, 3),\n",
    "    #         max_features=100000,\n",
    "    #         preprocessor=build_preprocessor('item_description'))),\n",
    "    #     ('qnt', QuantityExtractor()),\n",
    "])\n",
    "X_train = vectorizer.fit_transform(data_train.values)\n",
    "# X_train"
   ]
  },
  {
   "cell_type": "code",
   "execution_count": null,
   "metadata": {},
   "outputs": [],
   "source": [
    "vectorizer.get_feature_names()[-5:-1]"
   ]
  },
  {
   "cell_type": "code",
   "execution_count": 55,
   "metadata": {},
   "outputs": [
    {
     "data": {
      "text/plain": [
       "array([0, 1])"
      ]
     },
     "execution_count": 55,
     "metadata": {},
     "output_type": "execute_result"
    }
   ],
   "source": [
    "np.unique(X_train[:,-1999:-1].toarray())"
   ]
  },
  {
   "cell_type": "code",
   "execution_count": 147,
   "metadata": {},
   "outputs": [
    {
     "data": {
      "text/plain": [
       "['track_uri__spotify:track:7zwgkky304rsu1ryph0zvi',\n",
       " 'track_uri__spotify:track:7zwj09xkfga9tcv6yhfu6q',\n",
       " 'track_uri__spotify:track:7zxfy6kn7ton3jxnrx1jw1',\n",
       " 'track_uri__spotify:track:7zxpbsws6pc9r2if9cxt9h',\n",
       " 'track_uri__spotify:track:7zxqmgoznrhnfgfaooxhx6',\n",
       " 'track_uri__spotify:track:7zxrmhxxjmqceddg0rkavo',\n",
       " 'track_uri__spotify:track:7zy9qrbcouanjyw9uvcruy',\n",
       " 'track_uri__spotify:track:7zybvl62hiuciqmvnszaol',\n",
       " 'track_uri__spotify:track:7zyd8nz3hcgygrb7gql1jq',\n",
       " 'track_uri__spotify:track:7zz1drchhd4hqbigsnlrbz',\n",
       " 'track_uri__spotify:track:7zzawj8ad50wh1ejgc2j45',\n",
       " 'track_uri__spotify:track:7zzbezbtjejwel6eqwmcd9',\n",
       " 'track_uri__spotify:track:7zzkpiqhnl7icggb4almf6',\n",
       " 'track_duration_ms__track_duration_ms',\n",
       " 'playlist_pid__playlist_pid']"
      ]
     },
     "execution_count": 147,
     "metadata": {},
     "output_type": "execute_result"
    }
   ],
   "source": [
    "vectorizer.get_feature_names()[-15:]"
   ]
  },
  {
   "cell_type": "code",
   "execution_count": 152,
   "metadata": {},
   "outputs": [
    {
     "data": {
      "text/plain": [
       "array([   0,    1,    2, ..., 1997, 1998, 1999], dtype=int64)"
      ]
     },
     "execution_count": 152,
     "metadata": {},
     "output_type": "execute_result"
    }
   ],
   "source": [
    "np.unique(X_train.toarray()[:,-1])"
   ]
  },
  {
   "cell_type": "code",
   "execution_count": 124,
   "metadata": {},
   "outputs": [],
   "source": [
    "X_test = vectorizer.transform(data_test.values)"
   ]
  },
  {
   "cell_type": "code",
   "execution_count": null,
   "metadata": {},
   "outputs": [],
   "source": [
    "debug"
   ]
  },
  {
   "cell_type": "code",
   "execution_count": 85,
   "metadata": {},
   "outputs": [
    {
     "data": {
      "text/plain": [
       "(241425, 102862)"
      ]
     },
     "execution_count": 85,
     "metadata": {},
     "output_type": "execute_result"
    }
   ],
   "source": [
    "X_train.shape"
   ]
  },
  {
   "cell_type": "code",
   "execution_count": 88,
   "metadata": {},
   "outputs": [
    {
     "data": {
      "text/plain": [
       "(26825, 102860)"
      ]
     },
     "execution_count": 88,
     "metadata": {},
     "output_type": "execute_result"
    }
   ],
   "source": [
    "vectorizer.transform(data_test.values).shape"
   ]
  },
  {
   "cell_type": "code",
   "execution_count": 86,
   "metadata": {},
   "outputs": [
    {
     "data": {
      "text/plain": [
       "['track_uri__spotify:track:7zxpbsws6pc9r2if9cxt9h',\n",
       " 'track_uri__spotify:track:7zxqmgoznrhnfgfaooxhx6',\n",
       " 'track_uri__spotify:track:7zxrmhxxjmqceddg0rkavo',\n",
       " 'track_uri__spotify:track:7zy9qrbcouanjyw9uvcruy',\n",
       " 'track_uri__spotify:track:7zybvl62hiuciqmvnszaol',\n",
       " 'track_uri__spotify:track:7zyd8nz3hcgygrb7gql1jq',\n",
       " 'track_uri__spotify:track:7zz1drchhd4hqbigsnlrbz',\n",
       " 'track_uri__spotify:track:7zzawj8ad50wh1ejgc2j45',\n",
       " 'track_uri__spotify:track:7zzbezbtjejwel6eqwmcd9',\n",
       " 'track_uri__spotify:track:7zzkpiqhnl7icggb4almf6']"
      ]
     },
     "execution_count": 86,
     "metadata": {},
     "output_type": "execute_result"
    }
   ],
   "source": [
    "vectorizer.get_feature_names()[-10:]"
   ]
  },
  {
   "cell_type": "code",
   "execution_count": 78,
   "metadata": {},
   "outputs": [
    {
     "data": {
      "text/plain": [
       "(241425, 18)"
      ]
     },
     "execution_count": 78,
     "metadata": {},
     "output_type": "execute_result"
    }
   ],
   "source": [
    "data_train.shape"
   ]
  },
  {
   "cell_type": "code",
   "execution_count": 120,
   "metadata": {},
   "outputs": [
    {
     "ename": "AttributeError",
     "evalue": "Transformer track_duration_ms (type ItemSelector) does not provide get_feature_names.",
     "output_type": "error",
     "traceback": [
      "\u001b[0;31m---------------------------------------------------------------------------\u001b[0m",
      "\u001b[0;31mAttributeError\u001b[0m                            Traceback (most recent call last)",
      "\u001b[0;32m<ipython-input-120-2eac16a77280>\u001b[0m in \u001b[0;36m<module>\u001b[0;34m()\u001b[0m\n\u001b[0;32m----> 1\u001b[0;31m \u001b[0mlen\u001b[0m\u001b[0;34m(\u001b[0m\u001b[0mvectorizer\u001b[0m\u001b[0;34m.\u001b[0m\u001b[0mget_feature_names\u001b[0m\u001b[0;34m(\u001b[0m\u001b[0;34m)\u001b[0m\u001b[0;34m)\u001b[0m\u001b[0;34m\u001b[0m\u001b[0m\n\u001b[0m",
      "\u001b[0;32m~/anaconda2/envs/egpu/lib/python3.6/site-packages/sklearn/pipeline.py\u001b[0m in \u001b[0;36mget_feature_names\u001b[0;34m(self)\u001b[0m\n\u001b[1;32m    687\u001b[0m                 raise AttributeError(\"Transformer %s (type %s) does not \"\n\u001b[1;32m    688\u001b[0m                                      \u001b[0;34m\"provide get_feature_names.\"\u001b[0m\u001b[0;34m\u001b[0m\u001b[0m\n\u001b[0;32m--> 689\u001b[0;31m                                      % (str(name), type(trans).__name__))\n\u001b[0m\u001b[1;32m    690\u001b[0m             feature_names.extend([name + \"__\" + f for f in\n\u001b[1;32m    691\u001b[0m                                   trans.get_feature_names()])\n",
      "\u001b[0;31mAttributeError\u001b[0m: Transformer track_duration_ms (type ItemSelector) does not provide get_feature_names."
     ]
    }
   ],
   "source": [
    "len(vectorizer.get_feature_names())"
   ]
  },
  {
   "cell_type": "markdown",
   "metadata": {},
   "source": [
    "The dataset has been split, which is great. However, in order to better simulate real world situations, we need to build a test set with a lot more negative samples than there are positive samples. In the split above, there are equal number of positive and negative samples, so it'll be easy for the algorithm to perform. Below we build a more robust test set"
   ]
  },
  {
   "cell_type": "code",
   "execution_count": null,
   "metadata": {},
   "outputs": [],
   "source": [
    "X_train.columns"
   ]
  },
  {
   "cell_type": "code",
   "execution_count": null,
   "metadata": {},
   "outputs": [],
   "source": [
    "X_test_refined.head()"
   ]
  },
  {
   "cell_type": "code",
   "execution_count": null,
   "metadata": {},
   "outputs": [],
   "source": [
    "y_test.head()\n",
    "# y_test[y_test == 1].head()"
   ]
  },
  {
   "cell_type": "code",
   "execution_count": null,
   "metadata": {},
   "outputs": [],
   "source": [
    "dataset.loc[X_test.head().index]"
   ]
  },
  {
   "cell_type": "code",
   "execution_count": null,
   "metadata": {},
   "outputs": [],
   "source": [
    "# 1. Calculate metric only on test set using the positive samples\n",
    "#     a. Obtain unique playlists in the test set\n",
    "#     b. For each playlist, obtain the positve songs.\n",
    "#     c. Set both `target` and `prediction` as lists of the positive songs\n",
    "#     d. For each playlist, calculate the r_precision. r_precision comes from the metrics.py file in the repo.\n",
    "\n",
    "# 2. Train the X_train on the classifier. Obtain predictions for X_test\n",
    "\n",
    "# 3. Repeat 1 above, now setting `predictions` as the list of songs \"ranked by probability\".\n",
    "\n",
    "# 4. Calculate the r_precision metric based on your predicitons!"
   ]
  },
  {
   "cell_type": "code",
   "execution_count": null,
   "metadata": {},
   "outputs": [],
   "source": [
    "r_precisions = []\n",
    "for pid, df in tqdm(X_test.groupby([\"playlist_pid\"])):\n",
    "    probs = y_test.loc[df.index]  # change y_test to the output probs from clf\n",
    "    targets = dataset.loc[probs[probs == 1].index].track_uri\n",
    "    predictions = dataset.loc[probs[probs > 0.5].index].track_uri.unique()\n",
    "    if len(targets) > 0:\n",
    "        r_precisions.append(r_precision(targets, predictions))\n",
    "np.mean(r_precisions)    "
   ]
  },
  {
   "cell_type": "code",
   "execution_count": null,
   "metadata": {},
   "outputs": [],
   "source": [
    "X_train_norm = (X_train-X_train.mean())/X_train.std()\n",
    "X_test_norm = (X_test-X_test.mean())/X_test.std()"
   ]
  },
  {
   "cell_type": "code",
   "execution_count": null,
   "metadata": {},
   "outputs": [],
   "source": [
    "X_train_norm.head()"
   ]
  },
  {
   "cell_type": "code",
   "execution_count": null,
   "metadata": {},
   "outputs": [],
   "source": [
    "X_test_norm.head()"
   ]
  },
  {
   "cell_type": "code",
   "execution_count": null,
   "metadata": {},
   "outputs": [],
   "source": [
    "lr_clf = LogisticRegression()\n",
    "lr_clf = lr_clf.fit(X_train_norm, y_train)"
   ]
  },
  {
   "cell_type": "code",
   "execution_count": null,
   "metadata": {},
   "outputs": [],
   "source": [
    "# y_prob = lr_clf.predict_proba(X_test)\n",
    "y_prob = pd.DataFrame(lr_clf.predict_proba(X_test_norm), index=y_test.index)"
   ]
  },
  {
   "cell_type": "code",
   "execution_count": null,
   "metadata": {},
   "outputs": [],
   "source": [
    "y_prob.head(10)"
   ]
  },
  {
   "cell_type": "code",
   "execution_count": null,
   "metadata": {},
   "outputs": [],
   "source": [
    "y_test.head(10)"
   ]
  },
  {
   "cell_type": "code",
   "execution_count": null,
   "metadata": {},
   "outputs": [],
   "source": [
    "y_pred = y_prob.idxmax(axis=1)"
   ]
  },
  {
   "cell_type": "code",
   "execution_count": null,
   "metadata": {},
   "outputs": [],
   "source": [
    "r_precisions = []\n",
    "for pid, df in tqdm(X_test.groupby([\"playlist_pid\"])):\n",
    "    labels = y_test.loc[df.index]  # change y_test to the output probs from clf\n",
    "    preds = y_pred.loc[df.index]\n",
    "    targets = dataset.loc[labels[labels == 1].index].track_uri\n",
    "    predictions = dataset.loc[preds[preds == 1].index].track_uri.unique()\n",
    "    if len(targets) > 0:\n",
    "        r_precisions.append(r_precision(targets, predictions))\n",
    "np.mean(r_precisions)    "
   ]
  },
  {
   "cell_type": "code",
   "execution_count": null,
   "metadata": {},
   "outputs": [],
   "source": [
    "X_test_refined = pd.DataFrame([])\n",
    "r_precisions = []\n",
    "pbar = tqdm(data_test.groupby(['playlist_pid']))\n",
    "for pid, df in pbar:\n",
    "    labels = y_test.loc[df.index]\n",
    "    targets = dataset.loc[labels.index].track_duration_ms\n",
    "    positive_targets = dataset.loc[labels[labels == 1].index].index\n",
    "    # trained_idx = set(y_train[y_train == 1].index) - set(df.index)\n",
    "    # Obtain all tracks from dataset which are not in the playlist under consideration\n",
    "    #     negative_tracks = dataset.loc[X_train[(X_train.playlist_pid != pid)]\n",
    "    #                                   .index].track_duration_ms\n",
    "    negative_tracks = dataset.loc[X_test[(X_test.playlist_pid != pid)]\n",
    "                                  .index].track_duration_ms\n",
    "    # trained_tracks = X_train.loc[y_train.loc[y_train[y_train==1].index].index].track_uri\n",
    "    new_df = df.drop('track_duration_ms', axis=1)\n",
    "    new_test = negative_tracks.append(targets)\n",
    "    new_df = pd.concat([new_df.head(1)] * len(new_test))\n",
    "    test_playlist_tracks = pd.concat(\n",
    "        [new_df.reset_index(drop=True), new_test.reset_index(drop=True)],\n",
    "        axis=1).set_index(new_test.index)\n",
    "    # from IPython.core.debugger import set_trace; set_trace()\n",
    "    test_playlist_tracks = (test_playlist_tracks-test_playlist_tracks.mean())/(test_playlist_tracks.std()+1e-8)\n",
    "    X_test_refined = X_test_refined.append(test_playlist_tracks)\n",
    "    y_prob = pd.DataFrame(\n",
    "        lr_clf.predict_proba(test_playlist_tracks),\n",
    "        index=test_playlist_tracks.index)\n",
    "    y_prob = y_prob.sort_values(by=[1], ascending=False)\n",
    "    if len(positive_targets) > 0:\n",
    "        r_precisions.append(r_precision(positive_targets, y_prob.index))\n",
    "    pbar.set_description(\"{}\".format(np.mean(r_precisions)))\n",
    "    # from IPython.core.debugger import set_trace; set_trace()"
   ]
  },
  {
   "cell_type": "code",
   "execution_count": null,
   "metadata": {},
   "outputs": [],
   "source": [
    "np.unique(r_precisions, return_counts=True)"
   ]
  },
  {
   "cell_type": "code",
   "execution_count": null,
   "metadata": {},
   "outputs": [],
   "source": [
    "np.mean(r_precisions)"
   ]
  },
  {
   "cell_type": "markdown",
   "metadata": {},
   "source": [
    "Question: Do playlist and track duration interact to influence whether a song should belong to a playlist `(match=1)` or whether a song should not belong to a playlist `(match=0)`?"
   ]
  },
  {
   "cell_type": "code",
   "execution_count": null,
   "metadata": {},
   "outputs": [],
   "source": [
    "(dataset[dataset.match==1].playlist_duration_ms/dataset[dataset.match==1].playlist_num_tracks)"
   ]
  },
  {
   "cell_type": "code",
   "execution_count": null,
   "metadata": {},
   "outputs": [],
   "source": [
    "plt.scatter(dataset[dataset.match == 1].playlist_duration_ms /\n",
    "            dataset[dataset.match == 1].playlist_num_tracks,\n",
    "            dataset[dataset.match == 1].track_duration_ms)\n",
    "plt.scatter(dataset[dataset.match == 0].playlist_duration_ms /\n",
    "            dataset[dataset.match == 0].playlist_num_tracks,\n",
    "            dataset[dataset.match == 0].track_duration_ms)\n",
    "plt.xlabel('Average Track Duration')\n",
    "plt.ylabel('Track Duration')\n"
   ]
  },
  {
   "cell_type": "markdown",
   "metadata": {},
   "source": [
    "A trend which might not be that strong to notice is that as the average track duration increases for a playlist, the propensity to see a track of long duration increases. However, this isn't the case with negative sample playlists, where in playlist of short length very long tracks can still be detected."
   ]
  },
  {
   "cell_type": "code",
   "execution_count": null,
   "metadata": {},
   "outputs": [],
   "source": [
    "plt.hist(dataset[dataset.match==1].playlist_duration_ms)\n",
    "plt.hist(dataset[dataset.match==0].playlist_duration_ms)"
   ]
  },
  {
   "cell_type": "markdown",
   "metadata": {},
   "source": [
    "https://stackoverflow.com/questions/49018652/how-to-combine-labelbinarizer-and-onehotencoder-in-pipeline-in-python-for-catego \n"
   ]
  }
 ],
 "metadata": {
  "kernelspec": {
   "display_name": "Python 3",
   "language": "python",
   "name": "python3"
  },
  "language_info": {
   "codemirror_mode": {
    "name": "ipython",
    "version": 3
   },
   "file_extension": ".py",
   "mimetype": "text/x-python",
   "name": "python",
   "nbconvert_exporter": "python",
   "pygments_lexer": "ipython3",
   "version": "3.6.4"
  }
 },
 "nbformat": 4,
 "nbformat_minor": 2
}
